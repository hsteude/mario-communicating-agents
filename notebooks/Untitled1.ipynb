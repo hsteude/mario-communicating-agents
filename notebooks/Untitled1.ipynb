{
 "cells": [
  {
   "cell_type": "code",
   "execution_count": null,
   "id": "adjacent-zealand",
   "metadata": {},
   "outputs": [],
   "source": [
    "import numpy as np\n",
    "import plotly.express as px\n",
    "from sklearn.preprocessing import PolynomialFeatures"
   ]
  },
  {
   "cell_type": "code",
   "execution_count": null,
   "id": "relative-creek",
   "metadata": {},
   "outputs": [],
   "source": [
    "x = np.random.uniform(1, 100, 10000)\n",
    "y = np.random.uniform(1, 100, 10000)\n",
    "z = (5*x*y)"
   ]
  },
  {
   "cell_type": "code",
   "execution_count": null,
   "id": "interstate-administration",
   "metadata": {},
   "outputs": [],
   "source": [
    "import itertools\n",
    "\n",
    "class FormulaFeatureGenerator():\n",
    "    def __init__(self, exponents: list = [-1, -.5, 1, 2]):\n",
    "        self.exponents = exponents\n",
    "        self.small_number = 1e-20\n",
    "    \n",
    "    def fit(self, X: np.array = np.arange(0,20).reshape(10,2)):\n",
    "        num_vars = X.shape[1]\n",
    "        var_names = [f'x{i}' for i in range(num_vars)]\n",
    "        feature_names_list = [[f'{x}^({e})' if e < 0 else f'x^{e}' for e in self.exponents]\n",
    "                            for x in var_names]\n",
    "        feature_combination = list(itertools.product(*feature_names_list))\n",
    "        self.feature_names = ['c']+['*'.join(le) for le in feature_combination]\n",
    "    \n",
    "    def get_feature_names(self):\n",
    "        return self.feature_names\n",
    "\n",
    "    def transform(self, x: np.array = np.arange(0, 10)):\n",
    "        x = np.array([xi if xi != 0 else xi + self.small_number for xi in x])\n",
    "        x_new = np.zeros((x.shape[0], len(self.exponents)))\n",
    "        for i, e in enumerate(self.exponents):\n",
    "            x_new[:, i] = [xi**(e) for xi in x]\n",
    "        return x_new\n",
    "        "
   ]
  },
  {
   "cell_type": "code",
   "execution_count": null,
   "id": "automotive-southwest",
   "metadata": {},
   "outputs": [],
   "source": [
    "ffg = FormulaFeatureGenerator(exponents=[-5, 3])\n",
    "ffg.fit(np.arange(0,20).reshape(-,2))\n",
    "print(ffg.get_feature_names())\n"
   ]
  },
  {
   "cell_type": "code",
   "execution_count": null,
   "id": "sonic-inclusion",
   "metadata": {},
   "outputs": [],
   "source": []
  },
  {
   "cell_type": "code",
   "execution_count": null,
   "id": "dress-farming",
   "metadata": {},
   "outputs": [],
   "source": []
  },
  {
   "cell_type": "code",
   "execution_count": null,
   "id": "robust-sussex",
   "metadata": {},
   "outputs": [],
   "source": [
    "list(enumerate(np.arange(5, 10)))"
   ]
  },
  {
   "cell_type": "code",
   "execution_count": null,
   "id": "sacred-floor",
   "metadata": {},
   "outputs": [],
   "source": [
    "1^(-1)"
   ]
  },
  {
   "cell_type": "code",
   "execution_count": null,
   "id": "marked-jacket",
   "metadata": {},
   "outputs": [],
   "source": [
    "[xi^(2) for xi in np.arange(0, 10)]"
   ]
  },
  {
   "cell_type": "code",
   "execution_count": null,
   "id": "champion-nursery",
   "metadata": {},
   "outputs": [],
   "source": [
    "ffg.transform()"
   ]
  },
  {
   "cell_type": "code",
   "execution_count": null,
   "id": "static-officer",
   "metadata": {},
   "outputs": [],
   "source": [
    "from sklearn.preprocessing import PolynomialFeatures\n",
    "from sklearn import linear_model\n",
    "\n",
    "\n",
    "X = np.column_stack((x,y))\n",
    "poly = PolynomialFeatures(degree=2)\n",
    "X_ = poly.fit_transform(X)\n",
    "\n",
    "clf = linear_model.Lasso()\n",
    "clf.fit(X_, z)\n",
    "clf.predict(X_)\n",
    "# print(clf.predict(X_))"
   ]
  },
  {
   "cell_type": "code",
   "execution_count": null,
   "id": "suburban-coaching",
   "metadata": {},
   "outputs": [],
   "source": [
    "clf.score(X_, z)"
   ]
  },
  {
   "cell_type": "code",
   "execution_count": null,
   "id": "light-manhattan",
   "metadata": {},
   "outputs": [],
   "source": [
    "clf.coef_"
   ]
  },
  {
   "cell_type": "code",
   "execution_count": null,
   "id": "italian-heath",
   "metadata": {},
   "outputs": [],
   "source": [
    "poly.get_feature_names()"
   ]
  },
  {
   "cell_type": "code",
   "execution_count": null,
   "id": "tropical-kingdom",
   "metadata": {},
   "outputs": [],
   "source": [
    "X_.shape"
   ]
  },
  {
   "cell_type": "code",
   "execution_count": null,
   "id": "checked-inflation",
   "metadata": {},
   "outputs": [],
   "source": [
    "poly.get_feature_names()"
   ]
  },
  {
   "cell_type": "code",
   "execution_count": null,
   "id": "seasonal-price",
   "metadata": {},
   "outputs": [],
   "source": [
    "X_.shape"
   ]
  },
  {
   "cell_type": "code",
   "execution_count": null,
   "id": "virtual-nature",
   "metadata": {},
   "outputs": [],
   "source": [
    "X[0:10,:]"
   ]
  },
  {
   "cell_type": "code",
   "execution_count": null,
   "id": "pharmaceutical-variable",
   "metadata": {},
   "outputs": [],
   "source": []
  }
 ],
 "metadata": {
  "hide_input": false,
  "kernelspec": {
   "display_name": "mario",
   "language": "python",
   "name": "mario"
  },
  "language_info": {
   "codemirror_mode": {
    "name": "ipython",
    "version": 3
   },
   "file_extension": ".py",
   "mimetype": "text/x-python",
   "name": "python",
   "nbconvert_exporter": "python",
   "pygments_lexer": "ipython3",
   "version": "3.9.1"
  }
 },
 "nbformat": 4,
 "nbformat_minor": 5
}
