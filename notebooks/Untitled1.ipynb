{
 "cells": [
  {
   "cell_type": "code",
   "execution_count": null,
   "id": "defined-portal",
   "metadata": {},
   "outputs": [],
   "source": [
    "import numpy as np\n",
    "import pandas as pd\n",
    "import plotly.express as px\n",
    "from sklearn.preprocessing import PolynomialFeatures"
   ]
  },
  {
   "cell_type": "code",
   "execution_count": null,
   "id": "sustained-language",
   "metadata": {},
   "outputs": [],
   "source": []
  },
  {
   "cell_type": "code",
   "execution_count": null,
   "id": "fresh-mount",
   "metadata": {},
   "outputs": [],
   "source": [
    "import itertools\n",
    "\n",
    "class FormulaFeatureGenerator():\n",
    "    def __init__(self, exponents: list = [-1, -.5, 0, 1, 2]):\n",
    "        self.exponents = exponents\n",
    "        self.small_number = 0.5\n",
    "    \n",
    "    def fit(self, x: np.array):\n",
    "        self.var_list = np.arange(x.shape[1])\n",
    "        var_exps_lists = [[(v, e) for e in self.exponents] for v in self.var_list]\n",
    "        self.combinations = list(itertools.product(*var_exps_lists))\n",
    "    \n",
    "    def get_feature_names(self):\n",
    "        assert hasattr(self, 'combinations'), 'call fit method first'\n",
    "        feature_names = ['*'.join([f'x_{c[i][0]}^{c[i][1]}' for i in self.var_list])\n",
    "                        for c in self.combinations]\n",
    "        return feature_names\n",
    "    \n",
    "    def _create_single_feature(self, x: np.array, tup: tuple):\n",
    "        x[x == 0] = self.small_number\n",
    "        return [np.prod([float(x[i, j])**ei for j, ei in tup]) for i in range(x.shape[0])]\n",
    "\n",
    "    def transform(self, x: np.array):\n",
    "        x_new = np.zeros((x.shape[0], len(self.combinations)))\n",
    "        for i, tup in enumerate(self.combinations):\n",
    "            x_new[:, i] = self._create_single_feature(x, tup)\n",
    "        return x_new\n",
    "    \n",
    "    def fit_transform(self, x):\n",
    "        self.fit(x)\n",
    "        return self.transform(x)"
   ]
  },
  {
   "cell_type": "code",
   "execution_count": null,
   "id": "attractive-superior",
   "metadata": {},
   "outputs": [],
   "source": [
    "ffg = FormulaFeatureGenerator(exponents=[0, 1])"
   ]
  },
  {
   "cell_type": "code",
   "execution_count": null,
   "id": "warming-recovery",
   "metadata": {},
   "outputs": [],
   "source": [
    "# ffg = FormulaFeatureGenerator(exponents=[-1, 0, 1])\n",
    "# x_new = ffg.fit_transform(x)\n",
    "# pd.DataFrame(x_new, columns=ffg.get_feature_names())"
   ]
  },
  {
   "cell_type": "code",
   "execution_count": null,
   "id": "loaded-emission",
   "metadata": {},
   "outputs": [],
   "source": [
    "\n",
    "hasattr(ffg, 'combinations')"
   ]
  },
  {
   "cell_type": "code",
   "execution_count": null,
   "id": "interstate-greek",
   "metadata": {},
   "outputs": [],
   "source": [
    "ffg.get_feature_names()"
   ]
  },
  {
   "cell_type": "code",
   "execution_count": null,
   "id": "prospective-heart",
   "metadata": {},
   "outputs": [],
   "source": [
    "np.random.rand(2)"
   ]
  },
  {
   "cell_type": "code",
   "execution_count": null,
   "id": "absent-scotland",
   "metadata": {},
   "outputs": [],
   "source": [
    "x0 = np.random.uniform(50, 100, 10000)\n",
    "x1 = np.random.uniform(10, 30, 10000)\n",
    "x2 = np.random.uniform(10, 30, 10000)\n",
    "x3 = np.random.uniform(10, 30, 10000)\n",
    "\n",
    "z = x1\n",
    "px.scatter_3d(x=x1, y=x2, z=x3, color=z)"
   ]
  },
  {
   "cell_type": "code",
   "execution_count": null,
   "id": "curious-administration",
   "metadata": {},
   "outputs": [],
   "source": [
    "from sklearn.preprocessing import PolynomialFeatures\n",
    "from sklearn import linear_model\n",
    "\n",
    "\n",
    "X = np.column_stack((x0, x1, x2, x3))\n",
    "ffg = FormulaFeatureGenerator(exponents=[0, 1])\n",
    "X_ = ffg.fit_transform(X)\n",
    "\n",
    "clf = linear_model.Lasso(max_iter=100000)\n",
    "clf.fit(X_, z)\n",
    "clf.score(X_, z)"
   ]
  },
  {
   "cell_type": "code",
   "execution_count": null,
   "id": "acknowledged-salvation",
   "metadata": {},
   "outputs": [],
   "source": [
    "ffg.get_feature_names()"
   ]
  },
  {
   "cell_type": "code",
   "execution_count": null,
   "id": "individual-reasoning",
   "metadata": {},
   "outputs": [],
   "source": [
    "X_[:,4]"
   ]
  },
  {
   "cell_type": "code",
   "execution_count": null,
   "id": "common-cornwall",
   "metadata": {},
   "outputs": [],
   "source": [
    "x1"
   ]
  },
  {
   "cell_type": "code",
   "execution_count": null,
   "id": "seasonal-immigration",
   "metadata": {},
   "outputs": [],
   "source": [
    "z"
   ]
  },
  {
   "cell_type": "code",
   "execution_count": null,
   "id": "saving-shopper",
   "metadata": {},
   "outputs": [],
   "source": [
    "clf.coef_"
   ]
  },
  {
   "cell_type": "code",
   "execution_count": null,
   "id": "bottom-premium",
   "metadata": {},
   "outputs": [],
   "source": [
    "ffg.get_feature_names()"
   ]
  },
  {
   "cell_type": "code",
   "execution_count": null,
   "id": "geographic-spanking",
   "metadata": {},
   "outputs": [],
   "source": [
    "df = pd.DataFrame(X_, columns=ffg.get_feature_names())"
   ]
  },
  {
   "cell_type": "code",
   "execution_count": null,
   "id": "spanish-routine",
   "metadata": {},
   "outputs": [],
   "source": [
    "df.columns"
   ]
  },
  {
   "cell_type": "code",
   "execution_count": null,
   "id": "neural-ballot",
   "metadata": {},
   "outputs": [],
   "source": [
    "df['x0^-1*x1^0'] + df['x0^0*x1^-1']"
   ]
  },
  {
   "cell_type": "code",
   "execution_count": null,
   "id": "gorgeous-senate",
   "metadata": {},
   "outputs": [],
   "source": [
    "z"
   ]
  },
  {
   "cell_type": "code",
   "execution_count": null,
   "id": "interim-vanilla",
   "metadata": {},
   "outputs": [],
   "source": [
    "X_.shape"
   ]
  },
  {
   "cell_type": "code",
   "execution_count": null,
   "id": "occupational-bubble",
   "metadata": {},
   "outputs": [],
   "source": [
    "X[0:10,:]"
   ]
  },
  {
   "cell_type": "code",
   "execution_count": null,
   "id": "adjacent-thinking",
   "metadata": {},
   "outputs": [],
   "source": []
  }
 ],
 "metadata": {
  "hide_input": false,
  "kernelspec": {
   "display_name": "mario",
   "language": "python",
   "name": "mario"
  },
  "language_info": {
   "codemirror_mode": {
    "name": "ipython",
    "version": 3
   },
   "file_extension": ".py",
   "mimetype": "text/x-python",
   "name": "python",
   "nbconvert_exporter": "python",
   "pygments_lexer": "ipython3",
   "version": "3.9.1"
  }
 },
 "nbformat": 4,
 "nbformat_minor": 5
}
