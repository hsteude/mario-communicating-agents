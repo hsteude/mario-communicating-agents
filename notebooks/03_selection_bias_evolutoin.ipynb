{
 "cells": [
  {
   "cell_type": "code",
   "execution_count": null,
   "metadata": {},
   "outputs": [],
   "source": [
    "pip list | grep tensor"
   ]
  },
  {
   "cell_type": "code",
   "execution_count": null,
   "metadata": {},
   "outputs": [],
   "source": [
    "import os\n",
    "os.chdir('..')"
   ]
  },
  {
   "cell_type": "code",
   "execution_count": null,
   "metadata": {},
   "outputs": [],
   "source": [
    "from IPython.core.display import display, HTML\n",
    "display(HTML(\"<style>.container { width:100% !important; }</style>\"))"
   ]
  },
  {
   "cell_type": "code",
   "execution_count": null,
   "metadata": {},
   "outputs": [],
   "source": [
    "# import torch\n",
    "# import torchvision\n",
    "# from pytorch_lightning.callbacks import ModelCheckpoint\n",
    "# from src.model.lit_module import LitModule\n",
    "# from src.data.dataset import VideoLabelDataset\n",
    "import src.constants as const\n",
    "import plotly.graph_objects as go\n",
    "from plotly.subplots import make_subplots\n",
    "# from torch.utils.data import DataLoader\n",
    "# from src.data.dataset import (VideoLabelDataset,\n",
    "#                               VideoFolderPathToTensor,\n",
    "#                               VideoResize)\n",
    "import plotly\n",
    "import numpy as np\n",
    "import pandas as pd\n",
    "import yaml\n",
    "import os\n",
    "# import tensorflow as tf\n",
    "import tensorflow.compat.v1 as tf\n",
    "tf.disable_v2_behavior()\n",
    "%load_ext autoreload\n",
    "%autoreload 2"
   ]
  },
  {
   "cell_type": "code",
   "execution_count": null,
   "metadata": {},
   "outputs": [],
   "source": [
    "!which python"
   ]
  },
  {
   "cell_type": "code",
   "execution_count": null,
   "metadata": {},
   "outputs": [],
   "source": [
    "def get_df_from_selection_bias_logs(version_str='lightning_logs/version_11/'):\n",
    "    dirs = [d for d in os.listdir(version_str) if 'selection_bias' in d]\n",
    "    event_file_paths = []\n",
    "    for d in dirs:\n",
    "        file = os.listdir(f'{version_str}{d}')[0]\n",
    "        event_file_paths.append(f'{version_str}{d}/{file}')\n",
    "    data = {}\n",
    "    for p, d in zip(event_file_paths, dirs):\n",
    "        val = []\n",
    "        for event in tf.train.summary_iterator(p):\n",
    "            for value in event.summary.value:\n",
    "                if value.HasField('simple_value'):\n",
    "                    val.append(value.simple_value)\n",
    "        data.update({d:val})\n",
    "    return pd.DataFrame(data)\n",
    "\n",
    "def rename_columns(bias_df):\n",
    "    return bias_df.rename(columns={\n",
    "        \"selection_bias_dec_0_lat_neu0\": \"selection_bias_dec0_lat_neu0\",\n",
    "        \"selection_bias_dec_0_lat_neu2\": \"selection_bias_dec0_lat_neu2\",\n",
    "        \"selection_bias_dec_0_lat_neu1\": \"selection_bias_dec0_lat_neu1\"\n",
    "    })"
   ]
  },
  {
   "cell_type": "code",
   "execution_count": null,
   "metadata": {},
   "outputs": [],
   "source": [
    "df_bias = get_df_from_selection_bias_logs()\n",
    "df_bias = rename_columns(df_bias)\n",
    "df_bias.head()"
   ]
  },
  {
   "cell_type": "code",
   "execution_count": null,
   "metadata": {},
   "outputs": [],
   "source": [
    "decoder_strs = [f'dec{c}' for c in range(len(const.HIDDEN_STATE_COLS))]\n",
    "decoder_strs_dct = {d: sorted([c for c in df_bias.columns if d in c]) for d in decoder_strs}\n",
    "decoder_strs_dct"
   ]
  },
  {
   "cell_type": "code",
   "execution_count": null,
   "metadata": {},
   "outputs": [],
   "source": []
  },
  {
   "cell_type": "code",
   "execution_count": null,
   "metadata": {},
   "outputs": [],
   "source": [
    "10000/3"
   ]
  },
  {
   "cell_type": "code",
   "execution_count": null,
   "metadata": {},
   "outputs": [],
   "source": [
    "fig = make_subplots(rows=1, cols=3, shared_yaxes=True)\n",
    "colors = ['#1f77b4','#ff7f0e', '#2ca02c']\n",
    "for i, d in enumerate(decoder_strs):\n",
    "    for c, color in zip(decoder_strs_dct[d], colors):\n",
    "        fig.add_trace(go.Scatter(x=df_bias.index, y=df_bias[c],\n",
    "                            mode='lines',\n",
    "                            marker_color=color,\n",
    "                            name=c.replace('_', ' ')), row=1, col=i+1)\n",
    "fig.update_xaxes(title_text='Training step')\n",
    "fig.update_layout(title_text=\"Selection bias during training\", width=1800)\n",
    "fig.update_yaxes(title_text=\"Selection bias activation\", col=1)\n",
    "fig.show()"
   ]
  },
  {
   "cell_type": "code",
   "execution_count": null,
   "metadata": {},
   "outputs": [],
   "source": [
    "df_bias_ext = get_df_from_selection_bias_logs(version_str='lightning_logs/version_16/')\n",
    "df_bias_ext = rename_columns(df_bias_ext)\n",
    "fig = make_subplots(rows=1, cols=3, shared_yaxes=True)\n",
    "colors = ['#1f77b4','#ff7f0e', '#2ca02c']\n",
    "for i, d in enumerate(decoder_strs):\n",
    "    for c, color in zip(decoder_strs_dct[d], colors):\n",
    "        fig.add_trace(go.Scatter(x=df_bias_ext.index, y=df_bias_ext[c],\n",
    "                            mode='lines',\n",
    "                            marker_color=color,\n",
    "                            name=c.replace('_', ' ')), row=1, col=i+1)\n",
    "fig.update_xaxes(title_text='Training step')\n",
    "fig.update_layout(title_text=\"Selection bias during training\", width=1500)\n",
    "fig.update_yaxes(title_text=\"Selection bias activation\", col=1)\n",
    "fig.show()"
   ]
  },
  {
   "cell_type": "code",
   "execution_count": null,
   "metadata": {},
   "outputs": [],
   "source": []
  },
  {
   "cell_type": "code",
   "execution_count": null,
   "metadata": {},
   "outputs": [],
   "source": [
    "df_new = df_bias.append(df_bias_ext).reset_index(drop=True)"
   ]
  },
  {
   "cell_type": "code",
   "execution_count": null,
   "metadata": {},
   "outputs": [],
   "source": [
    "df_new.info()"
   ]
  },
  {
   "cell_type": "code",
   "execution_count": null,
   "metadata": {},
   "outputs": [],
   "source": [
    "fig = make_subplots(rows=1, cols=3, shared_yaxes=True)\n",
    "colors = ['#1f77b4','#ff7f0e', '#2ca02c']\n",
    "for i, d in enumerate(decoder_strs):\n",
    "    for c, color in zip(decoder_strs_dct[d], colors):\n",
    "        fig.add_trace(go.Scatter(x=df_new.index, y=df_new[c],\n",
    "                            mode='lines',\n",
    "                            marker_color=color,\n",
    "                            name=c.replace('_', ' ')), row=1, col=i+1)\n",
    "fig.update_xaxes(title_text='Training step')\n",
    "fig.update_layout(title_text=\"Selection bias during training\", width=1500)\n",
    "fig.update_yaxes(title_text=\"Selection bias activation\", col=1)\n",
    "fig.show()"
   ]
  },
  {
   "cell_type": "code",
   "execution_count": null,
   "metadata": {},
   "outputs": [],
   "source": [
    "from graphviz import Digraph\n",
    "import torch\n",
    "from torch.autograd import Variable\n",
    "\n",
    "\n",
    "def make_dot(var, params):\n",
    "    \"\"\" Produces Graphviz representation of PyTorch autograd graph\n",
    "    \n",
    "    Blue nodes are the Variables that require grad, orange are Tensors\n",
    "    saved for backward in torch.autograd.Function\n",
    "    \n",
    "    Args:\n",
    "        var: output Variable\n",
    "        params: dict of (name, Variable) to add names to node that\n",
    "            require grad (TODO: make optional)\n",
    "    \"\"\"\n",
    "    param_map = {id(v): k for k, v in params.items()}\n",
    "    print(param_map)\n",
    "    \n",
    "    node_attr = dict(style='filled',\n",
    "                     shape='box',\n",
    "                     align='left',\n",
    "                     fontsize='12',\n",
    "                     ranksep='0.1',\n",
    "                     height='0.2')\n",
    "    dot = Digraph(node_attr=node_attr, graph_attr=dict(size=\"12,12\"))\n",
    "    seen = set()\n",
    "    \n",
    "    def size_to_str(size):\n",
    "        return '('+(', ').join(['%d'% v for v in size])+')'\n",
    "\n",
    "    def add_nodes(var):\n",
    "        if var not in seen:\n",
    "            if torch.is_tensor(var):\n",
    "                dot.node(str(id(var)), size_to_str(var.size()), fillcolor='orange')\n",
    "            elif hasattr(var, 'variable'):\n",
    "                u = var.variable\n",
    "                node_name = '%s\\n %s' % (param_map.get(id(u)), size_to_str(u.size()))\n",
    "                dot.node(str(id(var)), node_name, fillcolor='lightblue')\n",
    "            else:\n",
    "                dot.node(str(id(var)), str(type(var).__name__))\n",
    "            seen.add(var)\n",
    "            if hasattr(var, 'next_functions'):\n",
    "                for u in var.next_functions:\n",
    "                    if u[0] is not None:\n",
    "                        dot.edge(str(id(u[0])), str(id(var)))\n",
    "                        add_nodes(u[0])\n",
    "            if hasattr(var, 'saved_tensors'):\n",
    "                for t in var.saved_tensors:\n",
    "                    dot.edge(str(id(t)), str(id(var)))\n",
    "                    add_nodes(t)\n",
    "    add_nodes(var.grad_fn)\n",
    "    return dot\n",
    "\n",
    "from torchvision import models\n",
    "inputs = torch.randn(1,3,224,224)\n",
    "\n",
    "resnet18 = models.resnet18()\n",
    "y = resnet18(Variable(inputs))\n",
    "# print(y)\n",
    "\n",
    "g = make_dot(y, resnet18.state_dict())\n",
    "g.view()"
   ]
  },
  {
   "cell_type": "code",
   "execution_count": null,
   "metadata": {},
   "outputs": [],
   "source": [
    "videos"
   ]
  },
  {
   "cell_type": "code",
   "execution_count": null,
   "metadata": {},
   "outputs": [],
   "source": []
  }
 ],
 "metadata": {
  "hide_input": false,
  "kernelspec": {
   "display_name": "mario-tf",
   "language": "python",
   "name": "mario-tf"
  },
  "language_info": {
   "codemirror_mode": {
    "name": "ipython",
    "version": 3
   },
   "file_extension": ".py",
   "mimetype": "text/x-python",
   "name": "python",
   "nbconvert_exporter": "python",
   "pygments_lexer": "ipython3",
   "version": "3.8.5"
  }
 },
 "nbformat": 4,
 "nbformat_minor": 4
}
