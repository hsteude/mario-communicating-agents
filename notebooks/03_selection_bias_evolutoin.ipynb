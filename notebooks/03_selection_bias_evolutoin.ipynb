{
 "cells": [
  {
   "cell_type": "markdown",
   "metadata": {},
   "source": [
    "### Plotting training stats\n",
    "\n",
    "In this notebook we plot the evolutions of the filter parameters during model training. Note that reading the lightning logs requires tensorflow to be installed. Since there are conflicting requriements in pytorch and tensorflow I reccomend using a new conda environmen if you want tu run this notebook. \n",
    "```\n",
    "conda create -n mario-tf python=3.9\n",
    "conda acitvate mario-tf\n",
    "pip install tensorflow ipython jupyter plotly pandas numpy\n",
    "jupyter notebook\n",
    "```"
   ]
  },
  {
   "cell_type": "code",
   "execution_count": null,
   "metadata": {},
   "outputs": [],
   "source": [
    "import os\n",
    "os.chdir('..')"
   ]
  },
  {
   "cell_type": "code",
   "execution_count": null,
   "metadata": {},
   "outputs": [],
   "source": [
    "from IPython.core.display import display, HTML\n",
    "display(HTML(\"<style>.container { width:100% !important; }</style>\"))"
   ]
  },
  {
   "cell_type": "code",
   "execution_count": null,
   "metadata": {},
   "outputs": [],
   "source": [
    "import src.constants as const\n",
    "import plotly.graph_objects as go\n",
    "from plotly.subplots import make_subplots\n",
    "import plotly\n",
    "import numpy as np\n",
    "import pandas as pd\n",
    "import os\n",
    "import tensorflow.compat.v1 as tf\n",
    "tf.disable_v2_behavior()\n",
    "%load_ext autoreload\n",
    "%autoreload 2"
   ]
  },
  {
   "cell_type": "code",
   "execution_count": null,
   "metadata": {},
   "outputs": [],
   "source": [
    "def get_df_from_selection_bias_logs(version_str='lightning_logs/mario-const-speed/'):\n",
    "    dirs = [d for d in os.listdir(version_str) if 'selection_bias' in d]\n",
    "    event_file_paths = []\n",
    "    for d in dirs:\n",
    "        file = os.listdir(f'{version_str}{d}')[0]\n",
    "        event_file_paths.append(f'{version_str}{d}/{file}')\n",
    "    data = {}\n",
    "    for p, d in zip(event_file_paths, dirs):\n",
    "        val = []\n",
    "        for event in tf.train.summary_iterator(p):\n",
    "            for value in event.summary.value:\n",
    "                if value.HasField('simple_value'):\n",
    "                    val.append(value.simple_value)\n",
    "        data.update({d:val})\n",
    "    return pd.DataFrame(data)"
   ]
  },
  {
   "cell_type": "code",
   "execution_count": null,
   "metadata": {},
   "outputs": [],
   "source": [
    "df_bias = get_df_from_selection_bias_logs()\n",
    "df_bias.head()"
   ]
  },
  {
   "cell_type": "code",
   "execution_count": null,
   "metadata": {},
   "outputs": [],
   "source": [
    "decoder_strs = [f'dec{c}' for c in range(len(const.HIDDEN_STATE_COLS))]\n",
    "decoder_strs_dct = {d: sorted([c for c in df_bias.columns if d in c]) for d in decoder_strs}\n",
    "decoder_strs_dct"
   ]
  },
  {
   "cell_type": "code",
   "execution_count": null,
   "metadata": {},
   "outputs": [],
   "source": [
    "fig = make_subplots(rows=1, cols=3, shared_yaxes=True)\n",
    "colors = ['#1f77b4','#ff7f0e', '#2ca02c', '#d62728']\n",
    "for i, d in enumerate(decoder_strs):\n",
    "    for c, color in zip(decoder_strs_dct[d], colors):\n",
    "        fig.add_trace(go.Scatter(x=df_bias.index, y=df_bias[c],\n",
    "                            mode='lines',\n",
    "                            marker_color=color,\n",
    "                            name=c.replace('_', ' ')), row=1, col=i+1)\n",
    "fig.update_xaxes(title_text='Training step')\n",
    "fig.update_layout(title_text=\"Selection bias during training\")\n",
    "fig.update_yaxes(title_text=\"Selection bias activation\", col=1)\n",
    "fig.show()"
   ]
  },
  {
   "cell_type": "code",
   "execution_count": null,
   "metadata": {},
   "outputs": [],
   "source": [
    "fig = make_subplots(rows=3, cols=1, shared_yaxes=True)\n",
    "for i, d in enumerate(decoder_strs):\n",
    "    for c, color in zip(decoder_strs_dct[d], colors):\n",
    "        fig.add_trace(go.Scatter(x=df_bias.index, y=df_bias[c],\n",
    "                            mode='lines',\n",
    "                            marker_color=color,\n",
    "                            name=c.replace('_', ' ')), row=1+i, col=1)\n",
    "    fig.update_yaxes(title_text=f\"Selection bias decoder {i}\", col=1, row=i+1)\n",
    "fig.update_xaxes(title_text='Training step')\n",
    "fig.update_layout(title_text=\"Selection bias during training\", height=1000)\n",
    "fig.show()"
   ]
  }
 ],
 "metadata": {
  "hide_input": false,
  "kernelspec": {
   "display_name": "Python 3",
   "language": "python",
   "name": "python3"
  },
  "language_info": {
   "codemirror_mode": {
    "name": "ipython",
    "version": 3
   },
   "file_extension": ".py",
   "mimetype": "text/x-python",
   "name": "python",
   "nbconvert_exporter": "python",
   "pygments_lexer": "ipython3",
   "version": "3.9.5"
  }
 },
 "nbformat": 4,
 "nbformat_minor": 4
}
