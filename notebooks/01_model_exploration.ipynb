{
 "cells": [
  {
   "cell_type": "code",
   "execution_count": 1,
   "metadata": {},
   "outputs": [],
   "source": [
    "import os\n",
    "os.chdir('..')"
   ]
  },
  {
   "cell_type": "code",
   "execution_count": 2,
   "metadata": {},
   "outputs": [],
   "source": [
    "%load_ext autoreload\n",
    "%autoreload 2"
   ]
  },
  {
   "cell_type": "code",
   "execution_count": 3,
   "metadata": {},
   "outputs": [],
   "source": [
    "import torch\n",
    "import torchvision\n",
    "from pytorch_lightning.callbacks import ModelCheckpoint\n",
    "from src.model.lit_module import LitModule\n",
    "from src.data.dataset import VideoLabelDataset\n",
    "import src.constants as const\n",
    "from torch.utils.data import DataLoader\n",
    "from src.data.dataset import (VideoLabelDataset,\n",
    "                              VideoFolderPathToTensor,\n",
    "                              VideoResize)"
   ]
  },
  {
   "cell_type": "code",
   "execution_count": 8,
   "metadata": {},
   "outputs": [
    {
     "name": "stdout",
     "output_type": "stream",
     "text": [
      "'epoch=89-step=719.ckpt'\n"
     ]
    }
   ],
   "source": [
    "!ls lightning_logs/version_8/checkpoints/"
   ]
  },
  {
   "cell_type": "code",
   "execution_count": 11,
   "metadata": {},
   "outputs": [],
   "source": [
    "checkpoint_path = './lightning_logs/version_8/checkpoints/epoch=89-step=719.ckpt'"
   ]
  },
  {
   "cell_type": "code",
   "execution_count": 12,
   "metadata": {},
   "outputs": [],
   "source": [
    "model = LitModule.load_from_checkpoint(checkpoint_path)"
   ]
  },
  {
   "cell_type": "code",
   "execution_count": 13,
   "metadata": {},
   "outputs": [],
   "source": [
    "dataset = VideoLabelDataset(\n",
    "            const.LABELS_TABLE_QA_PATH,\n",
    "            img_transform=torchvision.transforms.Compose([\n",
    "                VideoFolderPathToTensor(),\n",
    "                VideoResize(const.IMG_SIZE)]))"
   ]
  },
  {
   "cell_type": "code",
   "execution_count": 14,
   "metadata": {},
   "outputs": [],
   "source": [
    "dataloader = DataLoader(dataset, batch_size=10, num_workers=2)"
   ]
  },
  {
   "cell_type": "code",
   "execution_count": 15,
   "metadata": {},
   "outputs": [],
   "source": [
    "videos, questions, answers, hidden_states  = iter(dataloader).next()"
   ]
  },
  {
   "cell_type": "code",
   "execution_count": 16,
   "metadata": {},
   "outputs": [
    {
     "data": {
      "text/plain": [
       "tensor([[0.9497, 0.3239, 0.4910],\n",
       "        [0.6706, 0.7349, 0.0174],\n",
       "        [0.2884, 0.5717, 0.9576],\n",
       "        [0.2325, 0.5860, 0.2299],\n",
       "        [0.4146, 0.6295, 0.5539],\n",
       "        [0.2018, 0.5891, 0.8390],\n",
       "        [0.8191, 0.4503, 0.4888],\n",
       "        [0.2081, 0.1671, 1.0520],\n",
       "        [0.5869, 0.7015, 0.5755],\n",
       "        [0.4927, 0.1388, 0.6038]], grad_fn=<AddmmBackward>)"
      ]
     },
     "execution_count": 16,
     "metadata": {},
     "output_type": "execute_result"
    }
   ],
   "source": [
    "predictions = model.eval()(videos)\n",
    "predictions"
   ]
  },
  {
   "cell_type": "code",
   "execution_count": 17,
   "metadata": {},
   "outputs": [
    {
     "data": {
      "text/plain": [
       "tensor([[0.9459, 0.0640, 0.4583],\n",
       "        [0.6545, 0.8860, 0.0000],\n",
       "        [0.3412, 0.7331, 0.9167],\n",
       "        [0.2576, 0.5335, 0.2083],\n",
       "        [0.4305, 0.8481, 0.5417],\n",
       "        [0.2704, 0.4198, 0.7917],\n",
       "        [0.8220, 0.6216, 0.5000],\n",
       "        [0.1734, 0.0584, 0.9583],\n",
       "        [0.6361, 0.7802, 0.5833],\n",
       "        [0.5189, 0.0813, 0.6250]], dtype=torch.float64)"
      ]
     },
     "execution_count": 17,
     "metadata": {},
     "output_type": "execute_result"
    }
   ],
   "source": [
    "hidden_states"
   ]
  },
  {
   "cell_type": "code",
   "execution_count": 21,
   "metadata": {},
   "outputs": [
    {
     "data": {
      "text/plain": [
       "tensor(0.0920, grad_fn=<MseLossBackward>)"
      ]
     },
     "execution_count": 21,
     "metadata": {},
     "output_type": "execute_result"
    }
   ],
   "source": [
    "mse_loss = torch.nn.MSELoss(reduction='sum')\n",
    "mse_hidden = mse_loss(predictions[0:2,:].type(torch.float32),\n",
    "                      hidden_states[0:2,:].type(torch.float32))\n",
    "mse_hidden"
   ]
  },
  {
   "cell_type": "code",
   "execution_count": 19,
   "metadata": {},
   "outputs": [
    {
     "data": {
      "text/plain": [
       "73323.68388475002"
      ]
     },
     "execution_count": 19,
     "metadata": {},
     "output_type": "execute_result"
    }
   ],
   "source": [
    "((772.6472 - 543.4424)**2 + (912.8349-996.8575)**2 + (36.0000-37.2697)**2 + \\\n",
    "(627.9586-543.4633)**2 + (1077.1292-996.8958)**2 + (25.0000-37.2711)**2)"
   ]
  },
  {
   "cell_type": "code",
   "execution_count": 20,
   "metadata": {},
   "outputs": [
    {
     "data": {
      "text/plain": [
       "tensor([[0.9497, 0.3239, 0.4910],\n",
       "        [0.6706, 0.7349, 0.0174],\n",
       "        [0.2884, 0.5717, 0.9576],\n",
       "        [0.2325, 0.5860, 0.2299],\n",
       "        [0.4146, 0.6295, 0.5539],\n",
       "        [0.2018, 0.5891, 0.8390],\n",
       "        [0.8191, 0.4503, 0.4888],\n",
       "        [0.2081, 0.1671, 1.0520],\n",
       "        [0.5869, 0.7015, 0.5755],\n",
       "        [0.4927, 0.1388, 0.6038]], grad_fn=<AddmmBackward>)"
      ]
     },
     "execution_count": 20,
     "metadata": {},
     "output_type": "execute_result"
    }
   ],
   "source": [
    "model.eval()(videos)"
   ]
  },
  {
   "cell_type": "code",
   "execution_count": 22,
   "metadata": {},
   "outputs": [
    {
     "data": {
      "text/plain": [
       "tensor([[543.4559, 996.8821,  37.2706],\n",
       "        [543.4633, 996.8958,  37.2711]], grad_fn=<SliceBackward>)"
      ]
     },
     "execution_count": 22,
     "metadata": {},
     "output_type": "execute_result"
    }
   ],
   "source": [
    "predictions[0:2,:]"
   ]
  },
  {
   "cell_type": "code",
   "execution_count": null,
   "metadata": {},
   "outputs": [],
   "source": []
  }
 ],
 "metadata": {
  "kernelspec": {
   "display_name": "Python 3",
   "language": "python",
   "name": "python3"
  },
  "language_info": {
   "codemirror_mode": {
    "name": "ipython",
    "version": 3
   },
   "file_extension": ".py",
   "mimetype": "text/x-python",
   "name": "python",
   "nbconvert_exporter": "python",
   "pygments_lexer": "ipython3",
   "version": "3.9.1"
  }
 },
 "nbformat": 4,
 "nbformat_minor": 4
}
