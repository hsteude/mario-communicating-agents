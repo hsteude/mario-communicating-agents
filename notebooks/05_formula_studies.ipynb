{
 "cells": [
  {
   "cell_type": "code",
   "execution_count": null,
   "id": "62a5a0b7",
   "metadata": {},
   "outputs": [],
   "source": [
    "from IPython.core.display import display, HTML\n",
    "display(HTML(\"<style>.container { width:100% !important; }</style>\"))"
   ]
  },
  {
   "cell_type": "code",
   "execution_count": null,
   "id": "incorrect-discussion",
   "metadata": {},
   "outputs": [],
   "source": [
    "import numpy as np\n",
    "import pandas as pd\n",
    "import plotly.express as px\n",
    "from sklearn import linear_model\n",
    "from sklearn.preprocessing import StandardScaler, MinMaxScaler, MaxAbsScaler\n",
    "import itertools\n",
    "from ipywidgets import interact\n",
    "%load_ext autoreload\n",
    "%autoreload 2"
   ]
  },
  {
   "cell_type": "code",
   "execution_count": null,
   "id": "engaged-findings",
   "metadata": {},
   "outputs": [],
   "source": [
    "class FormulaFeatureGenerator():\n",
    "    def __init__(self, exponents: list = [-1, -.5, 0, 1, 2]):\n",
    "        self.exponents = exponents\n",
    "        self.small_number = 1e-20\n",
    "    \n",
    "    def fit(self, x: np.array):\n",
    "        self.var_list = np.arange(x.shape[1])\n",
    "        var_exps_lists = [[(v, e) for e in self.exponents]\n",
    "                          for v in self.var_list]\n",
    "        self.combinations = list(itertools.product(*var_exps_lists))\n",
    "    \n",
    "    def get_feature_names(self):\n",
    "        assert hasattr(self, 'combinations'), 'call fit method first'\n",
    "        feature_names = ['*'.join([f'x_{c[i][0]}^({c[i][1]})'\n",
    "                                   if c[i][1] != 0 else '1'\n",
    "                                   for i in self.var_list])\n",
    "                        for c in self.combinations]\n",
    "        return feature_names\n",
    "    \n",
    "    def _create_single_feature(self, x: np.array, tup: tuple):\n",
    "        x[x == 0] = self.small_number\n",
    "        return [np.prod([np.real(float(x[i, j])**ei) for j, ei in tup])\n",
    "                for i in range(x.shape[0])]\n",
    "\n",
    "    def transform(self, x: np.array):\n",
    "        x_new = np.zeros((x.shape[0], len(self.combinations)))\n",
    "        for i, tup in enumerate(self.combinations):\n",
    "            x_new[:, i] = self._create_single_feature(x, tup)\n",
    "        return x_new\n",
    "    \n",
    "    def fit_transform(self, x):\n",
    "        self.fit(x)\n",
    "        return self.transform(x)"
   ]
  },
  {
   "cell_type": "code",
   "execution_count": null,
   "id": "difficult-singer",
   "metadata": {},
   "outputs": [],
   "source": [
    "def plot_function(X, z):\n",
    "    fig = px.scatter_3d(x=X[:, 0], y=X[:, 1], z=X[:, 2], color=z)\n",
    "    fig.update_layout(height=500, width=500,\n",
    "                      title='Function vizualization')\n",
    "    fig.show()\n",
    "    \n",
    "def transform_data(X, exponents, scaler=StandardScaler()):\n",
    "    \"\"\"\"\"\"\n",
    "    ffg = FormulaFeatureGenerator(exponents=exponents)\n",
    "    X_ = ffg.fit_transform(X)\n",
    "    X__ = scaler.fit_transform(X_)\n",
    "    return X__, ffg, scaler\n",
    "\n",
    "def fit_model(X__, z, alpha=1):\n",
    "    model = linear_model.Lasso(alpha=alpha, max_iter=10000)\n",
    "    model.fit(X__, z)\n",
    "    return model\n",
    "\n",
    "def get_terms(model, ffg):\n",
    "    non_zero_idx = np.where(model.coef_ != 0)\n",
    "    df_results = pd.DataFrame(dict(names=[ffg.get_feature_names()[i]\n",
    "                                          for i in non_zero_idx[0]],\n",
    "         coefs=[model.coef_[i] for i in non_zero_idx[0]]))\n",
    "    return df_results"
   ]
  },
  {
   "cell_type": "code",
   "execution_count": null,
   "id": "grave-greene",
   "metadata": {},
   "outputs": [],
   "source": [
    "x0 = np.random.uniform(-1, 1, 10000)\n",
    "x1 = np.random.uniform(-1, 1, 10000)\n",
    "x2 = np.random.uniform(-1, 1, 10000)\n",
    "X = np.column_stack((x0, x1, x2))\n",
    "\n",
    "def run(function, exponents, alpha, fit, plot_func):\n",
    "    if fit:\n",
    "        z = eval(function)\n",
    "        X__, ffg, _ = transform_data(X, eval(exponents))\n",
    "        model = fit_model(X__, z, alpha=alpha)\n",
    "        res_df = get_terms(model, ffg)\n",
    "        print('Result: \\n')\n",
    "        print(res_df.to_markdown())\n",
    "        if plot_func:\n",
    "            plot_function(X, z)\n",
    "\n",
    "interact(run, function='x0', exponents='[-1, -.5, 0, 1, 2]',\n",
    "         alpha=[.01, .1, .5, .75, 1, 1.5, 2, 3], fit=False, plot_func=False)\n",
    "\n"
   ]
  },
  {
   "cell_type": "code",
   "execution_count": null,
   "id": "compatible-parameter",
   "metadata": {},
   "outputs": [],
   "source": [
    "pip install tabulate"
   ]
  },
  {
   "cell_type": "code",
   "execution_count": null,
   "id": "focal-evanescence",
   "metadata": {},
   "outputs": [],
   "source": [
    "x0 = np.random.uniform(-1, 1, 10000)\n",
    "x1 = np.random.uniform(-1, 1, 10000)\n",
    "x2 = np.random.uniform(-1, 1, 10000)\n",
    "X = np.column_stack((x0, x1, x2))\n",
    "z = np.array([np.real(float(x)**(-.5)) for x in x0])\n",
    "# X__, ffg, _ = transform_data(X, [-1, -.5, 0, 1])\n",
    "# model = fit_model(X__, z, alpha=.1)\n",
    "# res_df = get_terms(model, ffg)\n",
    "# print('Result: \\n')\n",
    "# print(res_df.to_markdown()) "
   ]
  },
  {
   "cell_type": "code",
   "execution_count": null,
   "id": "architectural-mention",
   "metadata": {},
   "outputs": [],
   "source": [
    "from src.model.formula_features import FormulaFeatureGenerator as FormulaFeatureGenerator2"
   ]
  },
  {
   "cell_type": "code",
   "execution_count": null,
   "id": "welcome-ultimate",
   "metadata": {},
   "outputs": [],
   "source": [
    "np.random.randint(1, 10, 3)"
   ]
  },
  {
   "cell_type": "code",
   "execution_count": null,
   "id": "turkish-length",
   "metadata": {},
   "outputs": [],
   "source": [
    "x = np.random.(1, 10, 16).reshape(-1, 4)\n",
    "ffg = FormulaFeatureGenerator2(exponents=[1])\n",
    "ffg.fit(x)\n",
    "x_trans = ffg.transform(x)"
   ]
  },
  {
   "cell_type": "code",
   "execution_count": null,
   "id": "owned-netherlands",
   "metadata": {},
   "outputs": [],
   "source": [
    "ffg.get_data_frame(x_trans)"
   ]
  },
  {
   "cell_type": "code",
   "execution_count": null,
   "id": "falling-crash",
   "metadata": {},
   "outputs": [],
   "source": [
    "x"
   ]
  },
  {
   "cell_type": "code",
   "execution_count": null,
   "id": "blind-breast",
   "metadata": {},
   "outputs": [],
   "source": [
    "x = np.arange(-100, 100)\n",
    "y = (x - x.mean()) / x.std()\n",
    "import matplotlib.pyplot as plt\n",
    "plt.plot(x,y)"
   ]
  },
  {
   "cell_type": "code",
   "execution_count": null,
   "id": "6e6de656",
   "metadata": {},
   "outputs": [],
   "source": [
    "x = np.arange(-100, 100)\n",
    "y = (x - x.min()) / (x.max() - x.min())\n",
    "import matplotlib.pyplot as plt\n",
    "plt.plot(x,y)"
   ]
  },
  {
   "cell_type": "code",
   "execution_count": null,
   "id": "752434f4",
   "metadata": {},
   "outputs": [],
   "source": []
  }
 ],
 "metadata": {
  "hide_input": false,
  "kernelspec": {
   "display_name": "Python 3",
   "language": "python",
   "name": "python3"
  },
  "language_info": {
   "codemirror_mode": {
    "name": "ipython",
    "version": 3
   },
   "file_extension": ".py",
   "mimetype": "text/x-python",
   "name": "python",
   "nbconvert_exporter": "python",
   "pygments_lexer": "ipython3",
   "version": "3.9.2"
  }
 },
 "nbformat": 4,
 "nbformat_minor": 5
}
