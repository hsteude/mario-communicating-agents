{
 "cells": [
  {
   "cell_type": "code",
   "execution_count": 23,
   "id": "incorrect-discussion",
   "metadata": {},
   "outputs": [],
   "source": [
    "import numpy as np\n",
    "import pandas as pd\n",
    "import plotly.express as px\n",
    "from sklearn import linear_model\n",
    "from sklearn.preprocessing import StandardScaler, MinMaxScaler, MaxAbsScaler\n",
    "import itertools\n",
    "from ipywidgets import interact\n",
    "%load_ext autoreload\n",
    "%autoreload 2"
   ]
  },
  {
   "cell_type": "code",
   "execution_count": 17,
   "id": "engaged-findings",
   "metadata": {},
   "outputs": [],
   "source": [
    "class FormulaFeatureGenerator():\n",
    "    def __init__(self, exponents: list = [-1, -.5, 0, 1, 2]):\n",
    "        self.exponents = exponents\n",
    "        self.small_number = 1e-20\n",
    "    \n",
    "    def fit(self, x: np.array):\n",
    "        self.var_list = np.arange(x.shape[1])\n",
    "        var_exps_lists = [[(v, e) for e in self.exponents]\n",
    "                          for v in self.var_list]\n",
    "        self.combinations = list(itertools.product(*var_exps_lists))\n",
    "    \n",
    "    def get_feature_names(self):\n",
    "        assert hasattr(self, 'combinations'), 'call fit method first'\n",
    "        feature_names = ['*'.join([f'x_{c[i][0]}^({c[i][1]})'\n",
    "                                   if c[i][1] != 0 else '1'\n",
    "                                   for i in self.var_list])\n",
    "                        for c in self.combinations]\n",
    "        return feature_names\n",
    "    \n",
    "    def _create_single_feature(self, x: np.array, tup: tuple):\n",
    "        x[x == 0] = self.small_number\n",
    "        return [np.prod([np.real(float(x[i, j])**ei) for j, ei in tup])\n",
    "                for i in range(x.shape[0])]\n",
    "\n",
    "    def transform(self, x: np.array):\n",
    "        x_new = np.zeros((x.shape[0], len(self.combinations)))\n",
    "        for i, tup in enumerate(self.combinations):\n",
    "            x_new[:, i] = self._create_single_feature(x, tup)\n",
    "        return x_new\n",
    "    \n",
    "    def fit_transform(self, x):\n",
    "        self.fit(x)\n",
    "        return self.transform(x)"
   ]
  },
  {
   "cell_type": "code",
   "execution_count": 18,
   "id": "difficult-singer",
   "metadata": {},
   "outputs": [],
   "source": [
    "def plot_function(X, z):\n",
    "    fig = px.scatter_3d(x=X[:, 0], y=X[:, 1], z=X[:, 2], color=z)\n",
    "    fig.update_layout(height=500, width=500,\n",
    "                      title='Function vizualization')\n",
    "    fig.show()\n",
    "    \n",
    "def transform_data(X, exponents, scaler=StandardScaler()):\n",
    "    \"\"\"\"\"\"\n",
    "    ffg = FormulaFeatureGenerator(exponents=exponents)\n",
    "    X_ = ffg.fit_transform(X)\n",
    "    X__ = scaler.fit_transform(X_)\n",
    "    return X__, ffg, scaler\n",
    "\n",
    "def fit_model(X__, z, alpha=1):\n",
    "    model = linear_model.Lasso(alpha=alpha, max_iter=10000)\n",
    "    model.fit(X__, z)\n",
    "    return model\n",
    "\n",
    "def get_terms(model, ffg):\n",
    "    non_zero_idx = np.where(model.coef_ != 0)\n",
    "    df_results = pd.DataFrame(dict(names=[ffg.get_feature_names()[i]\n",
    "                                          for i in non_zero_idx[0]],\n",
    "         coefs=[model.coef_[i] for i in non_zero_idx[0]]))\n",
    "    return df_results"
   ]
  },
  {
   "cell_type": "code",
   "execution_count": 20,
   "id": "grave-greene",
   "metadata": {},
   "outputs": [
    {
     "data": {
      "application/vnd.jupyter.widget-view+json": {
       "model_id": "7d7163d8c4f642949167f8038c0a404d",
       "version_major": 2,
       "version_minor": 0
      },
      "text/plain": [
       "interactive(children=(Text(value='x0', description='function'), Text(value='[-1, -.5, 0, 1, 2]', description='…"
      ]
     },
     "metadata": {},
     "output_type": "display_data"
    },
    {
     "data": {
      "text/plain": [
       "<function __main__.run(function, exponents, alpha, fit, plot_func)>"
      ]
     },
     "execution_count": 20,
     "metadata": {},
     "output_type": "execute_result"
    }
   ],
   "source": [
    "x0 = np.random.uniform(-1, 1, 10000)\n",
    "x1 = np.random.uniform(-1, 1, 10000)\n",
    "x2 = np.random.uniform(-1, 1, 10000)\n",
    "X = np.column_stack((x0, x1, x2))\n",
    "\n",
    "def run(function, exponents, alpha, fit, plot_func):\n",
    "    if fit:\n",
    "        z = eval(function)\n",
    "        X__, ffg, _ = transform_data(X, eval(exponents))\n",
    "        model = fit_model(X__, z, alpha=alpha)\n",
    "        res_df = get_terms(model, ffg)\n",
    "        print('Result: \\n')\n",
    "        print(res_df.to_markdown())\n",
    "        if plot_func:\n",
    "            plot_function(X, z)\n",
    "\n",
    "interact(run, function='x0', exponents='[-1, -.5, 0, 1, 2]',\n",
    "         alpha=[.01, .1, .5, .75, 1, 1.5, 2, 3], fit=False, plot_func=False)\n",
    "\n"
   ]
  },
  {
   "cell_type": "code",
   "execution_count": 5,
   "id": "compatible-parameter",
   "metadata": {},
   "outputs": [
    {
     "name": "stdout",
     "output_type": "stream",
     "text": [
      "Collecting tabulate\n",
      "  Downloading tabulate-0.8.9-py3-none-any.whl (25 kB)\n",
      "Installing collected packages: tabulate\n",
      "Successfully installed tabulate-0.8.9\n",
      "Note: you may need to restart the kernel to use updated packages.\n"
     ]
    }
   ],
   "source": [
    "pip install tabulate"
   ]
  },
  {
   "cell_type": "code",
   "execution_count": null,
   "id": "focal-evanescence",
   "metadata": {},
   "outputs": [],
   "source": [
    "x0 = np.random.uniform(-1, 1, 10000)\n",
    "x1 = np.random.uniform(-1, 1, 10000)\n",
    "x2 = np.random.uniform(-1, 1, 10000)\n",
    "X = np.column_stack((x0, x1, x2))\n",
    "z = np.array([np.real(float(x)**(-.5)) for x in x0])\n",
    "# X__, ffg, _ = transform_data(X, [-1, -.5, 0, 1])\n",
    "# model = fit_model(X__, z, alpha=.1)\n",
    "# res_df = get_terms(model, ffg)\n",
    "# print('Result: \\n')\n",
    "# print(res_df.to_markdown()) "
   ]
  },
  {
   "cell_type": "code",
   "execution_count": 28,
   "id": "architectural-mention",
   "metadata": {},
   "outputs": [],
   "source": [
    "from src.model.formula_features import FormulaFeatureGenerator as FormulaFeatureGenerator2"
   ]
  },
  {
   "cell_type": "code",
   "execution_count": 47,
   "id": "welcome-ultimate",
   "metadata": {},
   "outputs": [
    {
     "data": {
      "text/plain": [
       "array([2, 7, 3])"
      ]
     },
     "execution_count": 47,
     "metadata": {},
     "output_type": "execute_result"
    }
   ],
   "source": [
    "np.random.randint(1, 10, 3)"
   ]
  },
  {
   "cell_type": "code",
   "execution_count": 48,
   "id": "turkish-length",
   "metadata": {},
   "outputs": [
    {
     "name": "stderr",
     "output_type": "stream",
     "text": [
      "/home/henrik/Documents/diss/mario-communicating-agents/src/model/formula_features.py:37: RuntimeWarning: divide by zero encountered in true_divide\n",
      "  return 1 / (x[:, tup[0]] - x[:, tup[1]])\n"
     ]
    }
   ],
   "source": [
    "x = np.random.(1, 10, 16).reshape(-1, 4)\n",
    "ffg = FormulaFeatureGenerator2(exponents=[1])\n",
    "ffg.fit(x)\n",
    "x_trans = ffg.transform(x)"
   ]
  },
  {
   "cell_type": "code",
   "execution_count": 49,
   "id": "owned-netherlands",
   "metadata": {},
   "outputs": [
    {
     "data": {
      "text/html": [
       "<div>\n",
       "<style scoped>\n",
       "    .dataframe tbody tr th:only-of-type {\n",
       "        vertical-align: middle;\n",
       "    }\n",
       "\n",
       "    .dataframe tbody tr th {\n",
       "        vertical-align: top;\n",
       "    }\n",
       "\n",
       "    .dataframe thead th {\n",
       "        text-align: right;\n",
       "    }\n",
       "</style>\n",
       "<table border=\"1\" class=\"dataframe\">\n",
       "  <thead>\n",
       "    <tr style=\"text-align: right;\">\n",
       "      <th></th>\n",
       "      <th>x_0^(1)*x_1^(1)*x_2^(1)*x_3^(1)</th>\n",
       "      <th>1/(x_0 - x_1)</th>\n",
       "      <th>1/(x_0 - x_2)</th>\n",
       "      <th>1/(x_0 - x_3)</th>\n",
       "      <th>1/(x_1 - x_2)</th>\n",
       "      <th>1/(x_1 - x_3)</th>\n",
       "      <th>1/(x_2 - x_3)</th>\n",
       "      <th>1/(x_1 - x_0)</th>\n",
       "      <th>1/(x_2 - x_0)</th>\n",
       "      <th>1/(x_3 - x_0)</th>\n",
       "      <th>1/(x_2 - x_1)</th>\n",
       "      <th>1/(x_3 - x_1)</th>\n",
       "      <th>1/(x_3 - x_2)</th>\n",
       "    </tr>\n",
       "  </thead>\n",
       "  <tbody>\n",
       "    <tr>\n",
       "      <th>0</th>\n",
       "      <td>120.0</td>\n",
       "      <td>1.00</td>\n",
       "      <td>0.333333</td>\n",
       "      <td>0.500000</td>\n",
       "      <td>0.500000</td>\n",
       "      <td>1.000000</td>\n",
       "      <td>-1.000000</td>\n",
       "      <td>-1.00</td>\n",
       "      <td>-0.333333</td>\n",
       "      <td>-0.500000</td>\n",
       "      <td>-0.500000</td>\n",
       "      <td>-1.000000</td>\n",
       "      <td>1.000000</td>\n",
       "    </tr>\n",
       "    <tr>\n",
       "      <th>1</th>\n",
       "      <td>50.0</td>\n",
       "      <td>0.25</td>\n",
       "      <td>inf</td>\n",
       "      <td>0.333333</td>\n",
       "      <td>-0.250000</td>\n",
       "      <td>-1.000000</td>\n",
       "      <td>0.333333</td>\n",
       "      <td>-0.25</td>\n",
       "      <td>inf</td>\n",
       "      <td>-0.333333</td>\n",
       "      <td>0.250000</td>\n",
       "      <td>1.000000</td>\n",
       "      <td>-0.333333</td>\n",
       "    </tr>\n",
       "    <tr>\n",
       "      <th>2</th>\n",
       "      <td>972.0</td>\n",
       "      <td>1.00</td>\n",
       "      <td>-0.200000</td>\n",
       "      <td>-0.200000</td>\n",
       "      <td>-0.166667</td>\n",
       "      <td>-0.166667</td>\n",
       "      <td>inf</td>\n",
       "      <td>-1.00</td>\n",
       "      <td>0.200000</td>\n",
       "      <td>0.200000</td>\n",
       "      <td>0.166667</td>\n",
       "      <td>0.166667</td>\n",
       "      <td>inf</td>\n",
       "    </tr>\n",
       "    <tr>\n",
       "      <th>3</th>\n",
       "      <td>512.0</td>\n",
       "      <td>-0.25</td>\n",
       "      <td>0.500000</td>\n",
       "      <td>-0.250000</td>\n",
       "      <td>0.166667</td>\n",
       "      <td>inf</td>\n",
       "      <td>-0.166667</td>\n",
       "      <td>0.25</td>\n",
       "      <td>-0.500000</td>\n",
       "      <td>0.250000</td>\n",
       "      <td>-0.166667</td>\n",
       "      <td>inf</td>\n",
       "      <td>0.166667</td>\n",
       "    </tr>\n",
       "  </tbody>\n",
       "</table>\n",
       "</div>"
      ],
      "text/plain": [
       "   x_0^(1)*x_1^(1)*x_2^(1)*x_3^(1)  1/(x_0 - x_1)  1/(x_0 - x_2)  \\\n",
       "0                            120.0           1.00       0.333333   \n",
       "1                             50.0           0.25            inf   \n",
       "2                            972.0           1.00      -0.200000   \n",
       "3                            512.0          -0.25       0.500000   \n",
       "\n",
       "   1/(x_0 - x_3)  1/(x_1 - x_2)  1/(x_1 - x_3)  1/(x_2 - x_3)  1/(x_1 - x_0)  \\\n",
       "0       0.500000       0.500000       1.000000      -1.000000          -1.00   \n",
       "1       0.333333      -0.250000      -1.000000       0.333333          -0.25   \n",
       "2      -0.200000      -0.166667      -0.166667            inf          -1.00   \n",
       "3      -0.250000       0.166667            inf      -0.166667           0.25   \n",
       "\n",
       "   1/(x_2 - x_0)  1/(x_3 - x_0)  1/(x_2 - x_1)  1/(x_3 - x_1)  1/(x_3 - x_2)  \n",
       "0      -0.333333      -0.500000      -0.500000      -1.000000       1.000000  \n",
       "1            inf      -0.333333       0.250000       1.000000      -0.333333  \n",
       "2       0.200000       0.200000       0.166667       0.166667            inf  \n",
       "3      -0.500000       0.250000      -0.166667            inf       0.166667  "
      ]
     },
     "execution_count": 49,
     "metadata": {},
     "output_type": "execute_result"
    }
   ],
   "source": [
    "ffg.get_data_frame(x_trans)"
   ]
  },
  {
   "cell_type": "code",
   "execution_count": 50,
   "id": "falling-crash",
   "metadata": {},
   "outputs": [
    {
     "data": {
      "text/plain": [
       "array([[5, 4, 2, 3],\n",
       "       [5, 1, 5, 2],\n",
       "       [4, 3, 9, 9],\n",
       "       [4, 8, 2, 8]])"
      ]
     },
     "execution_count": 50,
     "metadata": {},
     "output_type": "execute_result"
    }
   ],
   "source": [
    "x"
   ]
  },
  {
   "cell_type": "code",
   "execution_count": null,
   "id": "blind-breast",
   "metadata": {},
   "outputs": [],
   "source": []
  }
 ],
 "metadata": {
  "hide_input": false,
  "kernelspec": {
   "display_name": "Python 3",
   "language": "python",
   "name": "python3"
  },
  "language_info": {
   "codemirror_mode": {
    "name": "ipython",
    "version": 3
   },
   "file_extension": ".py",
   "mimetype": "text/x-python",
   "name": "python",
   "nbconvert_exporter": "python",
   "pygments_lexer": "ipython3",
   "version": "3.9.0"
  }
 },
 "nbformat": 4,
 "nbformat_minor": 5
}
