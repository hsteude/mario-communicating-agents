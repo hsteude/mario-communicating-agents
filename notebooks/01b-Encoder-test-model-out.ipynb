{
 "cells": [
  {
   "cell_type": "code",
   "execution_count": null,
   "id": "14caa8ca",
   "metadata": {},
   "outputs": [],
   "source": [
    "import os\n",
    "os.chdir('..')"
   ]
  },
  {
   "cell_type": "code",
   "execution_count": null,
   "id": "0afe98ec",
   "metadata": {},
   "outputs": [],
   "source": [
    "from IPython.core.display import display, HTML\n",
    "display(HTML(\"<style>.container { width:100% !important; }</style>\"))"
   ]
  },
  {
   "cell_type": "code",
   "execution_count": null,
   "id": "d4b6d058",
   "metadata": {},
   "outputs": [],
   "source": [
    "import torch\n",
    "import torchvision\n",
    "from pytorch_lightning.callbacks import ModelCheckpoint\n",
    "from src.model.lit_module import LitModule\n",
    "from src.data.dataset import VideoLabelDataset\n",
    "import src.constants as const\n",
    "import plotly.graph_objects as go\n",
    "from plotly.subplots import make_subplots\n",
    "from torch.utils.data import DataLoader\n",
    "from src.data.dataset import (VideoLabelDataset,\n",
    "                              VideoFolderPathToTensor,\n",
    "                              VideoResize)\n",
    "import plotly\n",
    "import numpy as np\n",
    "import pandas as pd\n",
    "import yaml\n",
    "import os\n",
    "%load_ext autoreload\n",
    "%autoreload 2"
   ]
  },
  {
   "cell_type": "code",
   "execution_count": null,
   "id": "6e92766e",
   "metadata": {},
   "outputs": [],
   "source": [
    "dataset = VideoLabelDataset(\n",
    "            const.LABELS_TABLE_QA_PATH,\n",
    "            img_transform=torchvision.transforms.Compose([\n",
    "                VideoFolderPathToTensor(),\n",
    "                VideoResize(const.IMG_SIZE)]))"
   ]
  },
  {
   "cell_type": "code",
   "execution_count": null,
   "id": "6d4d3f9b",
   "metadata": {},
   "outputs": [],
   "source": [
    "dataloader = DataLoader(dataset, batch_size=100, num_workers=6)"
   ]
  },
  {
   "cell_type": "code",
   "execution_count": null,
   "id": "0df7d9eb",
   "metadata": {},
   "outputs": [],
   "source": [
    "videos, answers, hidden_states, vid_folder  = iter(dataloader).next()"
   ]
  },
  {
   "cell_type": "code",
   "execution_count": null,
   "id": "688cdead",
   "metadata": {},
   "outputs": [],
   "source": [
    "MODEL_VERSION = 0\n",
    "hparams_path = f'./lightning_logs/version_{MODEL_VERSION}/hparams.yaml'\n",
    "with open(hparams_path, 'r') as stream:\n",
    "        hparam_dct = yaml.safe_load(stream)\n",
    "ckpt_file_name = os.listdir(f'./lightning_logs/version_{MODEL_VERSION}/checkpoints/')[0]\n",
    "ckpt_file_path = f'./lightning_logs/version_{MODEL_VERSION}/checkpoints/{ckpt_file_name}'\n",
    "model = LitModule.load_from_checkpoint(ckpt_file_path)\n",
    "\n"
   ]
  },
  {
   "cell_type": "code",
   "execution_count": null,
   "id": "13055088",
   "metadata": {},
   "outputs": [],
   "source": [
    "model_out = model(videos)\n",
    "df_hidden_states_pred = pd.DataFrame(model_out.detach().numpy(), columns=const.HIDDEN_STATE_COLS)"
   ]
  },
  {
   "cell_type": "code",
   "execution_count": null,
   "id": "52067430",
   "metadata": {},
   "outputs": [],
   "source": [
    "df_hidden_states = pd.DataFrame(hidden_states.detach().numpy(), columns=const.HIDDEN_STATE_COLS)"
   ]
  },
  {
   "cell_type": "code",
   "execution_count": null,
   "id": "7914802c",
   "metadata": {},
   "outputs": [],
   "source": [
    "#alt\n",
    "from plotly.subplots import make_subplots\n",
    "import plotly.graph_objects as go\n",
    "\n",
    "fig = make_subplots(rows=4, cols=1)\n",
    "\n",
    "for i, col in enumerate(const.HIDDEN_STATE_COLS):\n",
    "        fig.add_trace(go.Scatter(x=df_hidden_states[col], y=df_hidden_states_pred[col],\n",
    "                            mode='markers', name=f'activation {hs_pred} over box_x',\n",
    "                                marker_color='#1f77b4'),\n",
    "                     row=i+1, col=1)\n",
    "\n",
    "# # Update xaxis properties\n",
    "# for i in range(len(const.HIDDEN_STATE_COLS)):\n",
    "#     fig.update_xaxes(title_text=\"Coin position\", row=1, col=i+1)\n",
    "#     fig.update_xaxes(title_text=\"Pipe position\", row=2, col=i+1)\n",
    "#     fig.update_xaxes(title_text=\"Enemy speed\", row=3, col=i+1)\n",
    "\n",
    "# for j in range(len(df_hidden_states_pred.columns)):\n",
    "#     fig.update_yaxes(title_text=\"Latent neuron 0 activation\", row=j+1, col=1)\n",
    "#     fig.update_yaxes(title_text=\"Latent neuron 1 activation\", row=j+1, col=2)\n",
    "#     fig.update_yaxes(title_text=\"Latent neuron 2 activation\", row=j+1, col=3)\n",
    "\n",
    "fig.update_layout(height=1000, width=1200, title_text=\"Latent neuron activations vs. hidden states\", showlegend=False)\n",
    "fig.show()"
   ]
  },
  {
   "cell_type": "code",
   "execution_count": null,
   "id": "18c03b91",
   "metadata": {},
   "outputs": [],
   "source": [
    "const.HIDDEN_STATE_COLS"
   ]
  },
  {
   "cell_type": "code",
   "execution_count": null,
   "id": "c913126b",
   "metadata": {},
   "outputs": [],
   "source": []
  }
 ],
 "metadata": {
  "kernelspec": {
   "display_name": "Python 3",
   "language": "python",
   "name": "python3"
  },
  "language_info": {
   "codemirror_mode": {
    "name": "ipython",
    "version": 3
   },
   "file_extension": ".py",
   "mimetype": "text/x-python",
   "name": "python",
   "nbconvert_exporter": "python",
   "pygments_lexer": "ipython3",
   "version": "3.9.4"
  }
 },
 "nbformat": 4,
 "nbformat_minor": 5
}
