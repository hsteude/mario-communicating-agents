{
 "cells": [
  {
   "cell_type": "code",
   "execution_count": null,
   "metadata": {},
   "outputs": [],
   "source": [
    "import os\n",
    "os.chdir('..')"
   ]
  },
  {
   "cell_type": "code",
   "execution_count": null,
   "metadata": {},
   "outputs": [],
   "source": [
    "from IPython.core.display import display, HTML\n",
    "display(HTML(\"<style>.container { width:100% !important; }</style>\"))"
   ]
  },
  {
   "cell_type": "code",
   "execution_count": null,
   "metadata": {},
   "outputs": [],
   "source": [
    "import torch\n",
    "import torchvision\n",
    "import src.constants as const\n",
    "import plotly.graph_objects as go\n",
    "from plotly.subplots import make_subplots\n",
    "from torch.utils.data import DataLoader\n",
    "from src.data.dataset import (VideoLabelDataset,\n",
    "                              VideoFolderPathToTensor,\n",
    "                              VideoResize)\n",
    "import plotly\n",
    "import numpy as np\n",
    "import pandas as pd\n",
    "import yaml\n",
    "import os\n",
    "%load_ext autoreload\n",
    "%autoreload 2"
   ]
  },
  {
   "cell_type": "code",
   "execution_count": null,
   "metadata": {},
   "outputs": [],
   "source": [
    "dataset = VideoLabelDataset(\n",
    "            const.LABELS_TABLE_QA_PATH,\n",
    "            img_transform=None)"
   ]
  },
  {
   "cell_type": "code",
   "execution_count": null,
   "metadata": {},
   "outputs": [],
   "source": [
    "dataloader = DataLoader(dataset, batch_size=100, num_workers=6)"
   ]
  },
  {
   "cell_type": "code",
   "execution_count": null,
   "metadata": {},
   "outputs": [],
   "source": [
    "videos, answers, hidden_states, vid_folder  = iter(dataloader).next()"
   ]
  },
  {
   "cell_type": "code",
   "execution_count": null,
   "metadata": {},
   "outputs": [],
   "source": [
    "FORMULA_EXPONENTS = ['-1', '0', '1']\n",
    "ENC_DIM_LAT_SPACE = 4\n",
    "LAMBDA = 0.1\n",
    "VALIDATION_SPLIT = 0.05\n",
    "BATCH_SIZE = 2000\n",
    "NUM_WORKERS = 4"
   ]
  },
  {
   "cell_type": "code",
   "execution_count": null,
   "metadata": {},
   "outputs": [],
   "source": [
    "from src.model.agents import FormulaFeatureGenerator, FormulaDecoder\n",
    "import pytorch_lightning as pl\n",
    "\n",
    "\n",
    "\n",
    "class LitModule(pl.LightningModule):\n",
    "\n",
    "    def __init__(self):\n",
    "        super().__init__()\n",
    "        dataset = VideoLabelDataset(\n",
    "            const.LABELS_TABLE_QA_PATH,\n",
    "            img_transform=None)\n",
    "        dataset_size = len(dataset)\n",
    "        len_val = int(np.floor(dataset_size * VALIDATION_SPLIT))\n",
    "        len_train = dataset_size - len_val\n",
    "        self.dataset_train, self.dataset_val = torch.utils.data.random_split(\n",
    "            dataset=dataset, lengths=[len_train, len_val],\n",
    "            generator=torch.Generator())\n",
    "        \n",
    "        self.feature_generator = FormulaFeatureGenerator(\n",
    "            formula_exponents=FORMULA_EXPONENTS,\n",
    "            enc_dim_lat_space=ENC_DIM_LAT_SPACE\n",
    "        )\n",
    "        \n",
    "        self.formula_decoder = FormulaDecoder(\n",
    "            dec_num_features=self.feature_generator.num_features,\n",
    "            dec_out_dim=1)\n",
    "        self.batch_size = BATCH_SIZE\n",
    "        self.dl_num_workers = NUM_WORKERS \n",
    "    \n",
    "    def loss_function(self, dec_outs, answers):\n",
    "        mse_loss = torch.nn.MSELoss()\n",
    "        answer_loss = mse_loss(dec_outs, answers[:,0])\n",
    "        dec_params = self.formula_decoder.lc.weight\n",
    "        param_loss = torch.sum(torch.abs(dec_params))\n",
    "        return answer_loss + LAMBDA * param_loss\n",
    "\n",
    "\n",
    "    def forward(self, x):\n",
    "        lsp_trans = self.feature_generator(hidden_states)\n",
    "        out = self.formula_decoder(lsp_trans)\n",
    "        return out\n",
    "\n",
    "    def training_step(self, batch, batch_idx):\n",
    "        _, answers, hidden_states, _ = batch\n",
    "        lsp_trans = self.feature_generator(hidden_states)\n",
    "        out = self.formula_decoder(lsp_trans)\n",
    "        loss = self.loss_function(out, answers)\n",
    "        self.logger.experiment.add_scalars(\"losses\", {\"train_loss\": loss})\n",
    "\n",
    "        return loss\n",
    "    \n",
    "    def validation_step(self, batch, batch_idx):\n",
    "        _, answers, hidden_states, _ = batch\n",
    "        lsp_trans = self.feature_generator(hidden_states)\n",
    "        out = self.formula_decoder(lsp_trans)\n",
    "        val_loss = self.loss_function(out, answers)\n",
    "        self.logger.experiment.add_scalars(\"losses\", {\"val_loss\": val_loss})\n",
    "        return val_loss\n",
    "    \n",
    "    def train_dataloader(self):\n",
    "        return DataLoader(self.dataset_train,\n",
    "                          batch_size=self.batch_size,\n",
    "                          num_workers=self.dl_num_workers,\n",
    "                          pin_memory=True)\n",
    "\n",
    "    def val_dataloader(self):\n",
    "        return DataLoader(self.dataset_val,\n",
    "                          batch_size=self.batch_size,\n",
    "                          num_workers=self.dl_num_workers,\n",
    "                          pin_memory=True)\n",
    "\n",
    "\n",
    "    def configure_optimizers(self):\n",
    "        optimizer = torch.optim.SGD(self.parameters(), lr=0.001)\n",
    "        return optimizer"
   ]
  },
  {
   "cell_type": "code",
   "execution_count": null,
   "metadata": {},
   "outputs": [],
   "source": [
    "lit_model.parameters"
   ]
  },
  {
   "cell_type": "code",
   "execution_count": null,
   "metadata": {},
   "outputs": [],
   "source": [
    "LAST_CKP = 'lightning_logs/version_40/checkpoints/epoch=32-step=32.ckpt'\n",
    "# from src.model.lit_module_formula_only import LitModule\n",
    "lit_module = LitModule.load_from_checkpoint(LAST_CKP)"
   ]
  },
  {
   "cell_type": "code",
   "execution_count": null,
   "metadata": {},
   "outputs": [],
   "source": [
    "lit_model = LitModule()\n",
    "trainer = pl.Trainer()\n",
    "trainer.fit(lit_model)"
   ]
  },
  {
   "cell_type": "code",
   "execution_count": null,
   "metadata": {},
   "outputs": [],
   "source": []
  },
  {
   "cell_type": "code",
   "execution_count": null,
   "metadata": {},
   "outputs": [],
   "source": []
  },
  {
   "cell_type": "code",
   "execution_count": null,
   "metadata": {},
   "outputs": [],
   "source": []
  },
  {
   "cell_type": "code",
   "execution_count": null,
   "metadata": {},
   "outputs": [],
   "source": [
    "videos, answers, hidden_states, vid_folder  = iter(dataloader).next()"
   ]
  },
  {
   "cell_type": "code",
   "execution_count": null,
   "metadata": {},
   "outputs": [],
   "source": [
    "hidden_states.shape"
   ]
  },
  {
   "cell_type": "code",
   "execution_count": null,
   "metadata": {},
   "outputs": [],
   "source": [
    "lit_model.feature_generator(hidden_states).max()"
   ]
  },
  {
   "cell_type": "code",
   "execution_count": null,
   "metadata": {},
   "outputs": [],
   "source": [
    "hidden_states.max()"
   ]
  },
  {
   "cell_type": "code",
   "execution_count": null,
   "metadata": {},
   "outputs": [],
   "source": [
    "lit_model.feature_generator.get_feature_names()"
   ]
  },
  {
   "cell_type": "code",
   "execution_count": null,
   "metadata": {},
   "outputs": [],
   "source": [
    "lit_model(hidden_states)[0:10]"
   ]
  },
  {
   "cell_type": "code",
   "execution_count": null,
   "metadata": {},
   "outputs": [],
   "source": [
    "answers[:, 0][0:10]"
   ]
  },
  {
   "cell_type": "code",
   "execution_count": null,
   "metadata": {},
   "outputs": [],
   "source": [
    "mse_loss = torch.nn.MSELoss()\n",
    "mse_loss(lit_model(hidden_states), answers[:,0])"
   ]
  },
  {
   "cell_type": "code",
   "execution_count": null,
   "metadata": {},
   "outputs": [],
   "source": [
    "dec_params = lit_model.formula_decoder.lc.weight\n",
    "dec_params\n",
    "# param_loss = torch.sum(torch.abs(dec_params))"
   ]
  },
  {
   "cell_type": "code",
   "execution_count": null,
   "metadata": {},
   "outputs": [],
   "source": [
    "hidden_states"
   ]
  },
  {
   "cell_type": "code",
   "execution_count": null,
   "metadata": {},
   "outputs": [],
   "source": []
  },
  {
   "cell_type": "code",
   "execution_count": null,
   "metadata": {},
   "outputs": [],
   "source": []
  },
  {
   "cell_type": "code",
   "execution_count": null,
   "metadata": {},
   "outputs": [],
   "source": [
    "\n"
   ]
  },
  {
   "cell_type": "code",
   "execution_count": null,
   "metadata": {},
   "outputs": [],
   "source": [
    "output = lit_module(hidden_states)\n",
    "output[0:10, :]"
   ]
  },
  {
   "cell_type": "code",
   "execution_count": null,
   "metadata": {},
   "outputs": [],
   "source": [
    "#alt\n",
    "output = lit_module(hidden_states)\n",
    "output[0:10, :]"
   ]
  },
  {
   "cell_type": "code",
   "execution_count": null,
   "metadata": {},
   "outputs": [],
   "source": [
    "answers[0:10,:]"
   ]
  },
  {
   "cell_type": "code",
   "execution_count": null,
   "metadata": {},
   "outputs": [],
   "source": [
    "answers.min()"
   ]
  },
  {
   "cell_type": "code",
   "execution_count": null,
   "metadata": {},
   "outputs": [],
   "source": [
    "lit_module.dec_0.lc.weight"
   ]
  },
  {
   "cell_type": "code",
   "execution_count": null,
   "metadata": {},
   "outputs": [],
   "source": [
    "#alt\n",
    "lit_module.dec_0.lc.weight"
   ]
  },
  {
   "cell_type": "code",
   "execution_count": null,
   "metadata": {},
   "outputs": [],
   "source": [
    "lit_module.dec_1.lc.weight"
   ]
  },
  {
   "cell_type": "code",
   "execution_count": null,
   "metadata": {},
   "outputs": [],
   "source": [
    "dec_params = torch.cat([dec.lc.weight for dec in lit_module.decoding_agents])\n",
    "param_loss = torch.sum(torch.abs(dec_params))\n",
    "param_loss"
   ]
  },
  {
   "cell_type": "code",
   "execution_count": null,
   "metadata": {},
   "outputs": [],
   "source": [
    "mse_loss = torch.nn.MSELoss()\n",
    "answer_loss = mse_loss(output, answers)\n",
    "answer_loss"
   ]
  },
  {
   "cell_type": "code",
   "execution_count": null,
   "metadata": {},
   "outputs": [],
   "source": []
  }
 ],
 "metadata": {
  "hide_input": false,
  "kernelspec": {
   "display_name": "Python 3",
   "language": "python",
   "name": "python3"
  },
  "language_info": {
   "codemirror_mode": {
    "name": "ipython",
    "version": 3
   },
   "file_extension": ".py",
   "mimetype": "text/x-python",
   "name": "python",
   "nbconvert_exporter": "python",
   "pygments_lexer": "ipython3",
   "version": "3.9.1"
  }
 },
 "nbformat": 4,
 "nbformat_minor": 4
}
