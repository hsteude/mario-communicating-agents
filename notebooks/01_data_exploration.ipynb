{
 "cells": [
  {
   "cell_type": "code",
   "execution_count": null,
   "metadata": {},
   "outputs": [],
   "source": [
    "import os\n",
    "os.chdir('..')"
   ]
  },
  {
   "cell_type": "code",
   "execution_count": null,
<<<<<<< HEAD
=======
   "metadata": {},
   "outputs": [],
   "source": [
    "from IPython.core.display import display, HTML\n",
    "display(HTML(\"<style>.container { width:100% !important; }</style>\"))"
   ]
  },
  {
   "cell_type": "code",
   "execution_count": null,
>>>>>>> encoder-test
   "metadata": {},
   "outputs": [],
   "source": [
    "%load_ext autoreload\n",
    "%autoreload 2"
   ]
  },
  {
   "cell_type": "code",
   "execution_count": null,
   "metadata": {},
   "outputs": [],
   "source": [
    "import torch\n",
    "import torchvision\n",
    "from pytorch_lightning.callbacks import ModelCheckpoint\n",
    "from src.model.lit_module import LitModule\n",
    "from src.data.dataset import VideoLabelDataset\n",
    "import src.constants as const\n",
    "from torch.utils.data import DataLoader\n",
    "import plotly.graph_objects as go\n",
    "from plotly.subplots import make_subplots\n",
    "from src.data.dataset import (VideoLabelDataset,\n",
    "                              VideoFolderPathToTensor,\n",
    "                              VideoResize)\n",
    "import plotly\n",
    "import plotly.express as px\n",
    "import numpy as np\n",
    "from ipywidgets import interact\n",
    "import ipywidgets as widgets\n",
    "import src.constants as const"
   ]
  },
  {
   "cell_type": "code",
   "execution_count": null,
<<<<<<< HEAD
   "metadata": {},
   "outputs": [],
   "source": [
    "dataset = VideoLabelDataset(\n",
    "            const.LABELS_TABLE_QA_PATH,\n",
    "            img_transform=torchvision.transforms.Compose([\n",
    "                VideoFolderPathToTensor(),\n",
    "                VideoResize(const.IMG_SIZE)]))"
   ]
  },
  {
   "cell_type": "code",
   "execution_count": null,
   "metadata": {},
   "outputs": [],
   "source": [
    "dataloader = DataLoader(dataset, batch_size=20, num_workers=2)"
   ]
  },
  {
   "cell_type": "code",
   "execution_count": null,
   "metadata": {},
   "outputs": [],
   "source": [
    "videos, questions, answers, hidden_states, vid_folder  = iter(dataloader).next()"
   ]
  },
  {
   "cell_type": "code",
   "execution_count": null,
   "metadata": {},
   "outputs": [],
   "source": [
    "dataset.dataframe.head(10)"
   ]
  },
  {
   "cell_type": "code",
   "execution_count": null,
   "metadata": {},
   "outputs": [],
   "source": [
    "const."
   ]
  },
  {
   "cell_type": "code",
   "execution_count": null,
   "metadata": {},
   "outputs": [],
   "source": [
    "checkpoint_path = './lightning_logs/version_6/checkpoints/epoch=25-step=207.ckpt'"
   ]
  },
  {
   "cell_type": "code",
   "execution_count": null,
=======
>>>>>>> encoder-test
   "metadata": {},
   "outputs": [],
   "source": [
    "import pandas as pd"
   ]
  },
  {
   "cell_type": "code",
   "execution_count": null,
   "metadata": {},
   "outputs": [],
   "source": [
    "dataset = VideoLabelDataset(\n",
    "            const.LABELS_TABLE_QA_PATH,\n",
    "            img_transform=torchvision.transforms.Compose([\n",
    "                VideoFolderPathToTensor(),\n",
    "                VideoResize(const.IMG_SIZE)]))\n",
    "df = dataset.dataframe"
   ]
  },
  {
   "cell_type": "code",
   "execution_count": null,
   "metadata": {},
   "outputs": [],
   "source": [
    "df[(df.mario_speed<df.mario_speed.quantile(.2)) & (df.pipe_x > df.pipe_x.quantile(.8))]"
   ]
  },
  {
   "cell_type": "code",
   "execution_count": null,
   "metadata": {},
   "outputs": [],
   "source": [
    "df[(df.mario_speed>df.mario_speed.quantile(.8)) & (df.enemy_speed < df.enemy_speed.quantile(.2))]"
   ]
  },
  {
   "cell_type": "code",
   "execution_count": null,
   "metadata": {},
   "outputs": [],
   "source": [
    "df[(df.enemy_speed>df.enemy_speed.quantile(.8)) & (df.pipe_x < df.pipe_x.quantile(.2))]"
   ]
  },
  {
   "cell_type": "code",
   "execution_count": null,
   "metadata": {},
   "outputs": [],
   "source": [
    "def plot_first_and_last_pic(index1, index2):\n",
    "    dir_path = f'data/imgs_series/{index1:05d}'\n",
    "    files = os.listdir(dir_path)\n",
    "    files.sort()\n",
    "    img_ls = [open(f'{dir_path}/{f}', 'rb').read() for f in files]\n",
    "    wi_ls = [widgets.Image(value=img, format='png', width=200) for img in img_ls]\n",
    "    sidebyside = widgets.HBox(wi_ls[::2])\n",
    "    print(f'mario speed: {df[df.imgs_folder_path == dir_path].mario_speed.values[0]}'\n",
    "          f', enemy speed: {df[df.imgs_folder_path == dir_path].enemy_speed.values[0]}',\n",
    "          f', box x: {df[df.imgs_folder_path == dir_path].box_x.values[0]}',\n",
    "          f', pipe x: {df[df.imgs_folder_path == dir_path].pipe_x.values[0]}')\n",
    "    display(sidebyside)\n",
    "    \n",
    "    dir_path = f'data/imgs_series/{index2:05d}'\n",
    "    files = os.listdir(dir_path)\n",
    "    files.sort()\n",
    "    img_ls = [open(f'{dir_path}/{f}', 'rb').read() for f in files]\n",
    "    wi_ls = [widgets.Image(value=img, format='png', width=200) for img in img_ls]\n",
    "    sidebyside = widgets.HBox(wi_ls[::2])\n",
    "    print(f'mario speed: {df[df.imgs_folder_path == dir_path].mario_speed.values[0]}'\n",
    "          f', enemy speed: {df[df.imgs_folder_path == dir_path].enemy_speed.values[0]}',\n",
    "          f', box x: {df[df.imgs_folder_path == dir_path].box_x.values[0]}',\n",
    "          f', pipe x: {df[df.imgs_folder_path == dir_path].pipe_x.values[0]}')\n",
    "    display(sidebyside)\n",
    "    \n",
    "interact(plot_first_and_last_pic, index1=list(range(1, len(df)-1)), index2=list(range(1, len(df)-1)))"
   ]
  },
  {
   "cell_type": "code",
   "execution_count": null,
   "metadata": {},
   "outputs": [],
   "source": [
    "cols = ['box_x', 'pipe_x', 'enemy_speed', 'mario_speed']\n",
    "fig = go.Figure()\n",
    "fig = make_subplots(rows=1, cols=4)\n",
    "for i, c in enumerate(const.HIDDEN_STATE_COLS):\n",
    "    fig.add_trace(go.Histogram(x=df[c].values), row=1, col=i+1)\n",
    "    fig.update_xaxes(title_text=c, row=1, col=i+1)\n",
    "\n",
    "# Overlay both histograms\n",
    "fig.update_layout(barmode='overlay', showlegend=False, title_text=\"Hidden state & question distributions\")\n",
    "# Reduce opacity to see both histograms\n",
    "fig.update_yaxes(title_text=\"Frequency\", row=1, col=1)\n",
    "fig.update_traces(opacity=0.5)\n",
    "fig.show()"
   ]
  },
  {
   "cell_type": "code",
<<<<<<< HEAD
   "execution_count": null,
   "metadata": {},
   "outputs": [],
   "source": []
  },
  {
   "cell_type": "code",
=======
>>>>>>> encoder-test
   "execution_count": null,
   "metadata": {},
   "outputs": [],
   "source": [
    "fig = go.Figure()\n",
    "for c in const.ANSWER_COLS:\n",
    "    fig.add_trace(go.Histogram(x=df[c].values, name=c))\n",
    "\n",
    "# Overlay both histograms\n",
    "fig.update_layout(barmode='overlay')\n",
    "# Reduce opacity to see both histograms\n",
    "fig.update_layout(title_text=\"Optimal answer distributions\")\n",
    "fig.update_xaxes(title_text=\"Optimal answer value\")\n",
    "fig.update_yaxes(title_text=\"Frequency\")\n",
    "fig.update_traces(opacity=0.5)\n",
    "fig.show()"
   ]
  },
  {
   "cell_type": "code",
   "execution_count": null,
   "metadata": {},
   "outputs": [],
   "source": [
    "import src.constants as const\n",
    "def plot_answer(answer_col, col0, col1):\n",
    "    fig = px.scatter_3d(df, x=col0, y=col1, z=answer_col, color=answer_col)\n",
    "    fig.show()\n",
    "interact(plot_answer, col0=const.HIDDEN_STATE_COLS, col1=const.HIDDEN_STATE_COLS,\n",
    "         answer_col=const.ANSWER_COLS)"
   ]
  },
  {
   "cell_type": "code",
   "execution_count": null,
   "metadata": {},
   "outputs": [],
   "source": []
  }
 ],
 "metadata": {
  "hide_input": false,
  "kernelspec": {
   "display_name": "Python 3",
   "language": "python",
   "name": "python3"
  },
  "language_info": {
   "codemirror_mode": {
    "name": "ipython",
    "version": 3
   },
   "file_extension": ".py",
   "mimetype": "text/x-python",
   "name": "python",
   "nbconvert_exporter": "python",
   "pygments_lexer": "ipython3",
   "version": "3.9.4"
  }
 },
 "nbformat": 4,
 "nbformat_minor": 4
}
