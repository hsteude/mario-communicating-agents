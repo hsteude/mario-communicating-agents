{
 "cells": [
  {
   "cell_type": "code",
   "execution_count": 1,
   "metadata": {},
   "outputs": [],
   "source": [
    "import os\n",
    "os.chdir('..')"
   ]
  },
  {
   "cell_type": "code",
   "execution_count": 2,
   "metadata": {},
   "outputs": [
    {
     "data": {
      "text/html": [
       "<style>.container { width:100% !important; }</style>"
      ],
      "text/plain": [
       "<IPython.core.display.HTML object>"
      ]
     },
     "metadata": {},
     "output_type": "display_data"
    }
   ],
   "source": [
    "from IPython.core.display import display, HTML\n",
    "display(HTML(\"<style>.container { width:100% !important; }</style>\"))"
   ]
  },
  {
   "cell_type": "code",
   "execution_count": 3,
   "metadata": {},
   "outputs": [],
   "source": [
    "%load_ext autoreload\n",
    "%autoreload 2"
   ]
  },
  {
   "cell_type": "code",
   "execution_count": 6,
   "metadata": {},
   "outputs": [],
   "source": [
    "import torch\n",
    "import torchvision\n",
    "from pytorch_lightning.callbacks import ModelCheckpoint\n",
    "from src.model.lit_module import LitModule\n",
    "from src.data.dataset import VideoLabelDataset\n",
    "import src.constants as const\n",
    "from torch.utils.data import DataLoader\n",
    "import plotly.graph_objects as go\n",
    "from plotly.subplots import make_subplots\n",
    "from src.data.dataset import (VideoLabelDataset,\n",
    "                              VideoFolderPathToTensor,\n",
    "                              VideoResize)\n",
    "import plotly\n",
    "import plotly.express as px\n",
    "import numpy as np\n",
    "from ipywidgets import interact\n",
    "import ipywidgets as widgets\n",
    "import src.constants as const"
   ]
  },
  {
   "cell_type": "code",
   "execution_count": 14,
   "metadata": {},
   "outputs": [],
   "source": [
    "import pandas as pd"
   ]
  },
  {
   "cell_type": "code",
   "execution_count": 48,
   "metadata": {},
   "outputs": [],
   "source": [
    "dataset = VideoLabelDataset(\n",
    "            const.LABELS_TABLE_QA_PATH,\n",
    "            img_transform=torchvision.transforms.Compose([\n",
    "                VideoFolderPathToTensor(),\n",
    "                VideoResize(const.IMG_SIZE)]))\n",
    "df = dataset.dataframe"
   ]
  },
  {
   "cell_type": "code",
   "execution_count": 49,
   "metadata": {},
   "outputs": [
    {
     "data": {
      "text/html": [
       "<div>\n",
       "<style scoped>\n",
       "    .dataframe tbody tr th:only-of-type {\n",
       "        vertical-align: middle;\n",
       "    }\n",
       "\n",
       "    .dataframe tbody tr th {\n",
       "        vertical-align: top;\n",
       "    }\n",
       "\n",
       "    .dataframe thead th {\n",
       "        text-align: right;\n",
       "    }\n",
       "</style>\n",
       "<table border=\"1\" class=\"dataframe\">\n",
       "  <thead>\n",
       "    <tr style=\"text-align: right;\">\n",
       "      <th></th>\n",
       "      <th>Unnamed: 0</th>\n",
       "      <th>imgs_folder_path</th>\n",
       "      <th>box_x</th>\n",
       "      <th>pipe_x</th>\n",
       "      <th>enemy_speed</th>\n",
       "      <th>mario_speed</th>\n",
       "      <th>answer_mario_box</th>\n",
       "      <th>answer_enemy_pipe</th>\n",
       "      <th>answer_mario_enemy</th>\n",
       "    </tr>\n",
       "  </thead>\n",
       "  <tbody>\n",
       "    <tr>\n",
       "      <th>88</th>\n",
       "      <td>88</td>\n",
       "      <td>data/imgs_series/00089</td>\n",
       "      <td>-1.399868</td>\n",
       "      <td>1.810335</td>\n",
       "      <td>-1.514621</td>\n",
       "      <td>-1.514371</td>\n",
       "      <td>-1.079707</td>\n",
       "      <td>2.601959</td>\n",
       "      <td>-0.270603</td>\n",
       "    </tr>\n",
       "  </tbody>\n",
       "</table>\n",
       "</div>"
      ],
      "text/plain": [
       "    Unnamed: 0        imgs_folder_path     box_x    pipe_x  enemy_speed  \\\n",
       "88          88  data/imgs_series/00089 -1.399868  1.810335    -1.514621   \n",
       "\n",
       "    mario_speed  answer_mario_box  answer_enemy_pipe  answer_mario_enemy  \n",
       "88    -1.514371         -1.079707           2.601959           -0.270603  "
      ]
     },
     "execution_count": 49,
     "metadata": {},
     "output_type": "execute_result"
    }
   ],
   "source": [
    "df[(df.mario_speed<df.mario_speed.quantile(.2)) & (df.pipe_x > df.pipe_x.quantile(.8))]"
   ]
  },
  {
   "cell_type": "code",
   "execution_count": 50,
   "metadata": {},
   "outputs": [
    {
     "data": {
      "text/html": [
       "<div>\n",
       "<style scoped>\n",
       "    .dataframe tbody tr th:only-of-type {\n",
       "        vertical-align: middle;\n",
       "    }\n",
       "\n",
       "    .dataframe tbody tr th {\n",
       "        vertical-align: top;\n",
       "    }\n",
       "\n",
       "    .dataframe thead th {\n",
       "        text-align: right;\n",
       "    }\n",
       "</style>\n",
       "<table border=\"1\" class=\"dataframe\">\n",
       "  <thead>\n",
       "    <tr style=\"text-align: right;\">\n",
       "      <th></th>\n",
       "      <th>Unnamed: 0</th>\n",
       "      <th>imgs_folder_path</th>\n",
       "      <th>box_x</th>\n",
       "      <th>pipe_x</th>\n",
       "      <th>enemy_speed</th>\n",
       "      <th>mario_speed</th>\n",
       "      <th>answer_mario_box</th>\n",
       "      <th>answer_enemy_pipe</th>\n",
       "      <th>answer_mario_enemy</th>\n",
       "    </tr>\n",
       "  </thead>\n",
       "  <tbody>\n",
       "    <tr>\n",
       "      <th>79</th>\n",
       "      <td>79</td>\n",
       "      <td>data/imgs_series/00080</td>\n",
       "      <td>-1.329385</td>\n",
       "      <td>0.998768</td>\n",
       "      <td>-1.213204</td>\n",
       "      <td>1.682634</td>\n",
       "      <td>-1.481927</td>\n",
       "      <td>1.655048</td>\n",
       "      <td>-0.614671</td>\n",
       "    </tr>\n",
       "  </tbody>\n",
       "</table>\n",
       "</div>"
      ],
      "text/plain": [
       "    Unnamed: 0        imgs_folder_path     box_x    pipe_x  enemy_speed  \\\n",
       "79          79  data/imgs_series/00080 -1.329385  0.998768    -1.213204   \n",
       "\n",
       "    mario_speed  answer_mario_box  answer_enemy_pipe  answer_mario_enemy  \n",
       "79     1.682634         -1.481927           1.655048           -0.614671  "
      ]
     },
     "execution_count": 50,
     "metadata": {},
     "output_type": "execute_result"
    }
   ],
   "source": [
    "df[(df.mario_speed>df.mario_speed.quantile(.8)) & (df.enemy_speed < df.enemy_speed.quantile(.2))]"
   ]
  },
  {
   "cell_type": "code",
   "execution_count": 51,
   "metadata": {},
   "outputs": [
    {
     "data": {
      "text/html": [
       "<div>\n",
       "<style scoped>\n",
       "    .dataframe tbody tr th:only-of-type {\n",
       "        vertical-align: middle;\n",
       "    }\n",
       "\n",
       "    .dataframe tbody tr th {\n",
       "        vertical-align: top;\n",
       "    }\n",
       "\n",
       "    .dataframe thead th {\n",
       "        text-align: right;\n",
       "    }\n",
       "</style>\n",
       "<table border=\"1\" class=\"dataframe\">\n",
       "  <thead>\n",
       "    <tr style=\"text-align: right;\">\n",
       "      <th></th>\n",
       "      <th>Unnamed: 0</th>\n",
       "      <th>imgs_folder_path</th>\n",
       "      <th>box_x</th>\n",
       "      <th>pipe_x</th>\n",
       "      <th>enemy_speed</th>\n",
       "      <th>mario_speed</th>\n",
       "      <th>answer_mario_box</th>\n",
       "      <th>answer_enemy_pipe</th>\n",
       "      <th>answer_mario_enemy</th>\n",
       "    </tr>\n",
       "  </thead>\n",
       "  <tbody>\n",
       "    <tr>\n",
       "      <th>29</th>\n",
       "      <td>29</td>\n",
       "      <td>data/imgs_series/00030</td>\n",
       "      <td>1.109336</td>\n",
       "      <td>-1.021131</td>\n",
       "      <td>1.198133</td>\n",
       "      <td>-0.504790</td>\n",
       "      <td>1.214727</td>\n",
       "      <td>-1.279393</td>\n",
       "      <td>0.978450</td>\n",
       "    </tr>\n",
       "    <tr>\n",
       "      <th>74</th>\n",
       "      <td>74</td>\n",
       "      <td>data/imgs_series/00075</td>\n",
       "      <td>0.862644</td>\n",
       "      <td>-1.147375</td>\n",
       "      <td>1.047425</td>\n",
       "      <td>0.673054</td>\n",
       "      <td>0.512896</td>\n",
       "      <td>-1.234699</td>\n",
       "      <td>-0.076306</td>\n",
       "    </tr>\n",
       "  </tbody>\n",
       "</table>\n",
       "</div>"
      ],
      "text/plain": [
       "    Unnamed: 0        imgs_folder_path     box_x    pipe_x  enemy_speed  \\\n",
       "29          29  data/imgs_series/00030  1.109336 -1.021131     1.198133   \n",
       "74          74  data/imgs_series/00075  0.862644 -1.147375     1.047425   \n",
       "\n",
       "    mario_speed  answer_mario_box  answer_enemy_pipe  answer_mario_enemy  \n",
       "29    -0.504790          1.214727          -1.279393            0.978450  \n",
       "74     0.673054          0.512896          -1.234699           -0.076306  "
      ]
     },
     "execution_count": 51,
     "metadata": {},
     "output_type": "execute_result"
    }
   ],
   "source": [
    "df[(df.enemy_speed>df.enemy_speed.quantile(.8)) & (df.pipe_x < df.pipe_x.quantile(.2))]"
   ]
  },
  {
   "cell_type": "code",
   "execution_count": 52,
   "metadata": {},
   "outputs": [
    {
     "data": {
      "application/vnd.jupyter.widget-view+json": {
       "model_id": "aa62ad8b76994408a17e816ed73b2007",
       "version_major": 2,
       "version_minor": 0
      },
      "text/plain": [
       "interactive(children=(Dropdown(description='index1', options=(1, 2, 3, 4, 5, 6, 7, 8, 9, 10, 11, 12, 13, 14, 1…"
      ]
     },
     "metadata": {},
     "output_type": "display_data"
    },
    {
     "data": {
      "text/plain": [
       "<function __main__.plot_first_and_last_pic(index1, index2)>"
      ]
     },
     "execution_count": 52,
     "metadata": {},
     "output_type": "execute_result"
    }
   ],
   "source": [
    "def plot_first_and_last_pic(index1, index2):\n",
    "    dir_path = f'data/imgs_series/{index1:05d}'\n",
    "    files = os.listdir(dir_path)\n",
    "    files.sort()\n",
    "    img_ls = [open(f'{dir_path}/{f}', 'rb').read() for f in files]\n",
    "    wi_ls = [widgets.Image(value=img, format='png', width=200) for img in img_ls]\n",
    "    sidebyside = widgets.HBox(wi_ls[::2])\n",
    "    print(f'mario speed: {df[df.imgs_folder_path == dir_path].mario_speed.values[0]}'\n",
    "          f', enemy speed: {df[df.imgs_folder_path == dir_path].enemy_speed.values[0]}',\n",
    "          f', box x: {df[df.imgs_folder_path == dir_path].box_x.values[0]}',\n",
    "          f', pipe x: {df[df.imgs_folder_path == dir_path].pipe_x.values[0]}')\n",
    "    display(sidebyside)\n",
    "    \n",
    "    dir_path = f'data/imgs_series/{index2:05d}'\n",
    "    files = os.listdir(dir_path)\n",
    "    files.sort()\n",
    "    img_ls = [open(f'{dir_path}/{f}', 'rb').read() for f in files]\n",
    "    wi_ls = [widgets.Image(value=img, format='png', width=200) for img in img_ls]\n",
    "    sidebyside = widgets.HBox(wi_ls[::2])\n",
    "    print(f'mario speed: {df[df.imgs_folder_path == dir_path].mario_speed.values[0]}'\n",
    "          f', enemy speed: {df[df.imgs_folder_path == dir_path].enemy_speed.values[0]}',\n",
    "          f', box x: {df[df.imgs_folder_path == dir_path].box_x.values[0]}',\n",
    "          f', pipe x: {df[df.imgs_folder_path == dir_path].pipe_x.values[0]}')\n",
    "    display(sidebyside)\n",
    "    \n",
    "interact(plot_first_and_last_pic, index1=list(range(1, len(df)-1)), index2=list(range(1, len(df)-1)))"
   ]
  },
  {
   "cell_type": "code",
   "execution_count": null,
   "metadata": {},
   "outputs": [],
   "source": [
    "cols = ['box_x', 'pipe_x', 'enemy_speed', 'mario_speed']\n",
    "fig = go.Figure()\n",
    "fig = make_subplots(rows=1, cols=4)\n",
    "for i, c in enumerate(const.HIDDEN_STATE_COLS):\n",
    "    fig.add_trace(go.Histogram(x=df[c].values), row=1, col=i+1)\n",
    "    fig.update_xaxes(title_text=c, row=1, col=i+1)\n",
    "\n",
    "# Overlay both histograms\n",
    "fig.update_layout(barmode='overlay', showlegend=False, title_text=\"Hidden state & question distributions\")\n",
    "# Reduce opacity to see both histograms\n",
    "fig.update_yaxes(title_text=\"Frequency\", row=1, col=1)\n",
    "fig.update_traces(opacity=0.5)\n",
    "fig.show()"
   ]
  },
  {
   "cell_type": "code",
   "execution_count": null,
   "metadata": {},
   "outputs": [],
   "source": [
    "fig = go.Figure()\n",
    "for c in const.ANSWER_COLS:\n",
    "    fig.add_trace(go.Histogram(x=df[c].values, name=c))\n",
    "\n",
    "# Overlay both histograms\n",
    "fig.update_layout(barmode='overlay')\n",
    "# Reduce opacity to see both histograms\n",
    "fig.update_layout(title_text=\"Optimal answer distributions\")\n",
    "fig.update_xaxes(title_text=\"Optimal answer value\")\n",
    "fig.update_yaxes(title_text=\"Frequency\")\n",
    "fig.update_traces(opacity=0.5)\n",
    "fig.show()"
   ]
  },
  {
   "cell_type": "code",
   "execution_count": null,
   "metadata": {},
   "outputs": [],
   "source": [
    "import src.constants as const\n",
    "def plot_answer(answer_col, col0, col1):\n",
    "    fig = px.scatter_3d(df, x=col0, y=col1, z=answer_col, color=answer_col)\n",
    "    fig.show()\n",
    "interact(plot_answer, col0=const.HIDDEN_STATE_COLS, col1=const.HIDDEN_STATE_COLS,\n",
    "         answer_col=const.ANSWER_COLS)"
   ]
  }
 ],
 "metadata": {
  "hide_input": false,
  "kernelspec": {
   "display_name": "Python 3",
   "language": "python",
   "name": "python3"
  },
  "language_info": {
   "codemirror_mode": {
    "name": "ipython",
    "version": 3
   },
   "file_extension": ".py",
   "mimetype": "text/x-python",
   "name": "python",
   "nbconvert_exporter": "python",
   "pygments_lexer": "ipython3",
   "version": "3.9.4"
  }
 },
 "nbformat": 4,
 "nbformat_minor": 4
}
