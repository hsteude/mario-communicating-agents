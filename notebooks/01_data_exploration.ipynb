{
 "cells": [
  {
   "cell_type": "code",
   "execution_count": null,
   "metadata": {},
   "outputs": [],
   "source": [
    "import os\n",
    "os.chdir('..')"
   ]
  },
  {
   "cell_type": "code",
   "execution_count": null,
   "metadata": {},
   "outputs": [],
   "source": [
    "from IPython.core.display import display, HTML\n",
    "display(HTML(\"<style>.container { width:100% !important; }</style>\"))"
   ]
  },
  {
   "cell_type": "code",
   "execution_count": null,
   "metadata": {},
   "outputs": [],
   "source": [
    "%load_ext autoreload\n",
    "%autoreload 2"
   ]
  },
  {
   "cell_type": "code",
   "execution_count": null,
   "metadata": {},
   "outputs": [],
   "source": [
    "import torch\n",
    "import torchvision\n",
    "from pytorch_lightning.callbacks import ModelCheckpoint\n",
    "from src.model.lit_module import LitModule\n",
    "from src.data.dataset import VideoLabelDataset\n",
    "import src.constants as const\n",
    "from torch.utils.data import DataLoader\n",
    "import plotly.graph_objects as go\n",
    "from plotly.subplots import make_subplots\n",
    "from src.data.dataset import (VideoLabelDataset,\n",
    "                              VideoFolderPathToTensor,\n",
    "                              VideoResize)\n",
    "import plotly\n",
    "import plotly.express as px\n",
    "import numpy as np\n",
    "from ipywidgets import interact"
   ]
  },
  {
   "cell_type": "code",
   "execution_count": null,
   "metadata": {},
   "outputs": [],
   "source": [
    "import pandas as pd"
   ]
  },
  {
   "cell_type": "code",
   "execution_count": null,
   "metadata": {},
   "outputs": [],
   "source": [
    "dataset = VideoLabelDataset(\n",
    "            const.LABELS_TABLE_QA_PATH,\n",
    "            img_transform=torchvision.transforms.Compose([\n",
    "                VideoFolderPathToTensor(),\n",
    "                VideoResize(const.IMG_SIZE)]))\n",
    "df = dataset.dataframe"
   ]
  },
  {
   "cell_type": "code",
   "execution_count": null,
   "metadata": {},
   "outputs": [],
   "source": [
    "df[(df.enemy_speed > 55) & (df.mario_speed > 65)]"
   ]
  },
  {
   "cell_type": "code",
   "execution_count": null,
   "metadata": {},
   "outputs": [],
   "source": [
    "def plot_first_and_last_pic(index1, index2):\n",
    "    dir_path = f'data/imgs_series/{index1:05d}'\n",
    "    files = os.listdir(dir_path)\n",
    "    img_ls = [open(f'{dir_path}/{f}', 'rb').read() for f in files]\n",
    "    wi_ls = [widgets.Image(value=img, format='png') for img in img_ls]\n",
    "    sidebyside = widgets.HBox([wi_ls[0], wi_ls[-1]])\n",
    "    print(f'mario speed: {df[df.imgs_folder_path == dir_path].mario_speed.values[0]}'\n",
    "          f', enemy speed: {df[df.imgs_folder_path == dir_path].enemy_speed.values[0]}',\n",
    "          f', box x: {df[df.imgs_folder_path == dir_path].box_x.values[0]}',\n",
    "          f', pipe x: {df[df.imgs_folder_path == dir_path].pipe_x.values[0]}')\n",
    "    display.display(sidebyside)\n",
    "    \n",
    "    dir_path = f'data/imgs_series/{index2:05d}'\n",
    "    files = os.listdir(dir_path)\n",
    "    img_ls = [open(f'{dir_path}/{f}', 'rb').read() for f in files]\n",
    "    wi_ls = [widgets.Image(value=img, format='png') for img in img_ls]\n",
    "    sidebyside = widgets.HBox([wi_ls[0], wi_ls[-1]])\n",
    "    print(f'mario speed: {df[df.imgs_folder_path == dir_path].mario_speed.values[0]}'\n",
    "          f', enemy speed: {df[df.imgs_folder_path == dir_path].enemy_speed.values[0]}',\n",
    "          f', box x: {df[df.imgs_folder_path == dir_path].box_x.values[0]}',\n",
    "          f', pipe x: {df[df.imgs_folder_path == dir_path].pipe_x.values[0]}')\n",
    "    display.display(sidebyside)\n",
    "    \n",
    "interact(plot_first_and_last_pic, index1=list(range(1, len(df)-1)), index2=list(range(1, len(df)-1)))"
   ]
  },
  {
   "cell_type": "code",
   "execution_count": null,
   "metadata": {},
   "outputs": [],
   "source": [
    "cols = ['box_x', 'pipe_x', 'enemy_speed', 'mario_speed']\n",
    "fig = go.Figure()\n",
    "fig = make_subplots(rows=1, cols=4)\n",
    "for i, c in enumerate(cols):\n",
    "    fig.add_trace(go.Histogram(x=df[c].values), row=1, col=i+1)\n",
    "    fig.update_xaxes(title_text=c, row=1, col=i+1)\n",
    "\n",
    "# Overlay both histograms\n",
    "fig.update_layout(barmode='overlay', showlegend=False, title_text=\"Hidden state & question distributions\")\n",
    "# Reduce opacity to see both histograms\n",
    "fig.update_yaxes(title_text=\"Frequency\", row=1, col=1)\n",
    "fig.update_traces(opacity=0.5)\n",
    "fig.show()\n"
   ]
  },
  {
   "cell_type": "code",
   "execution_count": null,
   "metadata": {},
   "outputs": [],
   "source": [
    "cols = ['answer_box', 'answer_pipe', 'answer_enemy', 'answer_mario_speed']\n",
    "fig = go.Figure()\n",
    "for c in cols:\n",
    "    fig.add_trace(go.Histogram(x=df[c].values, name=c))\n",
    "\n",
    "# Overlay both histograms\n",
    "fig.update_layout(barmode='overlay')\n",
    "# Reduce opacity to see both histograms\n",
    "fig.update_layout(title_text=\"Optimal answer distributions\")\n",
    "fig.update_xaxes(title_text=\"Optimal answer value\")\n",
    "fig.update_yaxes(title_text=\"Frequency\")\n",
    "fig.update_traces(opacity=0.5)\n",
    "fig.show()"
   ]
  },
  {
   "cell_type": "code",
   "execution_count": null,
   "metadata": {},
   "outputs": [],
   "source": [
    "def plot_answer(answer_col, col):\n",
    "    fig = px.scatter_3d(df, x=col, y=\"mario_speed\", z=answer_col)\n",
    "    fig.show()\n",
    "interact(plot_answer, col=['answer_box', 'answer_pipe', 'answer_enemy', 'answer_mario_speed'],\n",
    "         answer_col=['box_x', 'pipe_x', 'enemy_speed', 'mario_speed'])"
   ]
  },
  {
   "cell_type": "code",
   "execution_count": null,
   "metadata": {},
   "outputs": [],
   "source": []
  }
 ],
 "metadata": {
  "hide_input": false,
  "kernelspec": {
   "display_name": "mario",
   "language": "python",
   "name": "mario"
  },
  "language_info": {
   "codemirror_mode": {
    "name": "ipython",
    "version": 3
   },
   "file_extension": ".py",
   "mimetype": "text/x-python",
   "name": "python",
   "nbconvert_exporter": "python",
   "pygments_lexer": "ipython3",
   "version": "3.9.1"
  }
 },
 "nbformat": 4,
 "nbformat_minor": 4
}
