{
 "cells": [
  {
   "cell_type": "code",
   "execution_count": 1,
   "metadata": {},
   "outputs": [],
   "source": [
    "import os\n",
    "os.chdir('..')"
   ]
  },
  {
   "cell_type": "code",
   "execution_count": 2,
   "metadata": {},
   "outputs": [],
   "source": [
    "%load_ext autoreload\n",
    "%autoreload 2"
   ]
  },
  {
   "cell_type": "code",
   "execution_count": 3,
   "metadata": {},
   "outputs": [],
   "source": [
    "import torch\n",
    "import torchvision\n",
    "from pytorch_lightning.callbacks import ModelCheckpoint\n",
    "from src.model.lit_module import LitModule\n",
    "from src.data.dataset import VideoLabelDataset\n",
    "import src.constants as const\n",
    "from torch.utils.data import DataLoader\n",
    "from src.data.dataset import (VideoLabelDataset,\n",
    "                              VideoFolderPathToTensor,\n",
    "                              VideoResize)"
   ]
  },
  {
   "cell_type": "code",
   "execution_count": 4,
   "metadata": {},
   "outputs": [],
   "source": [
    "dataset = VideoLabelDataset(\n",
    "            const.LABELS_TABLE_QA_PATH,\n",
    "            img_transform=torchvision.transforms.Compose([\n",
    "                VideoFolderPathToTensor(),\n",
    "                VideoResize(const.IMG_SIZE)]))"
   ]
  },
  {
   "cell_type": "code",
   "execution_count": 5,
   "metadata": {},
   "outputs": [],
   "source": [
    "dataloader = DataLoader(dataset, batch_size=20, num_workers=2)"
   ]
  },
  {
   "cell_type": "code",
   "execution_count": 6,
   "metadata": {},
   "outputs": [],
   "source": [
    "videos, questions, answers, hidden_states, vid_folder  = iter(dataloader).next()"
   ]
  },
  {
   "cell_type": "code",
   "execution_count": 7,
   "metadata": {},
   "outputs": [
    {
     "data": {
      "text/html": [
       "<div>\n",
       "<style scoped>\n",
       "    .dataframe tbody tr th:only-of-type {\n",
       "        vertical-align: middle;\n",
       "    }\n",
       "\n",
       "    .dataframe tbody tr th {\n",
       "        vertical-align: top;\n",
       "    }\n",
       "\n",
       "    .dataframe thead th {\n",
       "        text-align: right;\n",
       "    }\n",
       "</style>\n",
       "<table border=\"1\" class=\"dataframe\">\n",
       "  <thead>\n",
       "    <tr style=\"text-align: right;\">\n",
       "      <th></th>\n",
       "      <th>Unnamed: 0</th>\n",
       "      <th>imgs_folder_path</th>\n",
       "      <th>box_x</th>\n",
       "      <th>pipe_x</th>\n",
       "      <th>enemy_speed</th>\n",
       "      <th>mario_speed</th>\n",
       "      <th>answer_box</th>\n",
       "      <th>answer_pipe</th>\n",
       "      <th>answer_enemy</th>\n",
       "    </tr>\n",
       "  </thead>\n",
       "  <tbody>\n",
       "    <tr>\n",
       "      <th>0</th>\n",
       "      <td>0</td>\n",
       "      <td>data/imgs_series/00001</td>\n",
       "      <td>0.156313</td>\n",
       "      <td>0.185930</td>\n",
       "      <td>1.000000</td>\n",
       "      <td>53.610005</td>\n",
       "      <td>0.222669</td>\n",
       "      <td>0.642245</td>\n",
       "      <td>0.772056</td>\n",
       "    </tr>\n",
       "    <tr>\n",
       "      <th>1</th>\n",
       "      <td>1</td>\n",
       "      <td>data/imgs_series/00002</td>\n",
       "      <td>0.214429</td>\n",
       "      <td>0.145729</td>\n",
       "      <td>0.250000</td>\n",
       "      <td>90.388381</td>\n",
       "      <td>0.119453</td>\n",
       "      <td>0.087789</td>\n",
       "      <td>0.012569</td>\n",
       "    </tr>\n",
       "    <tr>\n",
       "      <th>2</th>\n",
       "      <td>2</td>\n",
       "      <td>data/imgs_series/00003</td>\n",
       "      <td>0.018036</td>\n",
       "      <td>0.130653</td>\n",
       "      <td>0.666667</td>\n",
       "      <td>80.306984</td>\n",
       "      <td>0.033699</td>\n",
       "      <td>0.183020</td>\n",
       "      <td>0.045223</td>\n",
       "    </tr>\n",
       "    <tr>\n",
       "      <th>3</th>\n",
       "      <td>3</td>\n",
       "      <td>data/imgs_series/00004</td>\n",
       "      <td>0.104208</td>\n",
       "      <td>1.000000</td>\n",
       "      <td>0.291667</td>\n",
       "      <td>88.281578</td>\n",
       "      <td>0.066662</td>\n",
       "      <td>0.291999</td>\n",
       "      <td>0.016097</td>\n",
       "    </tr>\n",
       "    <tr>\n",
       "      <th>4</th>\n",
       "      <td>4</td>\n",
       "      <td>data/imgs_series/00005</td>\n",
       "      <td>0.262525</td>\n",
       "      <td>0.396985</td>\n",
       "      <td>0.125000</td>\n",
       "      <td>70.172598</td>\n",
       "      <td>0.215911</td>\n",
       "      <td>0.383197</td>\n",
       "      <td>0.038661</td>\n",
       "    </tr>\n",
       "    <tr>\n",
       "      <th>5</th>\n",
       "      <td>5</td>\n",
       "      <td>data/imgs_series/00006</td>\n",
       "      <td>0.797595</td>\n",
       "      <td>0.477387</td>\n",
       "      <td>0.041667</td>\n",
       "      <td>73.116969</td>\n",
       "      <td>0.543775</td>\n",
       "      <td>0.360670</td>\n",
       "      <td>0.029216</td>\n",
       "    </tr>\n",
       "    <tr>\n",
       "      <th>6</th>\n",
       "      <td>6</td>\n",
       "      <td>data/imgs_series/00007</td>\n",
       "      <td>0.038076</td>\n",
       "      <td>0.376884</td>\n",
       "      <td>0.083333</td>\n",
       "      <td>52.924301</td>\n",
       "      <td>0.122878</td>\n",
       "      <td>0.728766</td>\n",
       "      <td>0.095075</td>\n",
       "    </tr>\n",
       "    <tr>\n",
       "      <th>7</th>\n",
       "      <td>7</td>\n",
       "      <td>data/imgs_series/00008</td>\n",
       "      <td>0.689379</td>\n",
       "      <td>0.095477</td>\n",
       "      <td>0.750000</td>\n",
       "      <td>98.627947</td>\n",
       "      <td>0.324979</td>\n",
       "      <td>0.012256</td>\n",
       "      <td>0.016890</td>\n",
       "    </tr>\n",
       "    <tr>\n",
       "      <th>8</th>\n",
       "      <td>8</td>\n",
       "      <td>data/imgs_series/00009</td>\n",
       "      <td>0.390782</td>\n",
       "      <td>0.206030</td>\n",
       "      <td>0.708333</td>\n",
       "      <td>71.602496</td>\n",
       "      <td>0.292921</td>\n",
       "      <td>0.310474</td>\n",
       "      <td>0.076882</td>\n",
       "    </tr>\n",
       "    <tr>\n",
       "      <th>9</th>\n",
       "      <td>9</td>\n",
       "      <td>data/imgs_series/00010</td>\n",
       "      <td>0.150301</td>\n",
       "      <td>0.366834</td>\n",
       "      <td>0.416667</td>\n",
       "      <td>62.993787</td>\n",
       "      <td>0.169477</td>\n",
       "      <td>0.497407</td>\n",
       "      <td>0.084251</td>\n",
       "    </tr>\n",
       "  </tbody>\n",
       "</table>\n",
       "</div>"
      ],
      "text/plain": [
       "   Unnamed: 0        imgs_folder_path     box_x    pipe_x  enemy_speed  \\\n",
       "0           0  data/imgs_series/00001  0.156313  0.185930     1.000000   \n",
       "1           1  data/imgs_series/00002  0.214429  0.145729     0.250000   \n",
       "2           2  data/imgs_series/00003  0.018036  0.130653     0.666667   \n",
       "3           3  data/imgs_series/00004  0.104208  1.000000     0.291667   \n",
       "4           4  data/imgs_series/00005  0.262525  0.396985     0.125000   \n",
       "5           5  data/imgs_series/00006  0.797595  0.477387     0.041667   \n",
       "6           6  data/imgs_series/00007  0.038076  0.376884     0.083333   \n",
       "7           7  data/imgs_series/00008  0.689379  0.095477     0.750000   \n",
       "8           8  data/imgs_series/00009  0.390782  0.206030     0.708333   \n",
       "9           9  data/imgs_series/00010  0.150301  0.366834     0.416667   \n",
       "\n",
       "   mario_speed  answer_box  answer_pipe  answer_enemy  \n",
       "0    53.610005    0.222669     0.642245      0.772056  \n",
       "1    90.388381    0.119453     0.087789      0.012569  \n",
       "2    80.306984    0.033699     0.183020      0.045223  \n",
       "3    88.281578    0.066662     0.291999      0.016097  \n",
       "4    70.172598    0.215911     0.383197      0.038661  \n",
       "5    73.116969    0.543775     0.360670      0.029216  \n",
       "6    52.924301    0.122878     0.728766      0.095075  \n",
       "7    98.627947    0.324979     0.012256      0.016890  \n",
       "8    71.602496    0.292921     0.310474      0.076882  \n",
       "9    62.993787    0.169477     0.497407      0.084251  "
      ]
     },
     "execution_count": 7,
     "metadata": {},
     "output_type": "execute_result"
    }
   ],
   "source": [
    "dataset.dataframe.head(10)"
   ]
  },
  {
   "cell_type": "code",
   "execution_count": 8,
   "metadata": {},
   "outputs": [
    {
     "name": "stdout",
     "output_type": "stream",
     "text": [
      "total 131948\n",
      "-rw-rw-r-- 1 ubuntu 135111612 Jan  7 18:14 'epoch=60-step=1816.ckpt'\n"
     ]
    }
   ],
   "source": [
    "ll lightning_logs/version_16/checkpoints/"
   ]
  },
  {
   "cell_type": "code",
   "execution_count": 11,
   "metadata": {},
   "outputs": [],
   "source": [
    "checkpoint_path = './lightning_logs/version_16/checkpoints/epoch=60-step=1816.ckpt'"
   ]
  },
  {
   "cell_type": "code",
   "execution_count": 12,
   "metadata": {},
   "outputs": [],
   "source": [
    "model = LitModule.load_from_checkpoint(checkpoint_path)"
   ]
  },
  {
   "cell_type": "code",
   "execution_count": 17,
   "metadata": {},
   "outputs": [
    {
     "data": {
      "text/plain": [
       "tensor([[0.2968, 0.6125, 0.2432],\n",
       "        [0.1720, 0.1149, 0.0360],\n",
       "        [0.1885, 0.1899, 0.0454],\n",
       "        [0.1482, 0.2744, 0.0365],\n",
       "        [0.1898, 0.3400, 0.0680],\n",
       "        [0.5539, 0.3379, 0.0517],\n",
       "        [0.2760, 0.6661, 0.2422],\n",
       "        [0.3884, 0.0687, 0.0310],\n",
       "        [0.3320, 0.2890, 0.0596],\n",
       "        [0.2194, 0.4536, 0.1135],\n",
       "        [0.1664, 0.1533, 0.0387],\n",
       "        [0.4595, 0.2207, 0.0368],\n",
       "        [0.2504, 0.7921, 0.2152],\n",
       "        [0.3242, 0.1864, 0.0345],\n",
       "        [0.4935, 0.4198, 0.0449],\n",
       "        [0.3478, 0.2031, 0.0351],\n",
       "        [0.4105, 0.3111, 0.0506],\n",
       "        [0.3046, 0.1068, 0.0342],\n",
       "        [0.4931, 0.4169, 0.0500],\n",
       "        [0.2450, 0.4129, 0.1121]], grad_fn=<CatBackward>)"
      ]
     },
     "execution_count": 17,
     "metadata": {},
     "output_type": "execute_result"
    }
   ],
   "source": [
    "predictions = model.eval()(videos)\n",
    "predictions = [dec(predictions, questions) for dec in model.decoding_agents]\n",
    "predictions = torch.cat(predictions, axis=1)\n",
    "predictions"
   ]
  },
  {
   "cell_type": "code",
   "execution_count": 14,
   "metadata": {},
   "outputs": [
    {
     "data": {
      "text/plain": [
       "tensor([[0.2227, 0.6422, 0.7721],\n",
       "        [0.1195, 0.0878, 0.0126],\n",
       "        [0.0337, 0.1830, 0.0452],\n",
       "        [0.0667, 0.2920, 0.0161],\n",
       "        [0.2159, 0.3832, 0.0387],\n",
       "        [0.5438, 0.3607, 0.0292],\n",
       "        [0.1229, 0.7288, 0.0951],\n",
       "        [0.3250, 0.0123, 0.0169],\n",
       "        [0.2929, 0.3105, 0.0769],\n",
       "        [0.1695, 0.4974, 0.0843],\n",
       "        [0.0321, 0.1668, 0.0435],\n",
       "        [0.4351, 0.2393, 0.0168],\n",
       "        [0.1477, 0.8709, 0.1408],\n",
       "        [0.2635, 0.2030, 0.0370],\n",
       "        [0.4482, 0.4178, 0.0513],\n",
       "        [0.3035, 0.2227, 0.0091],\n",
       "        [0.3721, 0.3494, 0.0412],\n",
       "        [0.2732, 0.0569, 0.0085],\n",
       "        [0.4221, 0.4421, 0.0293],\n",
       "        [0.2300, 0.3867, 0.0945]])"
      ]
     },
     "execution_count": 14,
     "metadata": {},
     "output_type": "execute_result"
    }
   ],
   "source": [
    "answers"
   ]
  },
  {
   "cell_type": "code",
   "execution_count": 18,
   "metadata": {},
   "outputs": [
    {
     "data": {
      "text/plain": [
       "tensor(0.2628, grad_fn=<MseLossBackward>)"
      ]
     },
     "execution_count": 18,
     "metadata": {},
     "output_type": "execute_result"
    }
   ],
   "source": [
    "mse_loss = torch.nn.MSELoss(reduction='sum')\n",
    "mse_hidden = mse_loss(predictions[0:2,:].type(torch.float32),\n",
    "                      hidden_states[0:2,:].type(torch.float32))\n",
    "mse_hidden"
   ]
  },
  {
   "cell_type": "code",
   "execution_count": 33,
   "metadata": {},
   "outputs": [
    {
     "data": {
      "text/plain": [
       "73323.68388475002"
      ]
     },
     "execution_count": 33,
     "metadata": {},
     "output_type": "execute_result"
    }
   ],
   "source": []
  },
  {
   "cell_type": "code",
   "execution_count": null,
   "metadata": {},
   "outputs": [],
   "source": [
    "model.eval()(videos)"
   ]
  },
  {
   "cell_type": "code",
   "execution_count": 22,
   "metadata": {},
   "outputs": [
    {
     "data": {
      "text/plain": [
       "tensor([[543.4559, 996.8821,  37.2706],\n",
       "        [543.4633, 996.8958,  37.2711]], grad_fn=<SliceBackward>)"
      ]
     },
     "execution_count": 22,
     "metadata": {},
     "output_type": "execute_result"
    }
   ],
   "source": [
    "predictions[0:2,:]"
   ]
  },
  {
   "cell_type": "code",
   "execution_count": null,
   "metadata": {},
   "outputs": [],
   "source": []
  }
 ],
 "metadata": {
  "kernelspec": {
   "display_name": "Python 3",
   "language": "python",
   "name": "python3"
  },
  "language_info": {
   "codemirror_mode": {
    "name": "ipython",
    "version": 3
   },
   "file_extension": ".py",
   "mimetype": "text/x-python",
   "name": "python",
   "nbconvert_exporter": "python",
   "pygments_lexer": "ipython3",
   "version": "3.9.1"
  }
 },
 "nbformat": 4,
 "nbformat_minor": 4
}
