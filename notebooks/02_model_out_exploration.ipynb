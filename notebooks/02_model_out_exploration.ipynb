{
 "cells": [
  {
   "cell_type": "code",
   "execution_count": null,
   "metadata": {},
   "outputs": [],
   "source": [
    "import os\n",
    "os.chdir('..')"
   ]
  },
  {
   "cell_type": "code",
   "execution_count": null,
   "metadata": {},
   "outputs": [],
   "source": [
    "import torch\n",
    "import torchvision\n",
    "from pytorch_lightning.callbacks import ModelCheckpoint\n",
    "from src.model.lit_module import LitModule\n",
    "from src.data.dataset import VideoLabelDataset\n",
    "import src.constants as const\n",
    "from torch.utils.data import DataLoader\n",
    "from src.data.dataset import (VideoLabelDataset,\n",
    "                              VideoFolderPathToTensor,\n",
    "                              VideoResize)\n",
    "import plotly\n",
    "import numpy as np\n",
    "import pandas as pd\n",
    "import yaml\n",
    "%load_ext autoreload\n",
    "%autoreload 2"
   ]
  },
  {
   "cell_type": "code",
   "execution_count": null,
   "metadata": {},
   "outputs": [],
   "source": [
    "dataset = VideoLabelDataset(\n",
    "            const.LABELS_TABLE_QA_PATH,\n",
    "            img_transform=torchvision.transforms.Compose([\n",
    "                VideoFolderPathToTensor(),\n",
    "                VideoResize(const.IMG_SIZE)]))"
   ]
  },
  {
   "cell_type": "code",
   "execution_count": null,
   "metadata": {},
   "outputs": [],
   "source": [
    "dataloader = DataLoader(dataset, batch_size=200, num_workers=6)"
   ]
  },
  {
   "cell_type": "code",
   "execution_count": null,
   "metadata": {},
   "outputs": [],
   "source": [
    "#for validation data only\n",
    "# with open(\"lightning_logs/version_16/hparams.yaml\", 'r') as stream:\n",
    "#     hparams = yaml.load(stream, Loader=yaml.Loader)\n",
    "# lit_mod = LitModule(**hparams)\n",
    "# dataloader = lit_mod.val_dataloader()"
   ]
  },
  {
   "cell_type": "code",
   "execution_count": null,
   "metadata": {},
   "outputs": [],
   "source": [
    "videos, questions, answers, hidden_states, vid_folder  = iter(dataloader).next()"
   ]
  },
  {
   "cell_type": "code",
   "execution_count": null,
   "metadata": {},
   "outputs": [],
   "source": [
    "ll lightning_logs/version_16/checkpoints/"
   ]
  },
  {
   "cell_type": "code",
   "execution_count": null,
   "metadata": {},
   "outputs": [],
   "source": [
    "checkpoint_path = './lightning_logs/version_16/checkpoints/epoch=149-step=4499.ckpt'"
   ]
  },
  {
   "cell_type": "code",
   "execution_count": null,
   "metadata": {},
   "outputs": [],
   "source": [
    "model = LitModule.load_from_checkpoint(checkpoint_path)"
   ]
  },
  {
   "cell_type": "code",
   "execution_count": null,
   "metadata": {},
   "outputs": [],
   "source": [
    "hidden_states_pred = model.eval()(videos)\n",
    "answers_pred = [dec(hidden_states_pred, questions) for dec in model.decoding_agents]\n",
    "answers_pred = torch.cat(answers_pred, axis=1)"
   ]
  },
  {
   "cell_type": "code",
   "execution_count": null,
   "metadata": {},
   "outputs": [],
   "source": [
    "df_answers_pred = pd.DataFrame(answers_pred.detach().numpy(), columns=[f'{c}_pred' for c in const.ANSWER_COLS])\n",
    "df_hidden_states_pred = pd.DataFrame(hidden_states_pred.detach().numpy(), columns=[f'lat_neuron_{c}' for c in range(len(const.HIDDEN_STATE_COLS))])\n",
    "df_answers = pd.DataFrame(answers.detach().numpy(), columns=const.ANSWER_COLS)\n",
    "df_hidden_states = pd.DataFrame(hidden_states.detach().numpy(), columns=const.HIDDEN_STATE_COLS)\n",
    "df_questions = pd.DataFrame(questions.detach().numpy(), columns=[const.QUESTION_COL])"
   ]
  },
  {
   "cell_type": "code",
   "execution_count": null,
   "metadata": {},
   "outputs": [],
   "source": [
    "import plotly.graph_objects as go\n",
    "fig = go.Figure()\n",
    "for c in const.ANSWER_COLS:\n",
    "    fig.add_trace(go.Scatter(x=df_answers[c], y=df_answers_pred[f'{c}_pred'],\n",
    "                        mode='markers',\n",
    "                        name=c))\n",
    "fig.show()"
   ]
  },
  {
   "cell_type": "code",
   "execution_count": null,
   "metadata": {},
   "outputs": [],
   "source": [
    "from plotly.subplots import make_subplots\n",
    "import plotly.graph_objects as go\n",
    "\n",
    "fig = make_subplots(rows=3, cols=3)\n",
    "\n",
    "for i, hs in enumerate(df_hidden_states.columns):\n",
    "    for j, hs_pred in enumerate(df_hidden_states_pred.columns):\n",
    "        fig.add_trace(go.Scatter(x=df_hidden_states[hs], y=df_hidden_states_pred[hs_pred],\n",
    "                            mode='markers', name=f'activation {hs_pred} over box_x'),\n",
    "                     row=i+1, col=j+1)\n",
    "fig.update_layout(showlegend=False)\n",
    "\n",
    "# Update xaxis properties\n",
    "for i in range(len(const.HIDDEN_STATE_COLS)):\n",
    "    fig.update_xaxes(title_text=\"Coin position\", row=1, col=i+1)\n",
    "    fig.update_xaxes(title_text=\"Pipe position\", row=2, col=i+1)\n",
    "    fig.update_xaxes(title_text=\"Enemy speed\", row=3, col=i+1)\n",
    "\n",
    "for j in range(len(df_hidden_states_pred.columns)):\n",
    "    fig.update_yaxes(title_text=\"Latent neuron 0 activation\", row=j+1, col=1)\n",
    "    fig.update_yaxes(title_text=\"Latent neuron 1 activation\", row=j+1, col=2)\n",
    "    fig.update_yaxes(title_text=\"Latent neuron 2 activation\", row=j+1, col=3)\n",
    "\n",
    "fig.update_layout(height=1000, width=1200, title_text=\"Plot title\")\n",
    "fig.show()"
   ]
  },
  {
   "cell_type": "code",
   "execution_count": null,
   "metadata": {},
   "outputs": [],
   "source": []
  }
 ],
 "metadata": {
  "hide_input": false,
  "kernelspec": {
   "display_name": "Python 3",
   "language": "python",
   "name": "python3"
  },
  "language_info": {
   "codemirror_mode": {
    "name": "ipython",
    "version": 3
   },
   "file_extension": ".py",
   "mimetype": "text/x-python",
   "name": "python",
   "nbconvert_exporter": "python",
   "pygments_lexer": "ipython3",
   "version": "3.9.1"
  }
 },
 "nbformat": 4,
 "nbformat_minor": 4
}
