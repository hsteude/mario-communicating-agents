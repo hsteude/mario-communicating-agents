{
 "cells": [
  {
   "cell_type": "code",
   "execution_count": 1,
   "metadata": {},
   "outputs": [],
   "source": [
    "import os\n",
    "os.chdir('..')"
   ]
  },
  {
   "cell_type": "code",
   "execution_count": 2,
   "metadata": {},
   "outputs": [],
   "source": [
    "%load_ext autoreload\n",
    "%autoreload 2"
   ]
  },
  {
   "cell_type": "code",
   "execution_count": 37,
   "metadata": {},
   "outputs": [
    {
     "name": "stdout",
     "output_type": "stream",
     "text": [
      "Looking in indexes: https://pypi.python.org/simple/\n",
      "\u001b[31mERROR: Could not find a version that satisfies the requirement staticconf\u001b[0m\n",
      "\u001b[31mERROR: No matching distribution found for staticconf\u001b[0m\n",
      "Note: you may need to restart the kernel to use updated packages.\n"
     ]
    }
   ],
   "source": [
    "pip install staticconf"
   ]
  },
  {
   "cell_type": "code",
   "execution_count": 36,
   "metadata": {},
   "outputs": [
    {
     "ename": "ModuleNotFoundError",
     "evalue": "No module named 'staticconf'",
     "output_type": "error",
     "traceback": [
      "\u001b[1;31m---------------------------------------------------------------------------\u001b[0m",
      "\u001b[1;31mModuleNotFoundError\u001b[0m                       Traceback (most recent call last)",
      "\u001b[1;32m<ipython-input-36-3ceb4d736c82>\u001b[0m in \u001b[0;36m<module>\u001b[1;34m\u001b[0m\n\u001b[1;32m----> 1\u001b[1;33m \u001b[1;32mimport\u001b[0m \u001b[0mstaticconf\u001b[0m\u001b[1;33m\u001b[0m\u001b[1;33m\u001b[0m\u001b[0m\n\u001b[0m",
      "\u001b[1;31mModuleNotFoundError\u001b[0m: No module named 'staticconf'"
     ]
    }
   ],
   "source": []
  },
  {
   "cell_type": "code",
   "execution_count": 3,
   "metadata": {},
   "outputs": [],
   "source": [
    "import torch\n",
    "import torchvision\n",
    "from pytorch_lightning.callbacks import ModelCheckpoint\n",
    "from src.model.lit_module import LitModule\n",
    "from src.data.dataset import VideoLabelDataset\n",
    "import src.constants as const\n",
    "from torch.utils.data import DataLoader\n",
    "from src.data.dataset import (VideoLabelDataset,\n",
    "                              VideoFolderPathToTensor,\n",
    "                              VideoResize)\n",
    "import plotly\n",
    "import numpy as np\n",
    "import pandas as pd"
   ]
  },
  {
   "cell_type": "code",
   "execution_count": 4,
   "metadata": {},
   "outputs": [],
   "source": [
    "dataset = VideoLabelDataset(\n",
    "            const.LABELS_TABLE_QA_PATH,\n",
    "            img_transform=torchvision.transforms.Compose([\n",
    "                VideoFolderPathToTensor(),\n",
    "                VideoResize(const.IMG_SIZE)]))"
   ]
  },
  {
   "cell_type": "code",
   "execution_count": 5,
   "metadata": {},
   "outputs": [],
   "source": [
    "dataloader = DataLoader(dataset, batch_size=100, num_workers=6)"
   ]
  },
  {
   "cell_type": "code",
   "execution_count": 31,
   "metadata": {},
   "outputs": [],
   "source": [
    "from src.model.lit_module import LitModule"
   ]
  },
  {
   "cell_type": "code",
   "execution_count": 39,
   "metadata": {},
   "outputs": [],
   "source": [
    "import yaml"
   ]
  },
  {
   "cell_type": "code",
   "execution_count": 44,
   "metadata": {},
   "outputs": [],
   "source": [
    "with open(\"lightning_logs/version_11/hparams.yaml\", 'r') as stream:\n",
    "    hparams = yaml.load(stream, Loader=yaml.Loader)"
   ]
  },
  {
   "cell_type": "code",
   "execution_count": 45,
   "metadata": {},
   "outputs": [
    {
     "data": {
      "text/plain": [
       "{'accelerator': 'ddp',\n",
       " 'accumulate_grad_batches': 1,\n",
       " 'amp_backend': 'native',\n",
       " 'amp_level': 'O2',\n",
       " 'auto_lr_find': False,\n",
       " 'auto_scale_batch_size': False,\n",
       " 'auto_select_gpus': False,\n",
       " 'automatic_optimization': None,\n",
       " 'batch_size': 32,\n",
       " 'benchmark': False,\n",
       " 'beta': 0.001,\n",
       " 'check_val_every_n_epoch': 1,\n",
       " 'checkpoint_callback': True,\n",
       " 'dec_hidden_size': 32,\n",
       " 'dec_num_hidden_layers': 10,\n",
       " 'dec_num_question_inputs': 1,\n",
       " 'dec_single_answer_dim': 1,\n",
       " 'default_root_dir': None,\n",
       " 'deterministic': False,\n",
       " 'distributed_backend': None,\n",
       " 'dl_num_workers': 8,\n",
       " 'enable_pl_optimizer': False,\n",
       " 'enc_dr_rate': 0.0,\n",
       " 'enc_fixed_cnn_weights': False,\n",
       " 'enc_pretrained': True,\n",
       " 'enc_rnn_hidden_dim': 32,\n",
       " 'enc_rnn_num_layers': 2,\n",
       " 'fast_dev_run': False,\n",
       " 'filt_initial_log_var': -10.0,\n",
       " 'flush_logs_every_n_steps': 100,\n",
       " 'gpus': 1,\n",
       " 'gradient_clip_val': 0,\n",
       " 'learning_rate': 0.0005,\n",
       " 'limit_test_batches': 1.0,\n",
       " 'limit_train_batches': 1.0,\n",
       " 'limit_val_batches': 1.0,\n",
       " 'log_every_n_steps': 50,\n",
       " 'log_gpu_memory': None,\n",
       " 'logger': True,\n",
       " 'max_epochs': 1000,\n",
       " 'max_steps': None,\n",
       " 'min_epochs': 1,\n",
       " 'min_steps': None,\n",
       " 'move_metrics_to_cpu': False,\n",
       " 'num_hidden_states': 3,\n",
       " 'num_nodes': 1,\n",
       " 'num_processes': 1,\n",
       " 'num_sanity_val_steps': 2,\n",
       " 'overfit_batches': 0.0,\n",
       " 'plugins': None,\n",
       " 'precision': 32,\n",
       " 'prepare_data_per_node': True,\n",
       " 'pretrain_thres': 0.2,\n",
       " 'process_position': 0,\n",
       " 'profiler': None,\n",
       " 'progress_bar_refresh_rate': 1,\n",
       " 'reload_dataloaders_every_epoch': False,\n",
       " 'replace_sampler_ddp': True,\n",
       " 'resume_from_checkpoint': None,\n",
       " 'sync_batchnorm': False,\n",
       " 'terminate_on_nan': False,\n",
       " 'tpu_cores': <function pytorch_lightning.utilities.argparse_utils._gpus_arg_default(x) -> Union[int, str]>,\n",
       " 'track_grad_norm': -1,\n",
       " 'truncated_bptt_steps': None,\n",
       " 'val_check_interval': 1.0,\n",
       " 'validdation_split': 0.05,\n",
       " 'weights_save_path': None,\n",
       " 'weights_summary': 'top'}"
      ]
     },
     "execution_count": 45,
     "metadata": {},
     "output_type": "execute_result"
    }
   ],
   "source": [
    "hparams"
   ]
  },
  {
   "cell_type": "code",
   "execution_count": 46,
   "metadata": {},
   "outputs": [],
   "source": [
    "lit_mod = LitModule(**hparams)\n",
    "val_dataloader = lit_mod.val_dataloader()"
   ]
  },
  {
   "cell_type": "code",
   "execution_count": 47,
   "metadata": {},
   "outputs": [],
   "source": [
    "videos, questions, answers, hidden_states, vid_folder  = iter(val_dataloader).next()"
   ]
  },
  {
   "cell_type": "code",
   "execution_count": 48,
   "metadata": {},
   "outputs": [
    {
     "data": {
      "text/plain": [
       "torch.Size([32, 3, 11, 224, 224])"
      ]
     },
     "execution_count": 48,
     "metadata": {},
     "output_type": "execute_result"
    }
   ],
   "source": [
    "videos.shape"
   ]
  },
  {
   "cell_type": "code",
   "execution_count": 49,
   "metadata": {},
   "outputs": [
    {
     "name": "stdout",
     "output_type": "stream",
     "text": [
      "total 295136\r\n",
      "-rw-r--r--  1 henrik  staff  135112663 Jan  9 23:54 epoch=999-step=29999.ckpt\r\n"
     ]
    }
   ],
   "source": [
    "ll lightning_logs/version_11/checkpoints/"
   ]
  },
  {
   "cell_type": "code",
   "execution_count": 50,
   "metadata": {},
   "outputs": [],
   "source": [
    "checkpoint_path = './lightning_logs/version_11/checkpoints/epoch=999-step=29999.ckpt'"
   ]
  },
  {
   "cell_type": "code",
   "execution_count": 51,
   "metadata": {},
   "outputs": [],
   "source": [
    "model = LitModule.load_from_checkpoint(checkpoint_path)"
   ]
  },
  {
   "cell_type": "code",
   "execution_count": 52,
   "metadata": {},
   "outputs": [],
   "source": [
    "hidden_states_pred = model.eval()(videos)\n",
    "answers_pred = [dec(hidden_states_pred, questions) for dec in model.decoding_agents]\n",
    "answers_pred = torch.cat(answers_pred, axis=1)"
   ]
  },
  {
   "cell_type": "code",
   "execution_count": 53,
   "metadata": {},
   "outputs": [],
   "source": [
    "df_answers_pred = pd.DataFrame(answers_pred.detach().numpy(), columns=[f'{c}_pred' for c in const.ANSWER_COLS])\n",
    "df_hidden_states_pred = pd.DataFrame(hidden_states_pred.detach().numpy(), columns=[f'{c}_pred' for c in const.HIDDEN_STATE_COLS])\n",
    "df_answers = pd.DataFrame(answers.detach().numpy(), columns=const.ANSWER_COLS)\n",
    "df_hidden_states = pd.DataFrame(hidden_states.detach().numpy(), columns=const.HIDDEN_STATE_COLS)"
   ]
  },
  {
   "cell_type": "code",
   "execution_count": 54,
   "metadata": {},
   "outputs": [
    {
     "data": {
      "application/vnd.plotly.v1+json": {
       "config": {
        "plotlyServerURL": "https://plot.ly"
       },
       "data": [
        {
         "mode": "markers",
         "name": "answer_box",
         "type": "scatter",
         "x": [
          2.3734195232391357,
          -0.8926801085472107,
          0.6918307542800903,
          0.8897044658660889,
          0.08371685445308685,
          1.485144019126892,
          0.12224338948726654,
          0.018969403579831123,
          0.0637446790933609,
          0.44495102763175964,
          0.6627394556999207,
          2.0895094871520996,
          -0.2953473627567291,
          -0.4840092360973358,
          0.808910608291626,
          0.9207413196563721,
          -1.206602931022644,
          -0.7890763878822327,
          -1.0897586345672607,
          -0.07513182610273361,
          -0.32108092308044434,
          -0.11594051867723465,
          -1.0429526567459106,
          -0.05787493661046028,
          0.8357610106468201,
          -1.4890176057815552,
          -0.3619672656059265,
          2.1891558170318604,
          -0.9792050123214722,
          -0.21366900205612183,
          0.7236782908439636,
          0.9225152134895325
         ],
         "y": [
          2.2896876335144043,
          -0.9198812246322632,
          0.6459289193153381,
          0.7975752949714661,
          -0.00674048438668251,
          1.4397975206375122,
          0.0819019079208374,
          -0.02173147350549698,
          0.06963534653186798,
          0.3655955493450165,
          0.6703127026557922,
          1.960991382598877,
          -0.37910789251327515,
          -0.3582281768321991,
          0.6378142833709717,
          0.9713784456253052,
          -1.0360527038574219,
          -0.8421966433525085,
          -0.9334036707878113,
          -0.010365437716245651,
          -0.373825341463089,
          -0.1470932960510254,
          -0.9027971625328064,
          -0.2989022433757782,
          0.399023175239563,
          -0.8350493311882019,
          -0.4956570267677307,
          1.809515118598938,
          -1.2664291858673096,
          -0.23606795072555542,
          0.7427352070808411,
          0.8283379673957825
         ]
        },
        {
         "mode": "markers",
         "name": "answer_pipe",
         "type": "scatter",
         "x": [
          0.9391601085662842,
          -0.7879377603530884,
          -0.424835205078125,
          -0.49070677161216736,
          -0.8373647332191467,
          2.1077163219451904,
          -1.1222646236419678,
          -0.8338817954063416,
          0.10658039897680283,
          -0.038574568927288055,
          -0.7889178395271301,
          2.3887076377868652,
          0.06922167539596558,
          -1.0187803506851196,
          -0.5930910110473633,
          0.4057775139808655,
          -0.8811649680137634,
          -1.0132777690887451,
          0.000980491517111659,
          -0.19916732609272003,
          -0.7299121618270874,
          0.06466057151556015,
          -1.0607287883758545,
          1.4939745664596558,
          -1.1704455614089966,
          -0.4907058775424957,
          -0.2377714365720749,
          1.1865825653076172,
          -0.5095893144607544,
          -0.4000410735607147,
          0.9086369872093201,
          -0.5048923492431641
         ],
         "y": [
          0.8002917766571045,
          -1.0053602457046509,
          -0.5439947843551636,
          -0.6262995600700378,
          -1.140195369720459,
          2.2396347522735596,
          -1.3630350828170776,
          -1.0532047748565674,
          -0.03079920820891857,
          -0.028033068403601646,
          -0.9667617678642273,
          2.2814838886260986,
          -0.15715819597244263,
          -1.1189038753509521,
          -0.8796976804733276,
          0.3128986656665802,
          -1.1634573936462402,
          -1.1928722858428955,
          -0.18377867341041565,
          -0.2513282299041748,
          -0.864644467830658,
          -0.04119538515806198,
          -1.2524758577346802,
          1.1753007173538208,
          -1.3369389772415161,
          -0.6498104929924011,
          -0.3659258782863617,
          0.8869591355323792,
          -0.7341813445091248,
          -0.5600808262825012,
          0.888724148273468,
          -0.7964784502983093
         ]
        },
        {
         "mode": "markers",
         "name": "answer_enemy",
         "type": "scatter",
         "x": [
          1.9599162340164185,
          -0.48470279574394226,
          -0.5173506736755371,
          -0.36739581823349,
          -0.3254319429397583,
          0.878315806388855,
          -0.4123234152793884,
          -0.5554927587509155,
          -0.2747231423854828,
          -0.13218607008457184,
          -0.4614330232143402,
          0.43216705322265625,
          -0.2825395464897156,
          -0.24018916487693787,
          -0.3994801938533783,
          -0.02174702100455761,
          -0.28468403220176697,
          -0.5290145874023438,
          -0.24940280616283417,
          -0.456894189119339,
          -0.36864548921585083,
          -0.3825780749320984,
          -0.5323324203491211,
          0.6512981057167053,
          -0.3490215241909027,
          -0.24233803153038025,
          -0.42680394649505615,
          0.5959627032279968,
          -0.35830554366111755,
          -0.18043233454227448,
          0.3341861069202423,
          -0.08694817125797272
         ],
         "y": [
          2.9279944896698,
          -0.5752195119857788,
          -0.5919303894042969,
          -0.35031184554100037,
          -0.4025661051273346,
          1.2686113119125366,
          -0.4998140037059784,
          -0.6210823059082031,
          -0.352592796087265,
          -0.09678009152412415,
          -0.5598485469818115,
          0.6906405687332153,
          -0.309355765581131,
          -0.1499617099761963,
          -0.5096304416656494,
          0.5601421594619751,
          -0.48052629828453064,
          -0.5973209142684937,
          -0.3136347234249115,
          -0.5641803741455078,
          -0.43283548951148987,
          -0.4920583665370941,
          -0.5938693284988403,
          1.191573977470398,
          -0.5163788795471191,
          -0.19265511631965637,
          -0.5345507860183716,
          1.1780202388763428,
          -0.41892489790916443,
          -0.22271841764450073,
          0.5091387033462524,
          -0.5045390129089355
         ]
        }
       ],
       "layout": {
        "template": {
         "data": {
          "bar": [
           {
            "error_x": {
             "color": "#2a3f5f"
            },
            "error_y": {
             "color": "#2a3f5f"
            },
            "marker": {
             "line": {
              "color": "#E5ECF6",
              "width": 0.5
             }
            },
            "type": "bar"
           }
          ],
          "barpolar": [
           {
            "marker": {
             "line": {
              "color": "#E5ECF6",
              "width": 0.5
             }
            },
            "type": "barpolar"
           }
          ],
          "carpet": [
           {
            "aaxis": {
             "endlinecolor": "#2a3f5f",
             "gridcolor": "white",
             "linecolor": "white",
             "minorgridcolor": "white",
             "startlinecolor": "#2a3f5f"
            },
            "baxis": {
             "endlinecolor": "#2a3f5f",
             "gridcolor": "white",
             "linecolor": "white",
             "minorgridcolor": "white",
             "startlinecolor": "#2a3f5f"
            },
            "type": "carpet"
           }
          ],
          "choropleth": [
           {
            "colorbar": {
             "outlinewidth": 0,
             "ticks": ""
            },
            "type": "choropleth"
           }
          ],
          "contour": [
           {
            "colorbar": {
             "outlinewidth": 0,
             "ticks": ""
            },
            "colorscale": [
             [
              0,
              "#0d0887"
             ],
             [
              0.1111111111111111,
              "#46039f"
             ],
             [
              0.2222222222222222,
              "#7201a8"
             ],
             [
              0.3333333333333333,
              "#9c179e"
             ],
             [
              0.4444444444444444,
              "#bd3786"
             ],
             [
              0.5555555555555556,
              "#d8576b"
             ],
             [
              0.6666666666666666,
              "#ed7953"
             ],
             [
              0.7777777777777778,
              "#fb9f3a"
             ],
             [
              0.8888888888888888,
              "#fdca26"
             ],
             [
              1,
              "#f0f921"
             ]
            ],
            "type": "contour"
           }
          ],
          "contourcarpet": [
           {
            "colorbar": {
             "outlinewidth": 0,
             "ticks": ""
            },
            "type": "contourcarpet"
           }
          ],
          "heatmap": [
           {
            "colorbar": {
             "outlinewidth": 0,
             "ticks": ""
            },
            "colorscale": [
             [
              0,
              "#0d0887"
             ],
             [
              0.1111111111111111,
              "#46039f"
             ],
             [
              0.2222222222222222,
              "#7201a8"
             ],
             [
              0.3333333333333333,
              "#9c179e"
             ],
             [
              0.4444444444444444,
              "#bd3786"
             ],
             [
              0.5555555555555556,
              "#d8576b"
             ],
             [
              0.6666666666666666,
              "#ed7953"
             ],
             [
              0.7777777777777778,
              "#fb9f3a"
             ],
             [
              0.8888888888888888,
              "#fdca26"
             ],
             [
              1,
              "#f0f921"
             ]
            ],
            "type": "heatmap"
           }
          ],
          "heatmapgl": [
           {
            "colorbar": {
             "outlinewidth": 0,
             "ticks": ""
            },
            "colorscale": [
             [
              0,
              "#0d0887"
             ],
             [
              0.1111111111111111,
              "#46039f"
             ],
             [
              0.2222222222222222,
              "#7201a8"
             ],
             [
              0.3333333333333333,
              "#9c179e"
             ],
             [
              0.4444444444444444,
              "#bd3786"
             ],
             [
              0.5555555555555556,
              "#d8576b"
             ],
             [
              0.6666666666666666,
              "#ed7953"
             ],
             [
              0.7777777777777778,
              "#fb9f3a"
             ],
             [
              0.8888888888888888,
              "#fdca26"
             ],
             [
              1,
              "#f0f921"
             ]
            ],
            "type": "heatmapgl"
           }
          ],
          "histogram": [
           {
            "marker": {
             "colorbar": {
              "outlinewidth": 0,
              "ticks": ""
             }
            },
            "type": "histogram"
           }
          ],
          "histogram2d": [
           {
            "colorbar": {
             "outlinewidth": 0,
             "ticks": ""
            },
            "colorscale": [
             [
              0,
              "#0d0887"
             ],
             [
              0.1111111111111111,
              "#46039f"
             ],
             [
              0.2222222222222222,
              "#7201a8"
             ],
             [
              0.3333333333333333,
              "#9c179e"
             ],
             [
              0.4444444444444444,
              "#bd3786"
             ],
             [
              0.5555555555555556,
              "#d8576b"
             ],
             [
              0.6666666666666666,
              "#ed7953"
             ],
             [
              0.7777777777777778,
              "#fb9f3a"
             ],
             [
              0.8888888888888888,
              "#fdca26"
             ],
             [
              1,
              "#f0f921"
             ]
            ],
            "type": "histogram2d"
           }
          ],
          "histogram2dcontour": [
           {
            "colorbar": {
             "outlinewidth": 0,
             "ticks": ""
            },
            "colorscale": [
             [
              0,
              "#0d0887"
             ],
             [
              0.1111111111111111,
              "#46039f"
             ],
             [
              0.2222222222222222,
              "#7201a8"
             ],
             [
              0.3333333333333333,
              "#9c179e"
             ],
             [
              0.4444444444444444,
              "#bd3786"
             ],
             [
              0.5555555555555556,
              "#d8576b"
             ],
             [
              0.6666666666666666,
              "#ed7953"
             ],
             [
              0.7777777777777778,
              "#fb9f3a"
             ],
             [
              0.8888888888888888,
              "#fdca26"
             ],
             [
              1,
              "#f0f921"
             ]
            ],
            "type": "histogram2dcontour"
           }
          ],
          "mesh3d": [
           {
            "colorbar": {
             "outlinewidth": 0,
             "ticks": ""
            },
            "type": "mesh3d"
           }
          ],
          "parcoords": [
           {
            "line": {
             "colorbar": {
              "outlinewidth": 0,
              "ticks": ""
             }
            },
            "type": "parcoords"
           }
          ],
          "pie": [
           {
            "automargin": true,
            "type": "pie"
           }
          ],
          "scatter": [
           {
            "marker": {
             "colorbar": {
              "outlinewidth": 0,
              "ticks": ""
             }
            },
            "type": "scatter"
           }
          ],
          "scatter3d": [
           {
            "line": {
             "colorbar": {
              "outlinewidth": 0,
              "ticks": ""
             }
            },
            "marker": {
             "colorbar": {
              "outlinewidth": 0,
              "ticks": ""
             }
            },
            "type": "scatter3d"
           }
          ],
          "scattercarpet": [
           {
            "marker": {
             "colorbar": {
              "outlinewidth": 0,
              "ticks": ""
             }
            },
            "type": "scattercarpet"
           }
          ],
          "scattergeo": [
           {
            "marker": {
             "colorbar": {
              "outlinewidth": 0,
              "ticks": ""
             }
            },
            "type": "scattergeo"
           }
          ],
          "scattergl": [
           {
            "marker": {
             "colorbar": {
              "outlinewidth": 0,
              "ticks": ""
             }
            },
            "type": "scattergl"
           }
          ],
          "scattermapbox": [
           {
            "marker": {
             "colorbar": {
              "outlinewidth": 0,
              "ticks": ""
             }
            },
            "type": "scattermapbox"
           }
          ],
          "scatterpolar": [
           {
            "marker": {
             "colorbar": {
              "outlinewidth": 0,
              "ticks": ""
             }
            },
            "type": "scatterpolar"
           }
          ],
          "scatterpolargl": [
           {
            "marker": {
             "colorbar": {
              "outlinewidth": 0,
              "ticks": ""
             }
            },
            "type": "scatterpolargl"
           }
          ],
          "scatterternary": [
           {
            "marker": {
             "colorbar": {
              "outlinewidth": 0,
              "ticks": ""
             }
            },
            "type": "scatterternary"
           }
          ],
          "surface": [
           {
            "colorbar": {
             "outlinewidth": 0,
             "ticks": ""
            },
            "colorscale": [
             [
              0,
              "#0d0887"
             ],
             [
              0.1111111111111111,
              "#46039f"
             ],
             [
              0.2222222222222222,
              "#7201a8"
             ],
             [
              0.3333333333333333,
              "#9c179e"
             ],
             [
              0.4444444444444444,
              "#bd3786"
             ],
             [
              0.5555555555555556,
              "#d8576b"
             ],
             [
              0.6666666666666666,
              "#ed7953"
             ],
             [
              0.7777777777777778,
              "#fb9f3a"
             ],
             [
              0.8888888888888888,
              "#fdca26"
             ],
             [
              1,
              "#f0f921"
             ]
            ],
            "type": "surface"
           }
          ],
          "table": [
           {
            "cells": {
             "fill": {
              "color": "#EBF0F8"
             },
             "line": {
              "color": "white"
             }
            },
            "header": {
             "fill": {
              "color": "#C8D4E3"
             },
             "line": {
              "color": "white"
             }
            },
            "type": "table"
           }
          ]
         },
         "layout": {
          "annotationdefaults": {
           "arrowcolor": "#2a3f5f",
           "arrowhead": 0,
           "arrowwidth": 1
          },
          "autotypenumbers": "strict",
          "coloraxis": {
           "colorbar": {
            "outlinewidth": 0,
            "ticks": ""
           }
          },
          "colorscale": {
           "diverging": [
            [
             0,
             "#8e0152"
            ],
            [
             0.1,
             "#c51b7d"
            ],
            [
             0.2,
             "#de77ae"
            ],
            [
             0.3,
             "#f1b6da"
            ],
            [
             0.4,
             "#fde0ef"
            ],
            [
             0.5,
             "#f7f7f7"
            ],
            [
             0.6,
             "#e6f5d0"
            ],
            [
             0.7,
             "#b8e186"
            ],
            [
             0.8,
             "#7fbc41"
            ],
            [
             0.9,
             "#4d9221"
            ],
            [
             1,
             "#276419"
            ]
           ],
           "sequential": [
            [
             0,
             "#0d0887"
            ],
            [
             0.1111111111111111,
             "#46039f"
            ],
            [
             0.2222222222222222,
             "#7201a8"
            ],
            [
             0.3333333333333333,
             "#9c179e"
            ],
            [
             0.4444444444444444,
             "#bd3786"
            ],
            [
             0.5555555555555556,
             "#d8576b"
            ],
            [
             0.6666666666666666,
             "#ed7953"
            ],
            [
             0.7777777777777778,
             "#fb9f3a"
            ],
            [
             0.8888888888888888,
             "#fdca26"
            ],
            [
             1,
             "#f0f921"
            ]
           ],
           "sequentialminus": [
            [
             0,
             "#0d0887"
            ],
            [
             0.1111111111111111,
             "#46039f"
            ],
            [
             0.2222222222222222,
             "#7201a8"
            ],
            [
             0.3333333333333333,
             "#9c179e"
            ],
            [
             0.4444444444444444,
             "#bd3786"
            ],
            [
             0.5555555555555556,
             "#d8576b"
            ],
            [
             0.6666666666666666,
             "#ed7953"
            ],
            [
             0.7777777777777778,
             "#fb9f3a"
            ],
            [
             0.8888888888888888,
             "#fdca26"
            ],
            [
             1,
             "#f0f921"
            ]
           ]
          },
          "colorway": [
           "#636efa",
           "#EF553B",
           "#00cc96",
           "#ab63fa",
           "#FFA15A",
           "#19d3f3",
           "#FF6692",
           "#B6E880",
           "#FF97FF",
           "#FECB52"
          ],
          "font": {
           "color": "#2a3f5f"
          },
          "geo": {
           "bgcolor": "white",
           "lakecolor": "white",
           "landcolor": "#E5ECF6",
           "showlakes": true,
           "showland": true,
           "subunitcolor": "white"
          },
          "hoverlabel": {
           "align": "left"
          },
          "hovermode": "closest",
          "mapbox": {
           "style": "light"
          },
          "paper_bgcolor": "white",
          "plot_bgcolor": "#E5ECF6",
          "polar": {
           "angularaxis": {
            "gridcolor": "white",
            "linecolor": "white",
            "ticks": ""
           },
           "bgcolor": "#E5ECF6",
           "radialaxis": {
            "gridcolor": "white",
            "linecolor": "white",
            "ticks": ""
           }
          },
          "scene": {
           "xaxis": {
            "backgroundcolor": "#E5ECF6",
            "gridcolor": "white",
            "gridwidth": 2,
            "linecolor": "white",
            "showbackground": true,
            "ticks": "",
            "zerolinecolor": "white"
           },
           "yaxis": {
            "backgroundcolor": "#E5ECF6",
            "gridcolor": "white",
            "gridwidth": 2,
            "linecolor": "white",
            "showbackground": true,
            "ticks": "",
            "zerolinecolor": "white"
           },
           "zaxis": {
            "backgroundcolor": "#E5ECF6",
            "gridcolor": "white",
            "gridwidth": 2,
            "linecolor": "white",
            "showbackground": true,
            "ticks": "",
            "zerolinecolor": "white"
           }
          },
          "shapedefaults": {
           "line": {
            "color": "#2a3f5f"
           }
          },
          "ternary": {
           "aaxis": {
            "gridcolor": "white",
            "linecolor": "white",
            "ticks": ""
           },
           "baxis": {
            "gridcolor": "white",
            "linecolor": "white",
            "ticks": ""
           },
           "bgcolor": "#E5ECF6",
           "caxis": {
            "gridcolor": "white",
            "linecolor": "white",
            "ticks": ""
           }
          },
          "title": {
           "x": 0.05
          },
          "xaxis": {
           "automargin": true,
           "gridcolor": "white",
           "linecolor": "white",
           "ticks": "",
           "title": {
            "standoff": 15
           },
           "zerolinecolor": "white",
           "zerolinewidth": 2
          },
          "yaxis": {
           "automargin": true,
           "gridcolor": "white",
           "linecolor": "white",
           "ticks": "",
           "title": {
            "standoff": 15
           },
           "zerolinecolor": "white",
           "zerolinewidth": 2
          }
         }
        }
       }
      },
      "text/html": [
       "<div>                            <div id=\"2c779de1-f0cc-4664-afd4-00fe938d597b\" class=\"plotly-graph-div\" style=\"height:525px; width:100%;\"></div>            <script type=\"text/javascript\">                require([\"plotly\"], function(Plotly) {                    window.PLOTLYENV=window.PLOTLYENV || {};                                    if (document.getElementById(\"2c779de1-f0cc-4664-afd4-00fe938d597b\")) {                    Plotly.newPlot(                        \"2c779de1-f0cc-4664-afd4-00fe938d597b\",                        [{\"mode\": \"markers\", \"name\": \"answer_box\", \"type\": \"scatter\", \"x\": [2.3734195232391357, -0.8926801085472107, 0.6918307542800903, 0.8897044658660889, 0.08371685445308685, 1.485144019126892, 0.12224338948726654, 0.018969403579831123, 0.0637446790933609, 0.44495102763175964, 0.6627394556999207, 2.0895094871520996, -0.2953473627567291, -0.4840092360973358, 0.808910608291626, 0.9207413196563721, -1.206602931022644, -0.7890763878822327, -1.0897586345672607, -0.07513182610273361, -0.32108092308044434, -0.11594051867723465, -1.0429526567459106, -0.05787493661046028, 0.8357610106468201, -1.4890176057815552, -0.3619672656059265, 2.1891558170318604, -0.9792050123214722, -0.21366900205612183, 0.7236782908439636, 0.9225152134895325], \"y\": [2.2896876335144043, -0.9198812246322632, 0.6459289193153381, 0.7975752949714661, -0.00674048438668251, 1.4397975206375122, 0.0819019079208374, -0.02173147350549698, 0.06963534653186798, 0.3655955493450165, 0.6703127026557922, 1.960991382598877, -0.37910789251327515, -0.3582281768321991, 0.6378142833709717, 0.9713784456253052, -1.0360527038574219, -0.8421966433525085, -0.9334036707878113, -0.010365437716245651, -0.373825341463089, -0.1470932960510254, -0.9027971625328064, -0.2989022433757782, 0.399023175239563, -0.8350493311882019, -0.4956570267677307, 1.809515118598938, -1.2664291858673096, -0.23606795072555542, 0.7427352070808411, 0.8283379673957825]}, {\"mode\": \"markers\", \"name\": \"answer_pipe\", \"type\": \"scatter\", \"x\": [0.9391601085662842, -0.7879377603530884, -0.424835205078125, -0.49070677161216736, -0.8373647332191467, 2.1077163219451904, -1.1222646236419678, -0.8338817954063416, 0.10658039897680283, -0.038574568927288055, -0.7889178395271301, 2.3887076377868652, 0.06922167539596558, -1.0187803506851196, -0.5930910110473633, 0.4057775139808655, -0.8811649680137634, -1.0132777690887451, 0.000980491517111659, -0.19916732609272003, -0.7299121618270874, 0.06466057151556015, -1.0607287883758545, 1.4939745664596558, -1.1704455614089966, -0.4907058775424957, -0.2377714365720749, 1.1865825653076172, -0.5095893144607544, -0.4000410735607147, 0.9086369872093201, -0.5048923492431641], \"y\": [0.8002917766571045, -1.0053602457046509, -0.5439947843551636, -0.6262995600700378, -1.140195369720459, 2.2396347522735596, -1.3630350828170776, -1.0532047748565674, -0.03079920820891857, -0.028033068403601646, -0.9667617678642273, 2.2814838886260986, -0.15715819597244263, -1.1189038753509521, -0.8796976804733276, 0.3128986656665802, -1.1634573936462402, -1.1928722858428955, -0.18377867341041565, -0.2513282299041748, -0.864644467830658, -0.04119538515806198, -1.2524758577346802, 1.1753007173538208, -1.3369389772415161, -0.6498104929924011, -0.3659258782863617, 0.8869591355323792, -0.7341813445091248, -0.5600808262825012, 0.888724148273468, -0.7964784502983093]}, {\"mode\": \"markers\", \"name\": \"answer_enemy\", \"type\": \"scatter\", \"x\": [1.9599162340164185, -0.48470279574394226, -0.5173506736755371, -0.36739581823349, -0.3254319429397583, 0.878315806388855, -0.4123234152793884, -0.5554927587509155, -0.2747231423854828, -0.13218607008457184, -0.4614330232143402, 0.43216705322265625, -0.2825395464897156, -0.24018916487693787, -0.3994801938533783, -0.02174702100455761, -0.28468403220176697, -0.5290145874023438, -0.24940280616283417, -0.456894189119339, -0.36864548921585083, -0.3825780749320984, -0.5323324203491211, 0.6512981057167053, -0.3490215241909027, -0.24233803153038025, -0.42680394649505615, 0.5959627032279968, -0.35830554366111755, -0.18043233454227448, 0.3341861069202423, -0.08694817125797272], \"y\": [2.9279944896698, -0.5752195119857788, -0.5919303894042969, -0.35031184554100037, -0.4025661051273346, 1.2686113119125366, -0.4998140037059784, -0.6210823059082031, -0.352592796087265, -0.09678009152412415, -0.5598485469818115, 0.6906405687332153, -0.309355765581131, -0.1499617099761963, -0.5096304416656494, 0.5601421594619751, -0.48052629828453064, -0.5973209142684937, -0.3136347234249115, -0.5641803741455078, -0.43283548951148987, -0.4920583665370941, -0.5938693284988403, 1.191573977470398, -0.5163788795471191, -0.19265511631965637, -0.5345507860183716, 1.1780202388763428, -0.41892489790916443, -0.22271841764450073, 0.5091387033462524, -0.5045390129089355]}],                        {\"template\": {\"data\": {\"bar\": [{\"error_x\": {\"color\": \"#2a3f5f\"}, \"error_y\": {\"color\": \"#2a3f5f\"}, \"marker\": {\"line\": {\"color\": \"#E5ECF6\", \"width\": 0.5}}, \"type\": \"bar\"}], \"barpolar\": [{\"marker\": {\"line\": {\"color\": \"#E5ECF6\", \"width\": 0.5}}, \"type\": \"barpolar\"}], \"carpet\": [{\"aaxis\": {\"endlinecolor\": \"#2a3f5f\", \"gridcolor\": \"white\", \"linecolor\": \"white\", \"minorgridcolor\": \"white\", \"startlinecolor\": \"#2a3f5f\"}, \"baxis\": {\"endlinecolor\": \"#2a3f5f\", \"gridcolor\": \"white\", \"linecolor\": \"white\", \"minorgridcolor\": \"white\", \"startlinecolor\": \"#2a3f5f\"}, \"type\": \"carpet\"}], \"choropleth\": [{\"colorbar\": {\"outlinewidth\": 0, \"ticks\": \"\"}, \"type\": \"choropleth\"}], \"contour\": [{\"colorbar\": {\"outlinewidth\": 0, \"ticks\": \"\"}, \"colorscale\": [[0.0, \"#0d0887\"], [0.1111111111111111, \"#46039f\"], [0.2222222222222222, \"#7201a8\"], [0.3333333333333333, \"#9c179e\"], [0.4444444444444444, \"#bd3786\"], [0.5555555555555556, \"#d8576b\"], [0.6666666666666666, \"#ed7953\"], [0.7777777777777778, \"#fb9f3a\"], [0.8888888888888888, \"#fdca26\"], [1.0, \"#f0f921\"]], \"type\": \"contour\"}], \"contourcarpet\": [{\"colorbar\": {\"outlinewidth\": 0, \"ticks\": \"\"}, \"type\": \"contourcarpet\"}], \"heatmap\": [{\"colorbar\": {\"outlinewidth\": 0, \"ticks\": \"\"}, \"colorscale\": [[0.0, \"#0d0887\"], [0.1111111111111111, \"#46039f\"], [0.2222222222222222, \"#7201a8\"], [0.3333333333333333, \"#9c179e\"], [0.4444444444444444, \"#bd3786\"], [0.5555555555555556, \"#d8576b\"], [0.6666666666666666, \"#ed7953\"], [0.7777777777777778, \"#fb9f3a\"], [0.8888888888888888, \"#fdca26\"], [1.0, \"#f0f921\"]], \"type\": \"heatmap\"}], \"heatmapgl\": [{\"colorbar\": {\"outlinewidth\": 0, \"ticks\": \"\"}, \"colorscale\": [[0.0, \"#0d0887\"], [0.1111111111111111, \"#46039f\"], [0.2222222222222222, \"#7201a8\"], [0.3333333333333333, \"#9c179e\"], [0.4444444444444444, \"#bd3786\"], [0.5555555555555556, \"#d8576b\"], [0.6666666666666666, \"#ed7953\"], [0.7777777777777778, \"#fb9f3a\"], [0.8888888888888888, \"#fdca26\"], [1.0, \"#f0f921\"]], \"type\": \"heatmapgl\"}], \"histogram\": [{\"marker\": {\"colorbar\": {\"outlinewidth\": 0, \"ticks\": \"\"}}, \"type\": \"histogram\"}], \"histogram2d\": [{\"colorbar\": {\"outlinewidth\": 0, \"ticks\": \"\"}, \"colorscale\": [[0.0, \"#0d0887\"], [0.1111111111111111, \"#46039f\"], [0.2222222222222222, \"#7201a8\"], [0.3333333333333333, \"#9c179e\"], [0.4444444444444444, \"#bd3786\"], [0.5555555555555556, \"#d8576b\"], [0.6666666666666666, \"#ed7953\"], [0.7777777777777778, \"#fb9f3a\"], [0.8888888888888888, \"#fdca26\"], [1.0, \"#f0f921\"]], \"type\": \"histogram2d\"}], \"histogram2dcontour\": [{\"colorbar\": {\"outlinewidth\": 0, \"ticks\": \"\"}, \"colorscale\": [[0.0, \"#0d0887\"], [0.1111111111111111, \"#46039f\"], [0.2222222222222222, \"#7201a8\"], [0.3333333333333333, \"#9c179e\"], [0.4444444444444444, \"#bd3786\"], [0.5555555555555556, \"#d8576b\"], [0.6666666666666666, \"#ed7953\"], [0.7777777777777778, \"#fb9f3a\"], [0.8888888888888888, \"#fdca26\"], [1.0, \"#f0f921\"]], \"type\": \"histogram2dcontour\"}], \"mesh3d\": [{\"colorbar\": {\"outlinewidth\": 0, \"ticks\": \"\"}, \"type\": \"mesh3d\"}], \"parcoords\": [{\"line\": {\"colorbar\": {\"outlinewidth\": 0, \"ticks\": \"\"}}, \"type\": \"parcoords\"}], \"pie\": [{\"automargin\": true, \"type\": \"pie\"}], \"scatter\": [{\"marker\": {\"colorbar\": {\"outlinewidth\": 0, \"ticks\": \"\"}}, \"type\": \"scatter\"}], \"scatter3d\": [{\"line\": {\"colorbar\": {\"outlinewidth\": 0, \"ticks\": \"\"}}, \"marker\": {\"colorbar\": {\"outlinewidth\": 0, \"ticks\": \"\"}}, \"type\": \"scatter3d\"}], \"scattercarpet\": [{\"marker\": {\"colorbar\": {\"outlinewidth\": 0, \"ticks\": \"\"}}, \"type\": \"scattercarpet\"}], \"scattergeo\": [{\"marker\": {\"colorbar\": {\"outlinewidth\": 0, \"ticks\": \"\"}}, \"type\": \"scattergeo\"}], \"scattergl\": [{\"marker\": {\"colorbar\": {\"outlinewidth\": 0, \"ticks\": \"\"}}, \"type\": \"scattergl\"}], \"scattermapbox\": [{\"marker\": {\"colorbar\": {\"outlinewidth\": 0, \"ticks\": \"\"}}, \"type\": \"scattermapbox\"}], \"scatterpolar\": [{\"marker\": {\"colorbar\": {\"outlinewidth\": 0, \"ticks\": \"\"}}, \"type\": \"scatterpolar\"}], \"scatterpolargl\": [{\"marker\": {\"colorbar\": {\"outlinewidth\": 0, \"ticks\": \"\"}}, \"type\": \"scatterpolargl\"}], \"scatterternary\": [{\"marker\": {\"colorbar\": {\"outlinewidth\": 0, \"ticks\": \"\"}}, \"type\": \"scatterternary\"}], \"surface\": [{\"colorbar\": {\"outlinewidth\": 0, \"ticks\": \"\"}, \"colorscale\": [[0.0, \"#0d0887\"], [0.1111111111111111, \"#46039f\"], [0.2222222222222222, \"#7201a8\"], [0.3333333333333333, \"#9c179e\"], [0.4444444444444444, \"#bd3786\"], [0.5555555555555556, \"#d8576b\"], [0.6666666666666666, \"#ed7953\"], [0.7777777777777778, \"#fb9f3a\"], [0.8888888888888888, \"#fdca26\"], [1.0, \"#f0f921\"]], \"type\": \"surface\"}], \"table\": [{\"cells\": {\"fill\": {\"color\": \"#EBF0F8\"}, \"line\": {\"color\": \"white\"}}, \"header\": {\"fill\": {\"color\": \"#C8D4E3\"}, \"line\": {\"color\": \"white\"}}, \"type\": \"table\"}]}, \"layout\": {\"annotationdefaults\": {\"arrowcolor\": \"#2a3f5f\", \"arrowhead\": 0, \"arrowwidth\": 1}, \"autotypenumbers\": \"strict\", \"coloraxis\": {\"colorbar\": {\"outlinewidth\": 0, \"ticks\": \"\"}}, \"colorscale\": {\"diverging\": [[0, \"#8e0152\"], [0.1, \"#c51b7d\"], [0.2, \"#de77ae\"], [0.3, \"#f1b6da\"], [0.4, \"#fde0ef\"], [0.5, \"#f7f7f7\"], [0.6, \"#e6f5d0\"], [0.7, \"#b8e186\"], [0.8, \"#7fbc41\"], [0.9, \"#4d9221\"], [1, \"#276419\"]], \"sequential\": [[0.0, \"#0d0887\"], [0.1111111111111111, \"#46039f\"], [0.2222222222222222, \"#7201a8\"], [0.3333333333333333, \"#9c179e\"], [0.4444444444444444, \"#bd3786\"], [0.5555555555555556, \"#d8576b\"], [0.6666666666666666, \"#ed7953\"], [0.7777777777777778, \"#fb9f3a\"], [0.8888888888888888, \"#fdca26\"], [1.0, \"#f0f921\"]], \"sequentialminus\": [[0.0, \"#0d0887\"], [0.1111111111111111, \"#46039f\"], [0.2222222222222222, \"#7201a8\"], [0.3333333333333333, \"#9c179e\"], [0.4444444444444444, \"#bd3786\"], [0.5555555555555556, \"#d8576b\"], [0.6666666666666666, \"#ed7953\"], [0.7777777777777778, \"#fb9f3a\"], [0.8888888888888888, \"#fdca26\"], [1.0, \"#f0f921\"]]}, \"colorway\": [\"#636efa\", \"#EF553B\", \"#00cc96\", \"#ab63fa\", \"#FFA15A\", \"#19d3f3\", \"#FF6692\", \"#B6E880\", \"#FF97FF\", \"#FECB52\"], \"font\": {\"color\": \"#2a3f5f\"}, \"geo\": {\"bgcolor\": \"white\", \"lakecolor\": \"white\", \"landcolor\": \"#E5ECF6\", \"showlakes\": true, \"showland\": true, \"subunitcolor\": \"white\"}, \"hoverlabel\": {\"align\": \"left\"}, \"hovermode\": \"closest\", \"mapbox\": {\"style\": \"light\"}, \"paper_bgcolor\": \"white\", \"plot_bgcolor\": \"#E5ECF6\", \"polar\": {\"angularaxis\": {\"gridcolor\": \"white\", \"linecolor\": \"white\", \"ticks\": \"\"}, \"bgcolor\": \"#E5ECF6\", \"radialaxis\": {\"gridcolor\": \"white\", \"linecolor\": \"white\", \"ticks\": \"\"}}, \"scene\": {\"xaxis\": {\"backgroundcolor\": \"#E5ECF6\", \"gridcolor\": \"white\", \"gridwidth\": 2, \"linecolor\": \"white\", \"showbackground\": true, \"ticks\": \"\", \"zerolinecolor\": \"white\"}, \"yaxis\": {\"backgroundcolor\": \"#E5ECF6\", \"gridcolor\": \"white\", \"gridwidth\": 2, \"linecolor\": \"white\", \"showbackground\": true, \"ticks\": \"\", \"zerolinecolor\": \"white\"}, \"zaxis\": {\"backgroundcolor\": \"#E5ECF6\", \"gridcolor\": \"white\", \"gridwidth\": 2, \"linecolor\": \"white\", \"showbackground\": true, \"ticks\": \"\", \"zerolinecolor\": \"white\"}}, \"shapedefaults\": {\"line\": {\"color\": \"#2a3f5f\"}}, \"ternary\": {\"aaxis\": {\"gridcolor\": \"white\", \"linecolor\": \"white\", \"ticks\": \"\"}, \"baxis\": {\"gridcolor\": \"white\", \"linecolor\": \"white\", \"ticks\": \"\"}, \"bgcolor\": \"#E5ECF6\", \"caxis\": {\"gridcolor\": \"white\", \"linecolor\": \"white\", \"ticks\": \"\"}}, \"title\": {\"x\": 0.05}, \"xaxis\": {\"automargin\": true, \"gridcolor\": \"white\", \"linecolor\": \"white\", \"ticks\": \"\", \"title\": {\"standoff\": 15}, \"zerolinecolor\": \"white\", \"zerolinewidth\": 2}, \"yaxis\": {\"automargin\": true, \"gridcolor\": \"white\", \"linecolor\": \"white\", \"ticks\": \"\", \"title\": {\"standoff\": 15}, \"zerolinecolor\": \"white\", \"zerolinewidth\": 2}}}},                        {\"responsive\": true}                    ).then(function(){\n",
       "                            \n",
       "var gd = document.getElementById('2c779de1-f0cc-4664-afd4-00fe938d597b');\n",
       "var x = new MutationObserver(function (mutations, observer) {{\n",
       "        var display = window.getComputedStyle(gd).display;\n",
       "        if (!display || display === 'none') {{\n",
       "            console.log([gd, 'removed!']);\n",
       "            Plotly.purge(gd);\n",
       "            observer.disconnect();\n",
       "        }}\n",
       "}});\n",
       "\n",
       "// Listen for the removal of the full notebook cells\n",
       "var notebookContainer = gd.closest('#notebook-container');\n",
       "if (notebookContainer) {{\n",
       "    x.observe(notebookContainer, {childList: true});\n",
       "}}\n",
       "\n",
       "// Listen for the clearing of the current output cell\n",
       "var outputEl = gd.closest('.output');\n",
       "if (outputEl) {{\n",
       "    x.observe(outputEl, {childList: true});\n",
       "}}\n",
       "\n",
       "                        })                };                });            </script>        </div>"
      ]
     },
     "metadata": {},
     "output_type": "display_data"
    }
   ],
   "source": [
    "import plotly.graph_objects as go\n",
    "fig = go.Figure()\n",
    "for c in const.ANSWER_COLS:\n",
    "    fig.add_trace(go.Scatter(x=df_answers[c], y=df_answers_pred[f'{c}_pred'],\n",
    "                        mode='markers',\n",
    "                        name=c))\n",
    "fig.show()"
   ]
  },
  {
   "cell_type": "code",
   "execution_count": 55,
   "metadata": {},
   "outputs": [
    {
     "data": {
      "application/vnd.plotly.v1+json": {
       "config": {
        "plotlyServerURL": "https://plot.ly"
       },
       "data": [
        {
         "mode": "markers",
         "name": "box_x",
         "type": "scatter",
         "x": [
          761,
          438,
          772,
          695,
          612,
          652,
          676,
          654,
          592,
          668,
          785,
          677,
          482,
          512,
          720,
          651,
          380,
          496,
          367,
          579,
          574,
          557,
          425,
          437,
          786,
          315,
          533,
          718,
          423,
          538,
          622,
          751
         ],
         "y": [
          2.914321184158325,
          3.215975761413574,
          4.17185640335083,
          2.797773838043213,
          2.780820846557617,
          4.2863850593566895,
          3.0847039222717285,
          3.597118854522705,
          4.123439788818359,
          4.21165132522583,
          3.695425033569336,
          3.770378589630127,
          3.080415725708008,
          2.9353301525115967,
          2.8718857765197754,
          3.3600189685821533,
          3.0928592681884766,
          3.6683597564697266,
          3.3853707313537598,
          4.036625385284424,
          3.8147518634796143,
          4.076693058013916,
          3.223153829574585,
          2.9267005920410156,
          2.7470366954803467,
          3.485750198364258,
          4.0113043785095215,
          2.809645414352417,
          3.683671474456787,
          3.3190183639526367,
          4.016409397125244,
          3.0922770500183105
         ]
        },
        {
         "mode": "markers",
         "name": "pipe_x",
         "type": "scatter",
         "x": [
          929,
          975,
          1086,
          905,
          932,
          1095,
          964,
          1031,
          1089,
          1073,
          1032,
          1043,
          963,
          911,
          941,
          982,
          971,
          1030,
          997,
          1056,
          1039,
          1075,
          972,
          952,
          902,
          1003,
          1068,
          935,
          1042,
          981,
          1065,
          973
         ],
         "y": [
          3.3163912296295166,
          1.7887663841247559,
          1.2874643802642822,
          2.1124091148376465,
          2.766080617904663,
          2.7464988231658936,
          2.996575117111206,
          1.3439662456512451,
          2.680208921432495,
          3.3378140926361084,
          2.3065013885498047,
          1.891340970993042,
          2.0766189098358154,
          3.7422597408294678,
          1.7979943752288818,
          3.073866605758667,
          2.7228634357452393,
          2.276890993118286,
          2.346423387527466,
          1.5034868717193604,
          3.318547010421753,
          1.9966092109680176,
          1.970459222793579,
          2.475794553756714,
          2.436264753341675,
          3.613774061203003,
          2.0580832958221436,
          2.474872589111328,
          2.9788105487823486,
          3.0730178356170654,
          3.070399045944214,
          1.8685531616210938
         ]
        },
        {
         "mode": "markers",
         "name": "enemy_speed",
         "type": "scatter",
         "x": [
          46,
          29,
          28,
          27,
          40,
          41,
          44,
          26,
          40,
          48,
          38,
          31,
          29,
          47,
          30,
          37,
          48,
          35,
          35,
          28,
          46,
          32,
          29,
          35,
          43,
          45,
          33,
          36,
          42,
          44,
          45,
          49
         ],
         "y": [
          -3.022315502166748,
          -0.8294309377670288,
          -3.1234872341156006,
          -2.548055648803711,
          -2.0032405853271484,
          -2.3564839363098145,
          -2.4843413829803467,
          -2.322645425796509,
          -1.9729560613632202,
          -2.380906581878662,
          -3.2766835689544678,
          -2.4519028663635254,
          -1.1594524383544922,
          -1.6391205787658691,
          -2.610013246536255,
          -2.4246344566345215,
          -0.6336196660995483,
          -1.231307029724121,
          -0.5874313712120056,
          -1.9562665224075317,
          -1.8030476570129395,
          -1.6944775581359863,
          -0.9948196411132812,
          -0.7786349058151245,
          -2.6782164573669434,
          -0.9172853231430054,
          -1.4084250926971436,
          -2.5250911712646484,
          -0.15734927356243134,
          -1.5993009805679321,
          -2.2032713890075684,
          -2.9055216312408447
         ]
        }
       ],
       "layout": {
        "template": {
         "data": {
          "bar": [
           {
            "error_x": {
             "color": "#2a3f5f"
            },
            "error_y": {
             "color": "#2a3f5f"
            },
            "marker": {
             "line": {
              "color": "#E5ECF6",
              "width": 0.5
             }
            },
            "type": "bar"
           }
          ],
          "barpolar": [
           {
            "marker": {
             "line": {
              "color": "#E5ECF6",
              "width": 0.5
             }
            },
            "type": "barpolar"
           }
          ],
          "carpet": [
           {
            "aaxis": {
             "endlinecolor": "#2a3f5f",
             "gridcolor": "white",
             "linecolor": "white",
             "minorgridcolor": "white",
             "startlinecolor": "#2a3f5f"
            },
            "baxis": {
             "endlinecolor": "#2a3f5f",
             "gridcolor": "white",
             "linecolor": "white",
             "minorgridcolor": "white",
             "startlinecolor": "#2a3f5f"
            },
            "type": "carpet"
           }
          ],
          "choropleth": [
           {
            "colorbar": {
             "outlinewidth": 0,
             "ticks": ""
            },
            "type": "choropleth"
           }
          ],
          "contour": [
           {
            "colorbar": {
             "outlinewidth": 0,
             "ticks": ""
            },
            "colorscale": [
             [
              0,
              "#0d0887"
             ],
             [
              0.1111111111111111,
              "#46039f"
             ],
             [
              0.2222222222222222,
              "#7201a8"
             ],
             [
              0.3333333333333333,
              "#9c179e"
             ],
             [
              0.4444444444444444,
              "#bd3786"
             ],
             [
              0.5555555555555556,
              "#d8576b"
             ],
             [
              0.6666666666666666,
              "#ed7953"
             ],
             [
              0.7777777777777778,
              "#fb9f3a"
             ],
             [
              0.8888888888888888,
              "#fdca26"
             ],
             [
              1,
              "#f0f921"
             ]
            ],
            "type": "contour"
           }
          ],
          "contourcarpet": [
           {
            "colorbar": {
             "outlinewidth": 0,
             "ticks": ""
            },
            "type": "contourcarpet"
           }
          ],
          "heatmap": [
           {
            "colorbar": {
             "outlinewidth": 0,
             "ticks": ""
            },
            "colorscale": [
             [
              0,
              "#0d0887"
             ],
             [
              0.1111111111111111,
              "#46039f"
             ],
             [
              0.2222222222222222,
              "#7201a8"
             ],
             [
              0.3333333333333333,
              "#9c179e"
             ],
             [
              0.4444444444444444,
              "#bd3786"
             ],
             [
              0.5555555555555556,
              "#d8576b"
             ],
             [
              0.6666666666666666,
              "#ed7953"
             ],
             [
              0.7777777777777778,
              "#fb9f3a"
             ],
             [
              0.8888888888888888,
              "#fdca26"
             ],
             [
              1,
              "#f0f921"
             ]
            ],
            "type": "heatmap"
           }
          ],
          "heatmapgl": [
           {
            "colorbar": {
             "outlinewidth": 0,
             "ticks": ""
            },
            "colorscale": [
             [
              0,
              "#0d0887"
             ],
             [
              0.1111111111111111,
              "#46039f"
             ],
             [
              0.2222222222222222,
              "#7201a8"
             ],
             [
              0.3333333333333333,
              "#9c179e"
             ],
             [
              0.4444444444444444,
              "#bd3786"
             ],
             [
              0.5555555555555556,
              "#d8576b"
             ],
             [
              0.6666666666666666,
              "#ed7953"
             ],
             [
              0.7777777777777778,
              "#fb9f3a"
             ],
             [
              0.8888888888888888,
              "#fdca26"
             ],
             [
              1,
              "#f0f921"
             ]
            ],
            "type": "heatmapgl"
           }
          ],
          "histogram": [
           {
            "marker": {
             "colorbar": {
              "outlinewidth": 0,
              "ticks": ""
             }
            },
            "type": "histogram"
           }
          ],
          "histogram2d": [
           {
            "colorbar": {
             "outlinewidth": 0,
             "ticks": ""
            },
            "colorscale": [
             [
              0,
              "#0d0887"
             ],
             [
              0.1111111111111111,
              "#46039f"
             ],
             [
              0.2222222222222222,
              "#7201a8"
             ],
             [
              0.3333333333333333,
              "#9c179e"
             ],
             [
              0.4444444444444444,
              "#bd3786"
             ],
             [
              0.5555555555555556,
              "#d8576b"
             ],
             [
              0.6666666666666666,
              "#ed7953"
             ],
             [
              0.7777777777777778,
              "#fb9f3a"
             ],
             [
              0.8888888888888888,
              "#fdca26"
             ],
             [
              1,
              "#f0f921"
             ]
            ],
            "type": "histogram2d"
           }
          ],
          "histogram2dcontour": [
           {
            "colorbar": {
             "outlinewidth": 0,
             "ticks": ""
            },
            "colorscale": [
             [
              0,
              "#0d0887"
             ],
             [
              0.1111111111111111,
              "#46039f"
             ],
             [
              0.2222222222222222,
              "#7201a8"
             ],
             [
              0.3333333333333333,
              "#9c179e"
             ],
             [
              0.4444444444444444,
              "#bd3786"
             ],
             [
              0.5555555555555556,
              "#d8576b"
             ],
             [
              0.6666666666666666,
              "#ed7953"
             ],
             [
              0.7777777777777778,
              "#fb9f3a"
             ],
             [
              0.8888888888888888,
              "#fdca26"
             ],
             [
              1,
              "#f0f921"
             ]
            ],
            "type": "histogram2dcontour"
           }
          ],
          "mesh3d": [
           {
            "colorbar": {
             "outlinewidth": 0,
             "ticks": ""
            },
            "type": "mesh3d"
           }
          ],
          "parcoords": [
           {
            "line": {
             "colorbar": {
              "outlinewidth": 0,
              "ticks": ""
             }
            },
            "type": "parcoords"
           }
          ],
          "pie": [
           {
            "automargin": true,
            "type": "pie"
           }
          ],
          "scatter": [
           {
            "marker": {
             "colorbar": {
              "outlinewidth": 0,
              "ticks": ""
             }
            },
            "type": "scatter"
           }
          ],
          "scatter3d": [
           {
            "line": {
             "colorbar": {
              "outlinewidth": 0,
              "ticks": ""
             }
            },
            "marker": {
             "colorbar": {
              "outlinewidth": 0,
              "ticks": ""
             }
            },
            "type": "scatter3d"
           }
          ],
          "scattercarpet": [
           {
            "marker": {
             "colorbar": {
              "outlinewidth": 0,
              "ticks": ""
             }
            },
            "type": "scattercarpet"
           }
          ],
          "scattergeo": [
           {
            "marker": {
             "colorbar": {
              "outlinewidth": 0,
              "ticks": ""
             }
            },
            "type": "scattergeo"
           }
          ],
          "scattergl": [
           {
            "marker": {
             "colorbar": {
              "outlinewidth": 0,
              "ticks": ""
             }
            },
            "type": "scattergl"
           }
          ],
          "scattermapbox": [
           {
            "marker": {
             "colorbar": {
              "outlinewidth": 0,
              "ticks": ""
             }
            },
            "type": "scattermapbox"
           }
          ],
          "scatterpolar": [
           {
            "marker": {
             "colorbar": {
              "outlinewidth": 0,
              "ticks": ""
             }
            },
            "type": "scatterpolar"
           }
          ],
          "scatterpolargl": [
           {
            "marker": {
             "colorbar": {
              "outlinewidth": 0,
              "ticks": ""
             }
            },
            "type": "scatterpolargl"
           }
          ],
          "scatterternary": [
           {
            "marker": {
             "colorbar": {
              "outlinewidth": 0,
              "ticks": ""
             }
            },
            "type": "scatterternary"
           }
          ],
          "surface": [
           {
            "colorbar": {
             "outlinewidth": 0,
             "ticks": ""
            },
            "colorscale": [
             [
              0,
              "#0d0887"
             ],
             [
              0.1111111111111111,
              "#46039f"
             ],
             [
              0.2222222222222222,
              "#7201a8"
             ],
             [
              0.3333333333333333,
              "#9c179e"
             ],
             [
              0.4444444444444444,
              "#bd3786"
             ],
             [
              0.5555555555555556,
              "#d8576b"
             ],
             [
              0.6666666666666666,
              "#ed7953"
             ],
             [
              0.7777777777777778,
              "#fb9f3a"
             ],
             [
              0.8888888888888888,
              "#fdca26"
             ],
             [
              1,
              "#f0f921"
             ]
            ],
            "type": "surface"
           }
          ],
          "table": [
           {
            "cells": {
             "fill": {
              "color": "#EBF0F8"
             },
             "line": {
              "color": "white"
             }
            },
            "header": {
             "fill": {
              "color": "#C8D4E3"
             },
             "line": {
              "color": "white"
             }
            },
            "type": "table"
           }
          ]
         },
         "layout": {
          "annotationdefaults": {
           "arrowcolor": "#2a3f5f",
           "arrowhead": 0,
           "arrowwidth": 1
          },
          "autotypenumbers": "strict",
          "coloraxis": {
           "colorbar": {
            "outlinewidth": 0,
            "ticks": ""
           }
          },
          "colorscale": {
           "diverging": [
            [
             0,
             "#8e0152"
            ],
            [
             0.1,
             "#c51b7d"
            ],
            [
             0.2,
             "#de77ae"
            ],
            [
             0.3,
             "#f1b6da"
            ],
            [
             0.4,
             "#fde0ef"
            ],
            [
             0.5,
             "#f7f7f7"
            ],
            [
             0.6,
             "#e6f5d0"
            ],
            [
             0.7,
             "#b8e186"
            ],
            [
             0.8,
             "#7fbc41"
            ],
            [
             0.9,
             "#4d9221"
            ],
            [
             1,
             "#276419"
            ]
           ],
           "sequential": [
            [
             0,
             "#0d0887"
            ],
            [
             0.1111111111111111,
             "#46039f"
            ],
            [
             0.2222222222222222,
             "#7201a8"
            ],
            [
             0.3333333333333333,
             "#9c179e"
            ],
            [
             0.4444444444444444,
             "#bd3786"
            ],
            [
             0.5555555555555556,
             "#d8576b"
            ],
            [
             0.6666666666666666,
             "#ed7953"
            ],
            [
             0.7777777777777778,
             "#fb9f3a"
            ],
            [
             0.8888888888888888,
             "#fdca26"
            ],
            [
             1,
             "#f0f921"
            ]
           ],
           "sequentialminus": [
            [
             0,
             "#0d0887"
            ],
            [
             0.1111111111111111,
             "#46039f"
            ],
            [
             0.2222222222222222,
             "#7201a8"
            ],
            [
             0.3333333333333333,
             "#9c179e"
            ],
            [
             0.4444444444444444,
             "#bd3786"
            ],
            [
             0.5555555555555556,
             "#d8576b"
            ],
            [
             0.6666666666666666,
             "#ed7953"
            ],
            [
             0.7777777777777778,
             "#fb9f3a"
            ],
            [
             0.8888888888888888,
             "#fdca26"
            ],
            [
             1,
             "#f0f921"
            ]
           ]
          },
          "colorway": [
           "#636efa",
           "#EF553B",
           "#00cc96",
           "#ab63fa",
           "#FFA15A",
           "#19d3f3",
           "#FF6692",
           "#B6E880",
           "#FF97FF",
           "#FECB52"
          ],
          "font": {
           "color": "#2a3f5f"
          },
          "geo": {
           "bgcolor": "white",
           "lakecolor": "white",
           "landcolor": "#E5ECF6",
           "showlakes": true,
           "showland": true,
           "subunitcolor": "white"
          },
          "hoverlabel": {
           "align": "left"
          },
          "hovermode": "closest",
          "mapbox": {
           "style": "light"
          },
          "paper_bgcolor": "white",
          "plot_bgcolor": "#E5ECF6",
          "polar": {
           "angularaxis": {
            "gridcolor": "white",
            "linecolor": "white",
            "ticks": ""
           },
           "bgcolor": "#E5ECF6",
           "radialaxis": {
            "gridcolor": "white",
            "linecolor": "white",
            "ticks": ""
           }
          },
          "scene": {
           "xaxis": {
            "backgroundcolor": "#E5ECF6",
            "gridcolor": "white",
            "gridwidth": 2,
            "linecolor": "white",
            "showbackground": true,
            "ticks": "",
            "zerolinecolor": "white"
           },
           "yaxis": {
            "backgroundcolor": "#E5ECF6",
            "gridcolor": "white",
            "gridwidth": 2,
            "linecolor": "white",
            "showbackground": true,
            "ticks": "",
            "zerolinecolor": "white"
           },
           "zaxis": {
            "backgroundcolor": "#E5ECF6",
            "gridcolor": "white",
            "gridwidth": 2,
            "linecolor": "white",
            "showbackground": true,
            "ticks": "",
            "zerolinecolor": "white"
           }
          },
          "shapedefaults": {
           "line": {
            "color": "#2a3f5f"
           }
          },
          "ternary": {
           "aaxis": {
            "gridcolor": "white",
            "linecolor": "white",
            "ticks": ""
           },
           "baxis": {
            "gridcolor": "white",
            "linecolor": "white",
            "ticks": ""
           },
           "bgcolor": "#E5ECF6",
           "caxis": {
            "gridcolor": "white",
            "linecolor": "white",
            "ticks": ""
           }
          },
          "title": {
           "x": 0.05
          },
          "xaxis": {
           "automargin": true,
           "gridcolor": "white",
           "linecolor": "white",
           "ticks": "",
           "title": {
            "standoff": 15
           },
           "zerolinecolor": "white",
           "zerolinewidth": 2
          },
          "yaxis": {
           "automargin": true,
           "gridcolor": "white",
           "linecolor": "white",
           "ticks": "",
           "title": {
            "standoff": 15
           },
           "zerolinecolor": "white",
           "zerolinewidth": 2
          }
         }
        }
       }
      },
      "text/html": [
       "<div>                            <div id=\"a2464fb5-2da0-4382-aca6-c09101d2b296\" class=\"plotly-graph-div\" style=\"height:525px; width:100%;\"></div>            <script type=\"text/javascript\">                require([\"plotly\"], function(Plotly) {                    window.PLOTLYENV=window.PLOTLYENV || {};                                    if (document.getElementById(\"a2464fb5-2da0-4382-aca6-c09101d2b296\")) {                    Plotly.newPlot(                        \"a2464fb5-2da0-4382-aca6-c09101d2b296\",                        [{\"mode\": \"markers\", \"name\": \"box_x\", \"type\": \"scatter\", \"x\": [761.0, 438.0, 772.0, 695.0, 612.0, 652.0, 676.0, 654.0, 592.0, 668.0, 785.0, 677.0, 482.0, 512.0, 720.0, 651.0, 380.0, 496.0, 367.0, 579.0, 574.0, 557.0, 425.0, 437.0, 786.0, 315.0, 533.0, 718.0, 423.0, 538.0, 622.0, 751.0], \"y\": [2.914321184158325, 3.215975761413574, 4.17185640335083, 2.797773838043213, 2.780820846557617, 4.2863850593566895, 3.0847039222717285, 3.597118854522705, 4.123439788818359, 4.21165132522583, 3.695425033569336, 3.770378589630127, 3.080415725708008, 2.9353301525115967, 2.8718857765197754, 3.3600189685821533, 3.0928592681884766, 3.6683597564697266, 3.3853707313537598, 4.036625385284424, 3.8147518634796143, 4.076693058013916, 3.223153829574585, 2.9267005920410156, 2.7470366954803467, 3.485750198364258, 4.0113043785095215, 2.809645414352417, 3.683671474456787, 3.3190183639526367, 4.016409397125244, 3.0922770500183105]}, {\"mode\": \"markers\", \"name\": \"pipe_x\", \"type\": \"scatter\", \"x\": [929.0, 975.0, 1086.0, 905.0, 932.0, 1095.0, 964.0, 1031.0, 1089.0, 1073.0, 1032.0, 1043.0, 963.0, 911.0, 941.0, 982.0, 971.0, 1030.0, 997.0, 1056.0, 1039.0, 1075.0, 972.0, 952.0, 902.0, 1003.0, 1068.0, 935.0, 1042.0, 981.0, 1065.0, 973.0], \"y\": [3.3163912296295166, 1.7887663841247559, 1.2874643802642822, 2.1124091148376465, 2.766080617904663, 2.7464988231658936, 2.996575117111206, 1.3439662456512451, 2.680208921432495, 3.3378140926361084, 2.3065013885498047, 1.891340970993042, 2.0766189098358154, 3.7422597408294678, 1.7979943752288818, 3.073866605758667, 2.7228634357452393, 2.276890993118286, 2.346423387527466, 1.5034868717193604, 3.318547010421753, 1.9966092109680176, 1.970459222793579, 2.475794553756714, 2.436264753341675, 3.613774061203003, 2.0580832958221436, 2.474872589111328, 2.9788105487823486, 3.0730178356170654, 3.070399045944214, 1.8685531616210938]}, {\"mode\": \"markers\", \"name\": \"enemy_speed\", \"type\": \"scatter\", \"x\": [46.0, 29.0, 28.0, 27.0, 40.0, 41.0, 44.0, 26.0, 40.0, 48.0, 38.0, 31.0, 29.0, 47.0, 30.0, 37.0, 48.0, 35.0, 35.0, 28.0, 46.0, 32.0, 29.0, 35.0, 43.0, 45.0, 33.0, 36.0, 42.0, 44.0, 45.0, 49.0], \"y\": [-3.022315502166748, -0.8294309377670288, -3.1234872341156006, -2.548055648803711, -2.0032405853271484, -2.3564839363098145, -2.4843413829803467, -2.322645425796509, -1.9729560613632202, -2.380906581878662, -3.2766835689544678, -2.4519028663635254, -1.1594524383544922, -1.6391205787658691, -2.610013246536255, -2.4246344566345215, -0.6336196660995483, -1.231307029724121, -0.5874313712120056, -1.9562665224075317, -1.8030476570129395, -1.6944775581359863, -0.9948196411132812, -0.7786349058151245, -2.6782164573669434, -0.9172853231430054, -1.4084250926971436, -2.5250911712646484, -0.15734927356243134, -1.5993009805679321, -2.2032713890075684, -2.9055216312408447]}],                        {\"template\": {\"data\": {\"bar\": [{\"error_x\": {\"color\": \"#2a3f5f\"}, \"error_y\": {\"color\": \"#2a3f5f\"}, \"marker\": {\"line\": {\"color\": \"#E5ECF6\", \"width\": 0.5}}, \"type\": \"bar\"}], \"barpolar\": [{\"marker\": {\"line\": {\"color\": \"#E5ECF6\", \"width\": 0.5}}, \"type\": \"barpolar\"}], \"carpet\": [{\"aaxis\": {\"endlinecolor\": \"#2a3f5f\", \"gridcolor\": \"white\", \"linecolor\": \"white\", \"minorgridcolor\": \"white\", \"startlinecolor\": \"#2a3f5f\"}, \"baxis\": {\"endlinecolor\": \"#2a3f5f\", \"gridcolor\": \"white\", \"linecolor\": \"white\", \"minorgridcolor\": \"white\", \"startlinecolor\": \"#2a3f5f\"}, \"type\": \"carpet\"}], \"choropleth\": [{\"colorbar\": {\"outlinewidth\": 0, \"ticks\": \"\"}, \"type\": \"choropleth\"}], \"contour\": [{\"colorbar\": {\"outlinewidth\": 0, \"ticks\": \"\"}, \"colorscale\": [[0.0, \"#0d0887\"], [0.1111111111111111, \"#46039f\"], [0.2222222222222222, \"#7201a8\"], [0.3333333333333333, \"#9c179e\"], [0.4444444444444444, \"#bd3786\"], [0.5555555555555556, \"#d8576b\"], [0.6666666666666666, \"#ed7953\"], [0.7777777777777778, \"#fb9f3a\"], [0.8888888888888888, \"#fdca26\"], [1.0, \"#f0f921\"]], \"type\": \"contour\"}], \"contourcarpet\": [{\"colorbar\": {\"outlinewidth\": 0, \"ticks\": \"\"}, \"type\": \"contourcarpet\"}], \"heatmap\": [{\"colorbar\": {\"outlinewidth\": 0, \"ticks\": \"\"}, \"colorscale\": [[0.0, \"#0d0887\"], [0.1111111111111111, \"#46039f\"], [0.2222222222222222, \"#7201a8\"], [0.3333333333333333, \"#9c179e\"], [0.4444444444444444, \"#bd3786\"], [0.5555555555555556, \"#d8576b\"], [0.6666666666666666, \"#ed7953\"], [0.7777777777777778, \"#fb9f3a\"], [0.8888888888888888, \"#fdca26\"], [1.0, \"#f0f921\"]], \"type\": \"heatmap\"}], \"heatmapgl\": [{\"colorbar\": {\"outlinewidth\": 0, \"ticks\": \"\"}, \"colorscale\": [[0.0, \"#0d0887\"], [0.1111111111111111, \"#46039f\"], [0.2222222222222222, \"#7201a8\"], [0.3333333333333333, \"#9c179e\"], [0.4444444444444444, \"#bd3786\"], [0.5555555555555556, \"#d8576b\"], [0.6666666666666666, \"#ed7953\"], [0.7777777777777778, \"#fb9f3a\"], [0.8888888888888888, \"#fdca26\"], [1.0, \"#f0f921\"]], \"type\": \"heatmapgl\"}], \"histogram\": [{\"marker\": {\"colorbar\": {\"outlinewidth\": 0, \"ticks\": \"\"}}, \"type\": \"histogram\"}], \"histogram2d\": [{\"colorbar\": {\"outlinewidth\": 0, \"ticks\": \"\"}, \"colorscale\": [[0.0, \"#0d0887\"], [0.1111111111111111, \"#46039f\"], [0.2222222222222222, \"#7201a8\"], [0.3333333333333333, \"#9c179e\"], [0.4444444444444444, \"#bd3786\"], [0.5555555555555556, \"#d8576b\"], [0.6666666666666666, \"#ed7953\"], [0.7777777777777778, \"#fb9f3a\"], [0.8888888888888888, \"#fdca26\"], [1.0, \"#f0f921\"]], \"type\": \"histogram2d\"}], \"histogram2dcontour\": [{\"colorbar\": {\"outlinewidth\": 0, \"ticks\": \"\"}, \"colorscale\": [[0.0, \"#0d0887\"], [0.1111111111111111, \"#46039f\"], [0.2222222222222222, \"#7201a8\"], [0.3333333333333333, \"#9c179e\"], [0.4444444444444444, \"#bd3786\"], [0.5555555555555556, \"#d8576b\"], [0.6666666666666666, \"#ed7953\"], [0.7777777777777778, \"#fb9f3a\"], [0.8888888888888888, \"#fdca26\"], [1.0, \"#f0f921\"]], \"type\": \"histogram2dcontour\"}], \"mesh3d\": [{\"colorbar\": {\"outlinewidth\": 0, \"ticks\": \"\"}, \"type\": \"mesh3d\"}], \"parcoords\": [{\"line\": {\"colorbar\": {\"outlinewidth\": 0, \"ticks\": \"\"}}, \"type\": \"parcoords\"}], \"pie\": [{\"automargin\": true, \"type\": \"pie\"}], \"scatter\": [{\"marker\": {\"colorbar\": {\"outlinewidth\": 0, \"ticks\": \"\"}}, \"type\": \"scatter\"}], \"scatter3d\": [{\"line\": {\"colorbar\": {\"outlinewidth\": 0, \"ticks\": \"\"}}, \"marker\": {\"colorbar\": {\"outlinewidth\": 0, \"ticks\": \"\"}}, \"type\": \"scatter3d\"}], \"scattercarpet\": [{\"marker\": {\"colorbar\": {\"outlinewidth\": 0, \"ticks\": \"\"}}, \"type\": \"scattercarpet\"}], \"scattergeo\": [{\"marker\": {\"colorbar\": {\"outlinewidth\": 0, \"ticks\": \"\"}}, \"type\": \"scattergeo\"}], \"scattergl\": [{\"marker\": {\"colorbar\": {\"outlinewidth\": 0, \"ticks\": \"\"}}, \"type\": \"scattergl\"}], \"scattermapbox\": [{\"marker\": {\"colorbar\": {\"outlinewidth\": 0, \"ticks\": \"\"}}, \"type\": \"scattermapbox\"}], \"scatterpolar\": [{\"marker\": {\"colorbar\": {\"outlinewidth\": 0, \"ticks\": \"\"}}, \"type\": \"scatterpolar\"}], \"scatterpolargl\": [{\"marker\": {\"colorbar\": {\"outlinewidth\": 0, \"ticks\": \"\"}}, \"type\": \"scatterpolargl\"}], \"scatterternary\": [{\"marker\": {\"colorbar\": {\"outlinewidth\": 0, \"ticks\": \"\"}}, \"type\": \"scatterternary\"}], \"surface\": [{\"colorbar\": {\"outlinewidth\": 0, \"ticks\": \"\"}, \"colorscale\": [[0.0, \"#0d0887\"], [0.1111111111111111, \"#46039f\"], [0.2222222222222222, \"#7201a8\"], [0.3333333333333333, \"#9c179e\"], [0.4444444444444444, \"#bd3786\"], [0.5555555555555556, \"#d8576b\"], [0.6666666666666666, \"#ed7953\"], [0.7777777777777778, \"#fb9f3a\"], [0.8888888888888888, \"#fdca26\"], [1.0, \"#f0f921\"]], \"type\": \"surface\"}], \"table\": [{\"cells\": {\"fill\": {\"color\": \"#EBF0F8\"}, \"line\": {\"color\": \"white\"}}, \"header\": {\"fill\": {\"color\": \"#C8D4E3\"}, \"line\": {\"color\": \"white\"}}, \"type\": \"table\"}]}, \"layout\": {\"annotationdefaults\": {\"arrowcolor\": \"#2a3f5f\", \"arrowhead\": 0, \"arrowwidth\": 1}, \"autotypenumbers\": \"strict\", \"coloraxis\": {\"colorbar\": {\"outlinewidth\": 0, \"ticks\": \"\"}}, \"colorscale\": {\"diverging\": [[0, \"#8e0152\"], [0.1, \"#c51b7d\"], [0.2, \"#de77ae\"], [0.3, \"#f1b6da\"], [0.4, \"#fde0ef\"], [0.5, \"#f7f7f7\"], [0.6, \"#e6f5d0\"], [0.7, \"#b8e186\"], [0.8, \"#7fbc41\"], [0.9, \"#4d9221\"], [1, \"#276419\"]], \"sequential\": [[0.0, \"#0d0887\"], [0.1111111111111111, \"#46039f\"], [0.2222222222222222, \"#7201a8\"], [0.3333333333333333, \"#9c179e\"], [0.4444444444444444, \"#bd3786\"], [0.5555555555555556, \"#d8576b\"], [0.6666666666666666, \"#ed7953\"], [0.7777777777777778, \"#fb9f3a\"], [0.8888888888888888, \"#fdca26\"], [1.0, \"#f0f921\"]], \"sequentialminus\": [[0.0, \"#0d0887\"], [0.1111111111111111, \"#46039f\"], [0.2222222222222222, \"#7201a8\"], [0.3333333333333333, \"#9c179e\"], [0.4444444444444444, \"#bd3786\"], [0.5555555555555556, \"#d8576b\"], [0.6666666666666666, \"#ed7953\"], [0.7777777777777778, \"#fb9f3a\"], [0.8888888888888888, \"#fdca26\"], [1.0, \"#f0f921\"]]}, \"colorway\": [\"#636efa\", \"#EF553B\", \"#00cc96\", \"#ab63fa\", \"#FFA15A\", \"#19d3f3\", \"#FF6692\", \"#B6E880\", \"#FF97FF\", \"#FECB52\"], \"font\": {\"color\": \"#2a3f5f\"}, \"geo\": {\"bgcolor\": \"white\", \"lakecolor\": \"white\", \"landcolor\": \"#E5ECF6\", \"showlakes\": true, \"showland\": true, \"subunitcolor\": \"white\"}, \"hoverlabel\": {\"align\": \"left\"}, \"hovermode\": \"closest\", \"mapbox\": {\"style\": \"light\"}, \"paper_bgcolor\": \"white\", \"plot_bgcolor\": \"#E5ECF6\", \"polar\": {\"angularaxis\": {\"gridcolor\": \"white\", \"linecolor\": \"white\", \"ticks\": \"\"}, \"bgcolor\": \"#E5ECF6\", \"radialaxis\": {\"gridcolor\": \"white\", \"linecolor\": \"white\", \"ticks\": \"\"}}, \"scene\": {\"xaxis\": {\"backgroundcolor\": \"#E5ECF6\", \"gridcolor\": \"white\", \"gridwidth\": 2, \"linecolor\": \"white\", \"showbackground\": true, \"ticks\": \"\", \"zerolinecolor\": \"white\"}, \"yaxis\": {\"backgroundcolor\": \"#E5ECF6\", \"gridcolor\": \"white\", \"gridwidth\": 2, \"linecolor\": \"white\", \"showbackground\": true, \"ticks\": \"\", \"zerolinecolor\": \"white\"}, \"zaxis\": {\"backgroundcolor\": \"#E5ECF6\", \"gridcolor\": \"white\", \"gridwidth\": 2, \"linecolor\": \"white\", \"showbackground\": true, \"ticks\": \"\", \"zerolinecolor\": \"white\"}}, \"shapedefaults\": {\"line\": {\"color\": \"#2a3f5f\"}}, \"ternary\": {\"aaxis\": {\"gridcolor\": \"white\", \"linecolor\": \"white\", \"ticks\": \"\"}, \"baxis\": {\"gridcolor\": \"white\", \"linecolor\": \"white\", \"ticks\": \"\"}, \"bgcolor\": \"#E5ECF6\", \"caxis\": {\"gridcolor\": \"white\", \"linecolor\": \"white\", \"ticks\": \"\"}}, \"title\": {\"x\": 0.05}, \"xaxis\": {\"automargin\": true, \"gridcolor\": \"white\", \"linecolor\": \"white\", \"ticks\": \"\", \"title\": {\"standoff\": 15}, \"zerolinecolor\": \"white\", \"zerolinewidth\": 2}, \"yaxis\": {\"automargin\": true, \"gridcolor\": \"white\", \"linecolor\": \"white\", \"ticks\": \"\", \"title\": {\"standoff\": 15}, \"zerolinecolor\": \"white\", \"zerolinewidth\": 2}}}},                        {\"responsive\": true}                    ).then(function(){\n",
       "                            \n",
       "var gd = document.getElementById('a2464fb5-2da0-4382-aca6-c09101d2b296');\n",
       "var x = new MutationObserver(function (mutations, observer) {{\n",
       "        var display = window.getComputedStyle(gd).display;\n",
       "        if (!display || display === 'none') {{\n",
       "            console.log([gd, 'removed!']);\n",
       "            Plotly.purge(gd);\n",
       "            observer.disconnect();\n",
       "        }}\n",
       "}});\n",
       "\n",
       "// Listen for the removal of the full notebook cells\n",
       "var notebookContainer = gd.closest('#notebook-container');\n",
       "if (notebookContainer) {{\n",
       "    x.observe(notebookContainer, {childList: true});\n",
       "}}\n",
       "\n",
       "// Listen for the clearing of the current output cell\n",
       "var outputEl = gd.closest('.output');\n",
       "if (outputEl) {{\n",
       "    x.observe(outputEl, {childList: true});\n",
       "}}\n",
       "\n",
       "                        })                };                });            </script>        </div>"
      ]
     },
     "metadata": {},
     "output_type": "display_data"
    }
   ],
   "source": [
    "fig = go.Figure()\n",
    "for c in const.HIDDEN_STATE_COLS:\n",
    "    fig.add_trace(go.Scatter(x=df_hidden_states[c], y=df_hidden_states_pred[f'{c}_pred'],\n",
    "                        mode='markers',\n",
    "                        name=c))\n",
    "fig.show()"
   ]
  },
  {
   "cell_type": "code",
   "execution_count": 30,
   "metadata": {},
   "outputs": [
    {
     "data": {
      "text/plain": [
       "tensor([[ 378.,  937.,   49.],\n",
       "        [ 407.,  929.,   31.],\n",
       "        [ 309.,  926.,   41.],\n",
       "        [ 352., 1099.,   32.],\n",
       "        [ 431.,  979.,   28.],\n",
       "        [ 698.,  995.,   26.],\n",
       "        [ 319.,  975.,   27.],\n",
       "        [ 644.,  919.,   43.],\n",
       "        [ 495.,  941.,   42.],\n",
       "        [ 375.,  973.,   35.],\n",
       "        [ 316.,  964.,   46.],\n",
       "        [ 680., 1016.,   29.],\n",
       "        [ 338., 1083.,   35.],\n",
       "        [ 541., 1024.,   46.],\n",
       "        [ 652., 1095.,   41.],\n",
       "        [ 574., 1031.,   25.],\n",
       "        [ 568.,  996.,   33.],\n",
       "        [ 560.,  908.,   28.],\n",
       "        [ 608., 1068.,   27.],\n",
       "        [ 416.,  901.,   37.],\n",
       "        [ 688., 1049.,   33.],\n",
       "        [ 400., 1010.,   42.],\n",
       "        [ 352.,  927.,   35.],\n",
       "        [ 672.,  969.,   27.],\n",
       "        [ 410., 1048.,   31.],\n",
       "        [ 696., 1063.,   41.],\n",
       "        [ 759.,  947.,   49.],\n",
       "        [ 647., 1088.,   45.],\n",
       "        [ 305., 1069.,   45.],\n",
       "        [ 476.,  994.,   27.],\n",
       "        [ 486.,  921.,   48.],\n",
       "        [ 653.,  950.,   32.],\n",
       "        [ 620., 1098.,   41.],\n",
       "        [ 772., 1012.,   33.],\n",
       "        [ 414.,  907.,   37.],\n",
       "        [ 793., 1046.,   27.],\n",
       "        [ 487.,  964.,   33.],\n",
       "        [ 620.,  936.,   33.],\n",
       "        [ 565.,  921.,   42.],\n",
       "        [ 386., 1091.,   39.],\n",
       "        [ 498.,  935.,   36.],\n",
       "        [ 455.,  980.,   49.],\n",
       "        [ 406.,  978.,   25.],\n",
       "        [ 513., 1025.,   28.],\n",
       "        [ 468.,  996.,   27.],\n",
       "        [ 381., 1067.,   25.],\n",
       "        [ 783., 1029.,   44.],\n",
       "        [ 600.,  944.,   37.],\n",
       "        [ 426.,  908.,   43.],\n",
       "        [ 382., 1086.,   29.],\n",
       "        [ 337.,  925.,   45.],\n",
       "        [ 789., 1044.,   27.],\n",
       "        [ 355.,  988.,   41.],\n",
       "        [ 592.,  994.,   25.],\n",
       "        [ 382., 1028.,   30.],\n",
       "        [ 405., 1023.,   36.],\n",
       "        [ 493., 1044.,   43.],\n",
       "        [ 503., 1019.,   29.],\n",
       "        [ 582., 1071.,   39.],\n",
       "        [ 721.,  981.,   31.],\n",
       "        [ 584.,  922.,   42.],\n",
       "        [ 398.,  970.,   44.],\n",
       "        [ 593., 1028.,   29.],\n",
       "        [ 504.,  980.,   37.],\n",
       "        [ 767.,  980.,   45.],\n",
       "        [ 536.,  943.,   31.],\n",
       "        [ 704., 1054.,   34.],\n",
       "        [ 658., 1033.,   31.],\n",
       "        [ 489.,  955.,   25.],\n",
       "        [ 475.,  946.,   41.],\n",
       "        [ 741., 1056.,   29.],\n",
       "        [ 434., 1018.,   33.],\n",
       "        [ 592., 1089.,   40.],\n",
       "        [ 653., 1016.,   32.],\n",
       "        [ 571., 1007.,   28.],\n",
       "        [ 542.,  960.,   29.],\n",
       "        [ 406., 1033.,   33.],\n",
       "        [ 684.,  969.,   49.],\n",
       "        [ 398.,  992.,   30.],\n",
       "        [ 504.,  953.,   34.],\n",
       "        [ 398.,  998.,   26.],\n",
       "        [ 601., 1031.,   34.],\n",
       "        [ 590.,  927.,   30.],\n",
       "        [ 511., 1069.,   32.],\n",
       "        [ 426.,  975.,   25.],\n",
       "        [ 745.,  994.,   41.],\n",
       "        [ 766.,  956.,   39.],\n",
       "        [ 564.,  912.,   47.],\n",
       "        [ 766.,  921.,   48.],\n",
       "        [ 359.,  937.,   31.],\n",
       "        [ 551.,  904.,   45.],\n",
       "        [ 455.,  936.,   39.],\n",
       "        [ 313., 1062.,   47.],\n",
       "        [ 742.,  976.,   26.],\n",
       "        [ 415.,  980.,   33.],\n",
       "        [ 458.,  923.,   31.],\n",
       "        [ 688., 1012.,   25.],\n",
       "        [ 303., 1028.,   45.],\n",
       "        [ 380., 1058.,   45.],\n",
       "        [ 651.,  982.,   37.]])"
      ]
     },
     "execution_count": 30,
     "metadata": {},
     "output_type": "execute_result"
    }
   ],
   "source": [
    "hidden_states"
   ]
  },
  {
   "cell_type": "code",
   "execution_count": null,
   "metadata": {},
   "outputs": [],
   "source": []
  }
 ],
 "metadata": {
  "hide_input": false,
  "kernelspec": {
   "display_name": "Python 3",
   "language": "python",
   "name": "python3"
  },
  "language_info": {
   "codemirror_mode": {
    "name": "ipython",
    "version": 3
   },
   "file_extension": ".py",
   "mimetype": "text/x-python",
   "name": "python",
   "nbconvert_exporter": "python",
   "pygments_lexer": "ipython3",
   "version": "3.9.1"
  }
 },
 "nbformat": 4,
 "nbformat_minor": 4
}
