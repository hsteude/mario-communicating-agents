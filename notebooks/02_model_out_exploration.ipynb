{
 "cells": [
  {
   "cell_type": "code",
   "execution_count": null,
   "metadata": {},
   "outputs": [],
   "source": [
    "import os\n",
    "os.chdir('..')"
   ]
  },
  {
   "cell_type": "code",
   "execution_count": null,
   "metadata": {},
   "outputs": [],
   "source": [
    "from IPython.core.display import display, HTML\n",
    "display(HTML(\"<style>.container { width:100% !important; }</style>\"))"
   ]
  },
  {
   "cell_type": "code",
   "execution_count": null,
   "metadata": {},
   "outputs": [],
   "source": [
    "import torch\n",
    "import torchvision\n",
    "from pytorch_lightning.callbacks import ModelCheckpoint\n",
    "from src.model.lit_module import LitModule\n",
    "from src.data.dataset import VideoLabelDataset\n",
    "import src.constants as const\n",
    "import plotly.graph_objects as go\n",
    "from plotly.subplots import make_subplots\n",
    "from torch.utils.data import DataLoader\n",
    "from src.data.dataset import (VideoLabelDataset,\n",
    "                              VideoFolderPathToTensor,\n",
    "                              VideoResize)\n",
    "import plotly\n",
    "import numpy as np\n",
    "import pandas as pd\n",
    "import yaml\n",
    "import os\n",
    "%load_ext autoreload\n",
    "%autoreload 2"
   ]
  },
  {
   "cell_type": "code",
   "execution_count": null,
   "metadata": {},
   "outputs": [],
   "source": [
    "dataset = VideoLabelDataset(\n",
    "            const.LABELS_TABLE_QA_PATH,\n",
    "            img_transform=torchvision.transforms.Compose([\n",
    "                VideoFolderPathToTensor(),\n",
    "                VideoResize(const.IMG_SIZE)]))"
   ]
  },
  {
   "cell_type": "code",
   "execution_count": null,
   "metadata": {},
   "outputs": [],
   "source": [
    "dataloader = DataLoader(dataset, batch_size=100, num_workers=6)"
   ]
  },
  {
   "cell_type": "code",
   "execution_count": null,
   "metadata": {},
   "outputs": [],
   "source": [
    "MODEL_VERSION = 31\n",
    "hparams_path = f'./lightning_logs/version_{MODEL_VERSION}/hparams.yaml'\n",
    "with open(hparams_path, 'r') as stream:\n",
    "        hparam_dct = yaml.safe_load(stream)\n",
    "ckpt_file_name = os.listdir(f'./lightning_logs/version_{MODEL_VERSION}/checkpoints/')[-1]\n",
    "ckpt_file_path = f'./lightning_logs/version_{MODEL_VERSION}/checkpoints/{ckpt_file_name}'\n",
    "model = LitModule.load_from_checkpoint(ckpt_file_path)"
   ]
  },
  {
   "cell_type": "code",
   "execution_count": null,
   "metadata": {},
   "outputs": [],
   "source": [
    "videos, answers, hidden_states, vid_folder  = iter(dataloader).next()"
   ]
  },
  {
   "cell_type": "code",
   "execution_count": null,
   "metadata": {},
   "outputs": [],
   "source": [
    "hidden_states_pred = model.eval()(videos)"
   ]
  },
  {
   "cell_type": "code",
   "execution_count": null,
   "metadata": {},
   "outputs": [],
   "source": [
    "df_hidden_states_pred = pd.DataFrame(hidden_states_pred.detach().numpy(), columns=[f'lat_neuron_{c}' for c in range(4)])\n",
    "df_hidden_states = pd.DataFrame(hidden_states.detach().numpy(), columns=const.HIDDEN_STATE_COLS)"
   ]
  },
  {
   "cell_type": "code",
   "execution_count": null,
   "metadata": {},
   "outputs": [],
   "source": [
    "df_hidden_states"
   ]
  },
  {
   "cell_type": "code",
   "execution_count": null,
   "metadata": {},
   "outputs": [],
   "source": [
    "df_hidden_states_pred"
   ]
  },
  {
   "cell_type": "code",
   "execution_count": null,
   "metadata": {},
   "outputs": [],
   "source": [
    "fig = make_subplots(rows=1, cols=4)\n",
    "i=1\n",
    "for c1, c2 in zip(const.HIDDEN_STATE_COLS, ['lat_neuron_0', 'lat_neuron_1', 'lat_neuron_2', 'lat_neuron_3']):\n",
    "    fig.add_trace(go.Scatter(x=df_hidden_states[c1], y=df_hidden_states_pred[c2],\n",
    "                        mode='markers',\n",
    "                        marker_color='#1f77b4',\n",
    "                        name=f'{c1} over {c2}'), row=1, col=0+i)\n",
    "    i+=1\n",
    "fig.show()"
   ]
  },
  {
   "cell_type": "code",
   "execution_count": null,
   "metadata": {},
   "outputs": [],
   "source": []
  },
  {
   "cell_type": "code",
   "execution_count": null,
   "metadata": {},
   "outputs": [],
   "source": []
  },
  {
   "cell_type": "code",
   "execution_count": null,
   "metadata": {},
   "outputs": [],
   "source": []
  },
  {
   "cell_type": "code",
   "execution_count": null,
   "metadata": {},
   "outputs": [],
   "source": [
    "hidden_states_pred = model.eval()(videos)\n",
    "answers_pred = model._shared_eval(videos, questions)"
   ]
  },
  {
   "cell_type": "code",
   "execution_count": null,
   "metadata": {},
   "outputs": [],
   "source": [
    "df_answers_pred = pd.DataFrame(answers_pred.detach().numpy(), columns=[f'{c}_pred' for c in const.ANSWER_COLS])\n",
    "df_hidden_states_pred = pd.DataFrame(hidden_states_pred.detach().numpy(), columns=[f'lat_neuron_{c}' for c in range(4)])\n",
    "df_answers = pd.DataFrame(answers.detach().numpy(), columns=const.ANSWER_COLS)\n",
    "df_hidden_states = pd.DataFrame(hidden_states.detach().numpy(), columns=const.HIDDEN_STATE_COLS)\n",
    "df_questions = pd.DataFrame(questions.detach().numpy(), columns=[const.QUESTION_COL])"
   ]
  },
  {
   "cell_type": "code",
   "execution_count": null,
   "metadata": {},
   "outputs": [],
   "source": [
    "fig = make_subplots(rows=1, cols=4)\n",
    "for i, c in enumerate(const.ANSWER_COLS):\n",
    "    fig.add_trace(go.Scatter(x=df_answers[c], y=df_answers_pred[f'{c}_pred'],\n",
    "                        mode='markers',\n",
    "                        marker_color='#1f77b4',\n",
    "                        name=c), row=1, col=i+1)\n",
    "    fig.update_xaxes(title_text=c, row=1, col=i+1)\n",
    "fig.update_layout(title_text=\"Predicted answer over optimal answer\", width=1500, showlegend=False)\n",
    "fig.update_yaxes(title_text=\"Predicted answers\", col=1)\n",
    "fig.show()"
   ]
  },
  {
   "cell_type": "code",
   "execution_count": null,
   "metadata": {},
   "outputs": [],
   "source": [
    "fig = make_subplots(rows=1, cols=4)\n",
    "for i, c in enumerate(const.ANSWER_COLS):\n",
    "    fig.add_trace(go.Scatter(x=df_answers[c], y=df_answers_pred[f'{c}_pred'],\n",
    "                        mode='markers',\n",
    "                        marker_color='#1f77b4',\n",
    "                        name=c), row=1, col=i+1)\n",
    "    fig.update_xaxes(title_text=c, row=1, col=i+1)\n",
    "fig.update_layout(title_text=\"Predicted answer over optimal answer\", width=1500, showlegend=False)\n",
    "fig.update_yaxes(title_text=\"Predicted answers\", col=1)\n",
    "fig.show()"
   ]
  },
  {
   "cell_type": "code",
   "execution_count": null,
   "metadata": {},
   "outputs": [],
   "source": [
    "from plotly.subplots import make_subplots\n",
    "import plotly.graph_objects as go\n",
    "\n",
    "fig = make_subplots(rows=4, cols=4)\n",
    "\n",
    "for i, hs in enumerate(df_hidden_states.columns):\n",
    "    for j, hs_pred in enumerate(df_hidden_states_pred.columns):\n",
    "        fig.add_trace(go.Scatter(x=df_hidden_states[hs], y=df_hidden_states_pred[hs_pred],\n",
    "                            mode='markers', name=f'activation {hs_pred} over box_x',\n",
    "                                marker_color='#1f77b4'),\n",
    "                     row=i+1, col=j+1)\n",
    "\n",
    "# # Update xaxis properties\n",
    "for i in range(hparam_dct['enc_dim_lat_space']):\n",
    "    fig.update_xaxes(title_text=const.HIDDEN_STATE_COLS[0], row=1, col=i+1)\n",
    "    fig.update_xaxes(title_text=const.HIDDEN_STATE_COLS[1], row=2, col=i+1)\n",
    "    fig.update_xaxes(title_text=const.HIDDEN_STATE_COLS[2], row=3, col=i+1)\n",
    "#     fig.update_xaxes(title_text=const.HIDDEN_STATE_COLS[3], row=4, col=i+1)\n",
    "\n",
    "for l in range(len(const.HIDDEN_STATE_COLS)):\n",
    "        fig.update_yaxes(title_text=f\"Activation l_{l}\", row=l+1, col=1)\n",
    "\n",
    "fig.update_layout(height=1000, width=1200, title_text=\"Latent neuron activations vs. hidden states\", showlegend=False)\n",
    "fig.show()"
   ]
  },
  {
   "cell_type": "code",
   "execution_count": null,
   "metadata": {},
   "outputs": [],
   "source": [
    "from plotly.subplots import make_subplots\n",
    "import plotly.graph_objects as go\n",
    "\n",
    "fig = make_subplots(rows=4, cols=4)\n",
    "\n",
    "for i, hs in enumerate(df_hidden_states.columns):\n",
    "    for j, hs_pred in enumerate(df_hidden_states_pred.columns):\n",
    "        fig.add_trace(go.Scatter(x=df_hidden_states[hs], y=df_hidden_states_pred[hs_pred],\n",
    "                            mode='markers', name=f'activation {hs_pred} over box_x',\n",
    "                                marker_color='#1f77b4'),\n",
    "                     row=i+1, col=j+1)\n",
    "\n",
    "# # Update xaxis properties\n",
    "for i in range(hparam_dct['enc_dim_lat_space']):\n",
    "    fig.update_xaxes(title_text=const.HIDDEN_STATE_COLS[0], row=1, col=i+1)\n",
    "    fig.update_xaxes(title_text=const.HIDDEN_STATE_COLS[1], row=2, col=i+1)\n",
    "    fig.update_xaxes(title_text=const.HIDDEN_STATE_COLS[2], row=3, col=i+1)\n",
    "#     fig.update_xaxes(title_text=const.HIDDEN_STATE_COLS[3], row=4, col=i+1)\n",
    "\n",
    "for l in range(len(const.HIDDEN_STATE_COLS)):\n",
    "        fig.update_yaxes(title_text=f\"Activation l_{l}\", row=l+1, col=1)\n",
    "\n",
    "fig.update_layout(height=1000, width=1200, title_text=\"Latent neuron activations vs. hidden states\", showlegend=False)\n",
    "fig.show()"
   ]
  },
  {
   "cell_type": "code",
   "execution_count": null,
   "metadata": {},
   "outputs": [],
   "source": []
  }
 ],
 "metadata": {
  "hide_input": false,
  "kernelspec": {
   "display_name": "Python 3",
   "language": "python",
   "name": "python3"
  },
  "language_info": {
   "codemirror_mode": {
    "name": "ipython",
    "version": 3
   },
   "file_extension": ".py",
   "mimetype": "text/x-python",
   "name": "python",
   "nbconvert_exporter": "python",
   "pygments_lexer": "ipython3",
   "version": "3.9.4"
  }
 },
 "nbformat": 4,
 "nbformat_minor": 4
}
